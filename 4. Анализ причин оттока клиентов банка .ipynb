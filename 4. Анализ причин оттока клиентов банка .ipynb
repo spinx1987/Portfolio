{
 "cells": [
  {
   "cell_type": "markdown",
   "id": "93e83202",
   "metadata": {},
   "source": [
    "Ссылка на презентацию по проекту: https://drive.google.com/file/d/1QrGOBrCtUr3Mdd7Mlt7LqRL5Oe8Ixegi/view?usp=sharing"
   ]
  },
  {
   "cell_type": "markdown",
   "id": "0b86c569",
   "metadata": {},
   "source": [
    "# Анализ причин оттока клиентов банка \"Метанпром\" в Ярославской области"
   ]
  },
  {
   "cell_type": "markdown",
   "id": "468bd9c1",
   "metadata": {},
   "source": [
    "__Описание проекта:__\n",
    "\n",
    "Региональный банк испытывает проблему с оттоком клиентов. Нам нужно понять причины оттока. Разбить клиентов банка на группы(или сегменты) и понять какие группы наиболее склонны к \"оттоку\". Результатом нашего анализа целевых групп может стать набор рекомендаций для снижения оттока/удержания клиентов.\n",
    "\n",
    "__Цель проекта:__\n",
    "\n",
    "Снизить колличество клиентов, которые уходят в \"отток\".\n",
    "\n",
    "__Заказчик проекта:__\n",
    "\n",
    "Отдел маркетинга банка.\n",
    "\n",
    "__Конечный результат:__\n",
    "\n",
    "Рекомендации, полученные в результате анализа, которые помогут снизить отток и, возможно, вернуть ушедших клиентов. Рекомендации будут представлены в виде пдф-презентации."
   ]
  },
  {
   "cell_type": "markdown",
   "id": "ea18cd4c",
   "metadata": {},
   "source": [
    "__План работ__\n",
    "\n",
    "В ходе анализа нами будут выполнены следующие задачи, которые можно разбить на соответсвующие этапы.\n",
    "\n",
    "1) Этап предобработки данных:\n",
    "\n",
    "- загрузка необходимых библиотек;\n",
    "\n",
    "- загрузка датафрейма с информацией о клиентах банка;\n",
    "\n",
    "- приведение данных к нужным типам;\n",
    "\n",
    "- проверка данных на дубликаты;\n",
    "\n",
    "- проверка данных на пропуски. Попуски могут быть связанны как с техническим сбоем при заполнении, так и со спецификой данных. Мы проверим, есть ли какая-то зависимость между пропусками в столбце \"баланс\" и наличием банковских продуктов, владением кредитной картой, последней активностью и собственностью клиента; \n",
    "\n",
    "- перекодируем данные в столбцах с указаниям пола и города жителсьтва клиента. \n",
    "\n",
    "2) Этап анализа данных:\n",
    "\n",
    "- посмотрим на средния значения различных характеристик в группах с оттоком и без него;\n",
    "\n",
    "- построим гистограммы для оценки распределения различных характеристик клиентов;\n",
    "\n",
    "- построим корреляционную матрицу и определим, какие признаки влияют на отток. Визуализируем матрицу хитмепом;\n",
    "\n",
    "- визуализируем данные из датафрейма, чтобы выявить зависимости между различными признаками и целевым показателем. Построим графики displot для каждого признака с разбиением по оттоку. Построим парный графики для показателей зарплаты и возраста/количества продуктов;\n",
    "\n",
    "- опишем портрет отточного клиента. Полученные на этом этапе результаты лягут в основу сегментезации клиентов.\n",
    "\n",
    "3) Этап проверки гипотез:\n",
    "\n",
    "- проверим двустороннюю гипотезу о различиях в доходах ушедших и оставшихся клиентов;\n",
    "\n",
    "- проверим двухстороннюю гипотезу о различиях в количестве используемых баноквских продуктов ушедших и оставшихся клиентов.\n",
    "\n",
    "Для проверки гипотез будет использован t-test Стьюдента, т.к. обе выборки (клиенты оттока и лоялисты) количесвтенные; обе выборки независимые (не связанные между собой, т.к. ушедшие и оставшиеся клиенты - это разные люди). \n",
    "Уровень статистическо значимсоти будет задан как 0.01, т.к. количество наблюдений в наших выборках колеблется от нескольких сотен до нескольких тысяч.\n",
    "\n",
    "4) Этап сегментизации клиентов:\n",
    "\n",
    "- Разобьём клиентов на сегменты, чтобы определить отточность.\n",
    "\n",
    "5) Выводы и рекомендации. \n",
    "\n",
    "- После определния проблемных и успешных сегментов, будет составлена карта мероприятий для удержания клиентов. \n",
    "\n",
    "6) Создание презентации с результатами исследования."
   ]
  },
  {
   "cell_type": "markdown",
   "id": "b23fd73d",
   "metadata": {},
   "source": [
    "##  1. Предобработка данных"
   ]
  },
  {
   "cell_type": "markdown",
   "id": "730aea9e",
   "metadata": {},
   "source": [
    "Загрузим необходимые библиотеки "
   ]
  },
  {
   "cell_type": "code",
   "execution_count": 1,
   "id": "0880e6ae",
   "metadata": {},
   "outputs": [],
   "source": [
    "import warnings\n",
    "warnings.simplefilter('ignore') # Отключили варнинги - они меня пугают...\n",
    "\n",
    "import pandas as pd\n",
    "import matplotlib.pyplot as plt\n",
    "import seaborn as sns\n",
    "from scipy import stats as st\n",
    "import numpy as np\n",
    "#import math\n",
    "from sklearn.tree import DecisionTreeClassifier # Для построения Дерева решений\n",
    "from sklearn import tree # Для визуализации Дерева решений\n",
    "import statistics\n",
    "from statsmodels. stats.weightstats import ztest as ztest"
   ]
  },
  {
   "cell_type": "markdown",
   "id": "2e9039d3",
   "metadata": {},
   "source": [
    "Загрузим датасет, с которым будем работать"
   ]
  },
  {
   "cell_type": "code",
   "execution_count": 2,
   "id": "7ec98c5a",
   "metadata": {},
   "outputs": [],
   "source": [
    "path = \"https://drive.google.com/uc?export=download&id=1-U61mhTz_N1ARjy2XSAZ7IlQqGjeqP0F\"\n",
    "data = pd.read_csv(path)"
   ]
  },
  {
   "cell_type": "markdown",
   "id": "524e6092",
   "metadata": {},
   "source": [
    "Посмотрим на данные"
   ]
  },
  {
   "cell_type": "code",
   "execution_count": 3,
   "id": "d9521452",
   "metadata": {},
   "outputs": [
    {
     "name": "stdout",
     "output_type": "stream",
     "text": [
      "<class 'pandas.core.frame.DataFrame'>\n",
      "RangeIndex: 10000 entries, 0 to 9999\n",
      "Data columns (total 12 columns):\n",
      " #   Column         Non-Null Count  Dtype  \n",
      "---  ------         --------------  -----  \n",
      " 0   USERID         10000 non-null  int64  \n",
      " 1   score          10000 non-null  float64\n",
      " 2   city           10000 non-null  object \n",
      " 3   gender         10000 non-null  object \n",
      " 4   age            10000 non-null  int64  \n",
      " 5   equity         10000 non-null  int64  \n",
      " 6   balance        7705 non-null   float64\n",
      " 7   products       10000 non-null  int64  \n",
      " 8   credit_card    10000 non-null  int64  \n",
      " 9   last_activity  10000 non-null  int64  \n",
      " 10  EST_SALARY     10000 non-null  float64\n",
      " 11  churn          10000 non-null  int64  \n",
      "dtypes: float64(3), int64(7), object(2)\n",
      "memory usage: 937.6+ KB\n"
     ]
    },
    {
     "data": {
      "text/html": [
       "<div>\n",
       "<style scoped>\n",
       "    .dataframe tbody tr th:only-of-type {\n",
       "        vertical-align: middle;\n",
       "    }\n",
       "\n",
       "    .dataframe tbody tr th {\n",
       "        vertical-align: top;\n",
       "    }\n",
       "\n",
       "    .dataframe thead th {\n",
       "        text-align: right;\n",
       "    }\n",
       "</style>\n",
       "<table border=\"1\" class=\"dataframe\">\n",
       "  <thead>\n",
       "    <tr style=\"text-align: right;\">\n",
       "      <th></th>\n",
       "      <th>USERID</th>\n",
       "      <th>score</th>\n",
       "      <th>age</th>\n",
       "      <th>equity</th>\n",
       "      <th>balance</th>\n",
       "      <th>products</th>\n",
       "      <th>credit_card</th>\n",
       "      <th>last_activity</th>\n",
       "      <th>EST_SALARY</th>\n",
       "      <th>churn</th>\n",
       "    </tr>\n",
       "  </thead>\n",
       "  <tbody>\n",
       "    <tr>\n",
       "      <th>count</th>\n",
       "      <td>10000.00000</td>\n",
       "      <td>10000.000000</td>\n",
       "      <td>10000.000000</td>\n",
       "      <td>10000.000000</td>\n",
       "      <td>7.705000e+03</td>\n",
       "      <td>10000.000000</td>\n",
       "      <td>10000.000000</td>\n",
       "      <td>10000.000000</td>\n",
       "      <td>1.000000e+04</td>\n",
       "      <td>10000.000000</td>\n",
       "    </tr>\n",
       "    <tr>\n",
       "      <th>mean</th>\n",
       "      <td>171814.71260</td>\n",
       "      <td>848.409400</td>\n",
       "      <td>42.837100</td>\n",
       "      <td>2.627600</td>\n",
       "      <td>8.277943e+05</td>\n",
       "      <td>1.874100</td>\n",
       "      <td>0.680400</td>\n",
       "      <td>0.523500</td>\n",
       "      <td>1.478669e+05</td>\n",
       "      <td>0.182200</td>\n",
       "    </tr>\n",
       "    <tr>\n",
       "      <th>std</th>\n",
       "      <td>33708.23812</td>\n",
       "      <td>65.796312</td>\n",
       "      <td>12.128507</td>\n",
       "      <td>1.980836</td>\n",
       "      <td>1.980614e+06</td>\n",
       "      <td>0.799946</td>\n",
       "      <td>0.466345</td>\n",
       "      <td>0.499472</td>\n",
       "      <td>1.393885e+05</td>\n",
       "      <td>0.386029</td>\n",
       "    </tr>\n",
       "    <tr>\n",
       "      <th>min</th>\n",
       "      <td>94561.00000</td>\n",
       "      <td>642.000000</td>\n",
       "      <td>18.000000</td>\n",
       "      <td>0.000000</td>\n",
       "      <td>0.000000e+00</td>\n",
       "      <td>0.000000</td>\n",
       "      <td>0.000000</td>\n",
       "      <td>0.000000</td>\n",
       "      <td>2.546300e+03</td>\n",
       "      <td>0.000000</td>\n",
       "    </tr>\n",
       "    <tr>\n",
       "      <th>25%</th>\n",
       "      <td>142810.25000</td>\n",
       "      <td>801.000000</td>\n",
       "      <td>34.000000</td>\n",
       "      <td>0.000000</td>\n",
       "      <td>2.955542e+05</td>\n",
       "      <td>1.000000</td>\n",
       "      <td>0.000000</td>\n",
       "      <td>0.000000</td>\n",
       "      <td>7.525190e+04</td>\n",
       "      <td>0.000000</td>\n",
       "    </tr>\n",
       "    <tr>\n",
       "      <th>50%</th>\n",
       "      <td>172728.00000</td>\n",
       "      <td>853.000000</td>\n",
       "      <td>40.000000</td>\n",
       "      <td>3.000000</td>\n",
       "      <td>5.242722e+05</td>\n",
       "      <td>2.000000</td>\n",
       "      <td>1.000000</td>\n",
       "      <td>1.000000</td>\n",
       "      <td>1.196581e+05</td>\n",
       "      <td>0.000000</td>\n",
       "    </tr>\n",
       "    <tr>\n",
       "      <th>75%</th>\n",
       "      <td>201261.75000</td>\n",
       "      <td>900.000000</td>\n",
       "      <td>51.000000</td>\n",
       "      <td>4.000000</td>\n",
       "      <td>9.807058e+05</td>\n",
       "      <td>2.000000</td>\n",
       "      <td>1.000000</td>\n",
       "      <td>1.000000</td>\n",
       "      <td>1.745005e+05</td>\n",
       "      <td>0.000000</td>\n",
       "    </tr>\n",
       "    <tr>\n",
       "      <th>max</th>\n",
       "      <td>229145.00000</td>\n",
       "      <td>1000.000000</td>\n",
       "      <td>86.000000</td>\n",
       "      <td>9.000000</td>\n",
       "      <td>1.191136e+08</td>\n",
       "      <td>5.000000</td>\n",
       "      <td>1.000000</td>\n",
       "      <td>1.000000</td>\n",
       "      <td>1.395064e+06</td>\n",
       "      <td>1.000000</td>\n",
       "    </tr>\n",
       "  </tbody>\n",
       "</table>\n",
       "</div>"
      ],
      "text/plain": [
       "             USERID         score           age        equity       balance  \\\n",
       "count   10000.00000  10000.000000  10000.000000  10000.000000  7.705000e+03   \n",
       "mean   171814.71260    848.409400     42.837100      2.627600  8.277943e+05   \n",
       "std     33708.23812     65.796312     12.128507      1.980836  1.980614e+06   \n",
       "min     94561.00000    642.000000     18.000000      0.000000  0.000000e+00   \n",
       "25%    142810.25000    801.000000     34.000000      0.000000  2.955542e+05   \n",
       "50%    172728.00000    853.000000     40.000000      3.000000  5.242722e+05   \n",
       "75%    201261.75000    900.000000     51.000000      4.000000  9.807058e+05   \n",
       "max    229145.00000   1000.000000     86.000000      9.000000  1.191136e+08   \n",
       "\n",
       "           products   credit_card  last_activity    EST_SALARY         churn  \n",
       "count  10000.000000  10000.000000   10000.000000  1.000000e+04  10000.000000  \n",
       "mean       1.874100      0.680400       0.523500  1.478669e+05      0.182200  \n",
       "std        0.799946      0.466345       0.499472  1.393885e+05      0.386029  \n",
       "min        0.000000      0.000000       0.000000  2.546300e+03      0.000000  \n",
       "25%        1.000000      0.000000       0.000000  7.525190e+04      0.000000  \n",
       "50%        2.000000      1.000000       1.000000  1.196581e+05      0.000000  \n",
       "75%        2.000000      1.000000       1.000000  1.745005e+05      0.000000  \n",
       "max        5.000000      1.000000       1.000000  1.395064e+06      1.000000  "
      ]
     },
     "execution_count": 3,
     "metadata": {},
     "output_type": "execute_result"
    }
   ],
   "source": [
    "data.info()\n",
    "data.describe()"
   ]
  },
  {
   "cell_type": "markdown",
   "id": "4a18c2fa",
   "metadata": {},
   "source": [
    "Видим, что в столбце \"продукты\" есть значения равные \"0\", что странно - клиент банка должен иметь хотя бы один продукт."
   ]
  },
  {
   "cell_type": "code",
   "execution_count": 4,
   "id": "02a6460c",
   "metadata": {},
   "outputs": [
    {
     "data": {
      "text/html": [
       "<div>\n",
       "<style scoped>\n",
       "    .dataframe tbody tr th:only-of-type {\n",
       "        vertical-align: middle;\n",
       "    }\n",
       "\n",
       "    .dataframe tbody tr th {\n",
       "        vertical-align: top;\n",
       "    }\n",
       "\n",
       "    .dataframe thead th {\n",
       "        text-align: right;\n",
       "    }\n",
       "</style>\n",
       "<table border=\"1\" class=\"dataframe\">\n",
       "  <thead>\n",
       "    <tr style=\"text-align: right;\">\n",
       "      <th></th>\n",
       "      <th>USERID</th>\n",
       "      <th>score</th>\n",
       "      <th>city</th>\n",
       "      <th>gender</th>\n",
       "      <th>age</th>\n",
       "      <th>equity</th>\n",
       "      <th>balance</th>\n",
       "      <th>products</th>\n",
       "      <th>credit_card</th>\n",
       "      <th>last_activity</th>\n",
       "      <th>EST_SALARY</th>\n",
       "      <th>churn</th>\n",
       "    </tr>\n",
       "  </thead>\n",
       "  <tbody>\n",
       "    <tr>\n",
       "      <th>8957</th>\n",
       "      <td>147837</td>\n",
       "      <td>962.0</td>\n",
       "      <td>Рыбинск</td>\n",
       "      <td>Ж</td>\n",
       "      <td>79</td>\n",
       "      <td>3</td>\n",
       "      <td>NaN</td>\n",
       "      <td>0</td>\n",
       "      <td>0</td>\n",
       "      <td>0</td>\n",
       "      <td>25063.96</td>\n",
       "      <td>1</td>\n",
       "    </tr>\n",
       "  </tbody>\n",
       "</table>\n",
       "</div>"
      ],
      "text/plain": [
       "      USERID  score     city gender  age  equity  balance  products  \\\n",
       "8957  147837  962.0  Рыбинск      Ж   79       3      NaN         0   \n",
       "\n",
       "      credit_card  last_activity  EST_SALARY  churn  \n",
       "8957            0              0    25063.96      1  "
      ]
     },
     "execution_count": 4,
     "metadata": {},
     "output_type": "execute_result"
    }
   ],
   "source": [
    "data[data['products'] == 0]"
   ]
  },
  {
   "cell_type": "markdown",
   "id": "1d04df75",
   "metadata": {},
   "source": [
    "Из 10.000 клиентов только у одного 0 испольхуемых продуктов, но это клиент оттока. Возможно, это человек, который закрыл все продукты, или подал заявления на завершения обслуживания, или, в силу возраста, по естественным причинам не может быть клиентом банка. Думаю, что можем её удалить из датасета."
   ]
  },
  {
   "cell_type": "code",
   "execution_count": 3,
   "id": "9d5d93a7",
   "metadata": {},
   "outputs": [],
   "source": [
    "data = data.loc[data['products'] != 0]"
   ]
  },
  {
   "cell_type": "code",
   "execution_count": 6,
   "id": "35442722",
   "metadata": {},
   "outputs": [
    {
     "data": {
      "text/html": [
       "<div>\n",
       "<style scoped>\n",
       "    .dataframe tbody tr th:only-of-type {\n",
       "        vertical-align: middle;\n",
       "    }\n",
       "\n",
       "    .dataframe tbody tr th {\n",
       "        vertical-align: top;\n",
       "    }\n",
       "\n",
       "    .dataframe thead th {\n",
       "        text-align: right;\n",
       "    }\n",
       "</style>\n",
       "<table border=\"1\" class=\"dataframe\">\n",
       "  <thead>\n",
       "    <tr style=\"text-align: right;\">\n",
       "      <th></th>\n",
       "      <th>USERID</th>\n",
       "      <th>score</th>\n",
       "      <th>city</th>\n",
       "      <th>gender</th>\n",
       "      <th>age</th>\n",
       "      <th>equity</th>\n",
       "      <th>balance</th>\n",
       "      <th>products</th>\n",
       "      <th>credit_card</th>\n",
       "      <th>last_activity</th>\n",
       "      <th>EST_SALARY</th>\n",
       "      <th>churn</th>\n",
       "    </tr>\n",
       "  </thead>\n",
       "  <tbody>\n",
       "    <tr>\n",
       "      <th>0</th>\n",
       "      <td>183012</td>\n",
       "      <td>850.0</td>\n",
       "      <td>Рыбинск</td>\n",
       "      <td>Ж</td>\n",
       "      <td>25</td>\n",
       "      <td>1</td>\n",
       "      <td>59214.82</td>\n",
       "      <td>2</td>\n",
       "      <td>0</td>\n",
       "      <td>1</td>\n",
       "      <td>75719.14</td>\n",
       "      <td>1</td>\n",
       "    </tr>\n",
       "    <tr>\n",
       "      <th>1</th>\n",
       "      <td>146556</td>\n",
       "      <td>861.0</td>\n",
       "      <td>Рыбинск</td>\n",
       "      <td>Ж</td>\n",
       "      <td>37</td>\n",
       "      <td>5</td>\n",
       "      <td>850594.33</td>\n",
       "      <td>3</td>\n",
       "      <td>1</td>\n",
       "      <td>0</td>\n",
       "      <td>86621.77</td>\n",
       "      <td>0</td>\n",
       "    </tr>\n",
       "    <tr>\n",
       "      <th>2</th>\n",
       "      <td>120722</td>\n",
       "      <td>892.0</td>\n",
       "      <td>Рыбинск</td>\n",
       "      <td>Ж</td>\n",
       "      <td>30</td>\n",
       "      <td>0</td>\n",
       "      <td>NaN</td>\n",
       "      <td>1</td>\n",
       "      <td>1</td>\n",
       "      <td>1</td>\n",
       "      <td>107683.34</td>\n",
       "      <td>0</td>\n",
       "    </tr>\n",
       "    <tr>\n",
       "      <th>3</th>\n",
       "      <td>225363</td>\n",
       "      <td>866.0</td>\n",
       "      <td>Ярославль</td>\n",
       "      <td>Ж</td>\n",
       "      <td>51</td>\n",
       "      <td>5</td>\n",
       "      <td>1524746.26</td>\n",
       "      <td>2</td>\n",
       "      <td>0</td>\n",
       "      <td>1</td>\n",
       "      <td>174423.53</td>\n",
       "      <td>1</td>\n",
       "    </tr>\n",
       "    <tr>\n",
       "      <th>4</th>\n",
       "      <td>157978</td>\n",
       "      <td>730.0</td>\n",
       "      <td>Ярославль</td>\n",
       "      <td>М</td>\n",
       "      <td>34</td>\n",
       "      <td>5</td>\n",
       "      <td>174.00</td>\n",
       "      <td>1</td>\n",
       "      <td>1</td>\n",
       "      <td>0</td>\n",
       "      <td>67353.16</td>\n",
       "      <td>1</td>\n",
       "    </tr>\n",
       "  </tbody>\n",
       "</table>\n",
       "</div>"
      ],
      "text/plain": [
       "   USERID  score       city gender  age  equity     balance  products  \\\n",
       "0  183012  850.0    Рыбинск      Ж   25       1    59214.82         2   \n",
       "1  146556  861.0    Рыбинск      Ж   37       5   850594.33         3   \n",
       "2  120722  892.0    Рыбинск      Ж   30       0         NaN         1   \n",
       "3  225363  866.0  Ярославль      Ж   51       5  1524746.26         2   \n",
       "4  157978  730.0  Ярославль      М   34       5      174.00         1   \n",
       "\n",
       "   credit_card  last_activity  EST_SALARY  churn  \n",
       "0            0              1    75719.14      1  \n",
       "1            1              0    86621.77      0  \n",
       "2            1              1   107683.34      0  \n",
       "3            0              1   174423.53      1  \n",
       "4            1              0    67353.16      1  "
      ]
     },
     "execution_count": 6,
     "metadata": {},
     "output_type": "execute_result"
    }
   ],
   "source": [
    "data.head()"
   ]
  },
  {
   "cell_type": "markdown",
   "id": "601eca05",
   "metadata": {},
   "source": [
    "Видим, что: \n",
    "\n",
    "1) Названия столбцоа \"пляшут\". Для эстетики переведём их в \"змеиный\" регистр. \n",
    "\n",
    "2) В столбце \"balance\" есть пропуски. Поработаем с ними.\n",
    "\n",
    "3) Перекодируем значения в столбцах с полом и городом проживания."
   ]
  },
  {
   "cell_type": "markdown",
   "id": "9a21e33c",
   "metadata": {},
   "source": [
    "Приведём данные к нижнему регистру."
   ]
  },
  {
   "cell_type": "code",
   "execution_count": 4,
   "id": "04fa4ea1",
   "metadata": {},
   "outputs": [],
   "source": [
    "data.columns = data.columns.str.lower()"
   ]
  },
  {
   "cell_type": "markdown",
   "id": "95fe8edb",
   "metadata": {},
   "source": [
    "Сделаем срез по клиентам, у которых баланс неизвестен и опишем эти данные."
   ]
  },
  {
   "cell_type": "code",
   "execution_count": 8,
   "id": "187a5567",
   "metadata": {},
   "outputs": [
    {
     "data": {
      "text/html": [
       "<div>\n",
       "<style scoped>\n",
       "    .dataframe tbody tr th:only-of-type {\n",
       "        vertical-align: middle;\n",
       "    }\n",
       "\n",
       "    .dataframe tbody tr th {\n",
       "        vertical-align: top;\n",
       "    }\n",
       "\n",
       "    .dataframe thead th {\n",
       "        text-align: right;\n",
       "    }\n",
       "</style>\n",
       "<table border=\"1\" class=\"dataframe\">\n",
       "  <thead>\n",
       "    <tr style=\"text-align: right;\">\n",
       "      <th></th>\n",
       "      <th>userid</th>\n",
       "      <th>score</th>\n",
       "      <th>age</th>\n",
       "      <th>equity</th>\n",
       "      <th>balance</th>\n",
       "      <th>products</th>\n",
       "      <th>credit_card</th>\n",
       "      <th>last_activity</th>\n",
       "      <th>est_salary</th>\n",
       "      <th>churn</th>\n",
       "    </tr>\n",
       "  </thead>\n",
       "  <tbody>\n",
       "    <tr>\n",
       "      <th>count</th>\n",
       "      <td>2294.000000</td>\n",
       "      <td>2294.000000</td>\n",
       "      <td>2294.000000</td>\n",
       "      <td>2294.000000</td>\n",
       "      <td>0.0</td>\n",
       "      <td>2294.000000</td>\n",
       "      <td>2294.000000</td>\n",
       "      <td>2294.000000</td>\n",
       "      <td>2.294000e+03</td>\n",
       "      <td>2294.000000</td>\n",
       "    </tr>\n",
       "    <tr>\n",
       "      <th>mean</th>\n",
       "      <td>172080.011334</td>\n",
       "      <td>864.045772</td>\n",
       "      <td>41.833043</td>\n",
       "      <td>0.049695</td>\n",
       "      <td>NaN</td>\n",
       "      <td>1.162598</td>\n",
       "      <td>0.816042</td>\n",
       "      <td>0.549695</td>\n",
       "      <td>2.263979e+05</td>\n",
       "      <td>0.005231</td>\n",
       "    </tr>\n",
       "    <tr>\n",
       "      <th>std</th>\n",
       "      <td>33340.511155</td>\n",
       "      <td>90.928381</td>\n",
       "      <td>11.714459</td>\n",
       "      <td>0.217361</td>\n",
       "      <td>NaN</td>\n",
       "      <td>0.401888</td>\n",
       "      <td>0.387535</td>\n",
       "      <td>0.497633</td>\n",
       "      <td>1.997711e+05</td>\n",
       "      <td>0.072152</td>\n",
       "    </tr>\n",
       "    <tr>\n",
       "      <th>min</th>\n",
       "      <td>114182.000000</td>\n",
       "      <td>642.000000</td>\n",
       "      <td>18.000000</td>\n",
       "      <td>0.000000</td>\n",
       "      <td>NaN</td>\n",
       "      <td>1.000000</td>\n",
       "      <td>0.000000</td>\n",
       "      <td>0.000000</td>\n",
       "      <td>2.027403e+04</td>\n",
       "      <td>0.000000</td>\n",
       "    </tr>\n",
       "    <tr>\n",
       "      <th>25%</th>\n",
       "      <td>143091.750000</td>\n",
       "      <td>870.250000</td>\n",
       "      <td>33.000000</td>\n",
       "      <td>0.000000</td>\n",
       "      <td>NaN</td>\n",
       "      <td>1.000000</td>\n",
       "      <td>1.000000</td>\n",
       "      <td>0.000000</td>\n",
       "      <td>1.204182e+05</td>\n",
       "      <td>0.000000</td>\n",
       "    </tr>\n",
       "    <tr>\n",
       "      <th>50%</th>\n",
       "      <td>172713.500000</td>\n",
       "      <td>902.500000</td>\n",
       "      <td>39.000000</td>\n",
       "      <td>0.000000</td>\n",
       "      <td>NaN</td>\n",
       "      <td>1.000000</td>\n",
       "      <td>1.000000</td>\n",
       "      <td>1.000000</td>\n",
       "      <td>1.742028e+05</td>\n",
       "      <td>0.000000</td>\n",
       "    </tr>\n",
       "    <tr>\n",
       "      <th>75%</th>\n",
       "      <td>201554.000000</td>\n",
       "      <td>922.000000</td>\n",
       "      <td>49.000000</td>\n",
       "      <td>0.000000</td>\n",
       "      <td>NaN</td>\n",
       "      <td>1.000000</td>\n",
       "      <td>1.000000</td>\n",
       "      <td>1.000000</td>\n",
       "      <td>2.400706e+05</td>\n",
       "      <td>0.000000</td>\n",
       "    </tr>\n",
       "    <tr>\n",
       "      <th>max</th>\n",
       "      <td>229145.000000</td>\n",
       "      <td>990.000000</td>\n",
       "      <td>86.000000</td>\n",
       "      <td>1.000000</td>\n",
       "      <td>NaN</td>\n",
       "      <td>3.000000</td>\n",
       "      <td>1.000000</td>\n",
       "      <td>1.000000</td>\n",
       "      <td>1.333687e+06</td>\n",
       "      <td>1.000000</td>\n",
       "    </tr>\n",
       "  </tbody>\n",
       "</table>\n",
       "</div>"
      ],
      "text/plain": [
       "              userid        score          age       equity  balance  \\\n",
       "count    2294.000000  2294.000000  2294.000000  2294.000000      0.0   \n",
       "mean   172080.011334   864.045772    41.833043     0.049695      NaN   \n",
       "std     33340.511155    90.928381    11.714459     0.217361      NaN   \n",
       "min    114182.000000   642.000000    18.000000     0.000000      NaN   \n",
       "25%    143091.750000   870.250000    33.000000     0.000000      NaN   \n",
       "50%    172713.500000   902.500000    39.000000     0.000000      NaN   \n",
       "75%    201554.000000   922.000000    49.000000     0.000000      NaN   \n",
       "max    229145.000000   990.000000    86.000000     1.000000      NaN   \n",
       "\n",
       "          products  credit_card  last_activity    est_salary        churn  \n",
       "count  2294.000000  2294.000000    2294.000000  2.294000e+03  2294.000000  \n",
       "mean      1.162598     0.816042       0.549695  2.263979e+05     0.005231  \n",
       "std       0.401888     0.387535       0.497633  1.997711e+05     0.072152  \n",
       "min       1.000000     0.000000       0.000000  2.027403e+04     0.000000  \n",
       "25%       1.000000     1.000000       0.000000  1.204182e+05     0.000000  \n",
       "50%       1.000000     1.000000       1.000000  1.742028e+05     0.000000  \n",
       "75%       1.000000     1.000000       1.000000  2.400706e+05     0.000000  \n",
       "max       3.000000     1.000000       1.000000  1.333687e+06     1.000000  "
      ]
     },
     "execution_count": 8,
     "metadata": {},
     "output_type": "execute_result"
    }
   ],
   "source": [
    "equity = data[data['balance'].isna()]\n",
    "equity.describe()"
   ]
  },
  {
   "cell_type": "markdown",
   "id": "34feb238",
   "metadata": {},
   "source": [
    "Видим, что таких клиентов довольно много - 2295 человек (почти 23%) от всей выборки. \n",
    "Самые сильные различия с описанием общей выборки здесь, во-первых, в низком уровнем оттока - 0,5%. Во-вторых, в количестве собственности, т.к. в среднем по выборке это показателем равен 2,6, а здесь всего 0,05. Т.е., это клиенты у которых нет значимой сосбственности. "
   ]
  },
  {
   "cell_type": "code",
   "execution_count": 9,
   "id": "72bbf2b8",
   "metadata": {},
   "outputs": [
    {
     "data": {
      "text/html": [
       "<div>\n",
       "<style scoped>\n",
       "    .dataframe tbody tr th:only-of-type {\n",
       "        vertical-align: middle;\n",
       "    }\n",
       "\n",
       "    .dataframe tbody tr th {\n",
       "        vertical-align: top;\n",
       "    }\n",
       "\n",
       "    .dataframe thead th {\n",
       "        text-align: right;\n",
       "    }\n",
       "</style>\n",
       "<table border=\"1\" class=\"dataframe\">\n",
       "  <thead>\n",
       "    <tr style=\"text-align: right;\">\n",
       "      <th></th>\n",
       "      <th>userid</th>\n",
       "      <th>score</th>\n",
       "      <th>city</th>\n",
       "      <th>gender</th>\n",
       "      <th>age</th>\n",
       "      <th>equity</th>\n",
       "      <th>balance</th>\n",
       "      <th>products</th>\n",
       "      <th>credit_card</th>\n",
       "      <th>last_activity</th>\n",
       "      <th>est_salary</th>\n",
       "      <th>churn</th>\n",
       "    </tr>\n",
       "  </thead>\n",
       "  <tbody>\n",
       "    <tr>\n",
       "      <th>3900</th>\n",
       "      <td>179831</td>\n",
       "      <td>730.0</td>\n",
       "      <td>Ярославль</td>\n",
       "      <td>М</td>\n",
       "      <td>18</td>\n",
       "      <td>0</td>\n",
       "      <td>0.0</td>\n",
       "      <td>2</td>\n",
       "      <td>1</td>\n",
       "      <td>1</td>\n",
       "      <td>64548.33</td>\n",
       "      <td>0</td>\n",
       "    </tr>\n",
       "    <tr>\n",
       "      <th>6757</th>\n",
       "      <td>148456</td>\n",
       "      <td>813.0</td>\n",
       "      <td>Ярославль</td>\n",
       "      <td>М</td>\n",
       "      <td>20</td>\n",
       "      <td>2</td>\n",
       "      <td>0.0</td>\n",
       "      <td>2</td>\n",
       "      <td>1</td>\n",
       "      <td>0</td>\n",
       "      <td>23876.51</td>\n",
       "      <td>0</td>\n",
       "    </tr>\n",
       "  </tbody>\n",
       "</table>\n",
       "</div>"
      ],
      "text/plain": [
       "      userid  score       city gender  age  equity  balance  products  \\\n",
       "3900  179831  730.0  Ярославль      М   18       0      0.0         2   \n",
       "6757  148456  813.0  Ярославль      М   20       2      0.0         2   \n",
       "\n",
       "      credit_card  last_activity  est_salary  churn  \n",
       "3900            1              1    64548.33      0  \n",
       "6757            1              0    23876.51      0  "
      ]
     },
     "metadata": {},
     "output_type": "display_data"
    }
   ],
   "source": [
    "display(data[data['balance'] == 0])"
   ]
  },
  {
   "cell_type": "markdown",
   "id": "0d461e62",
   "metadata": {},
   "source": [
    "А количество клиентов, у которых на балансе \"0\" - всего 2 человека из 10000. При этом, у одного из них количесвто значимой собственности также равно \"0\".\n",
    "\n",
    "Думаю, что здесь имеет место либо какая-то банковская особенность связи собственности и баланса, либо технический сбой, когда у клиентов с нулевой сосбственностью на балансе тоже оказался \"0\".\n",
    "\n",
    "Теоретически у нас есть три варианта.\n",
    "\n",
    "Во-первых, удалить эти данные. Этот вариант отметаем, т.к. мы лишимся 23% выборки, что очень сильно исказит конечные результаты нашего исследования.\n",
    "\n",
    "Во-вторых, заполнить пропущенные значения средним значением по столбцу, которое у нас есть. \n",
    "\n",
    "В-третьих, заполнить пропущенные значения нулём. "
   ]
  },
  {
   "cell_type": "markdown",
   "id": "07142505",
   "metadata": {},
   "source": [
    "Построим графики собственности и количества исаользуемых продуктов в разрезе баланса."
   ]
  },
  {
   "cell_type": "code",
   "execution_count": 10,
   "id": "0180183d",
   "metadata": {},
   "outputs": [
    {
     "data": {
      "image/png": "[encoded data removed]",
      "text/plain": [
       "<Figure size 720x576 with 1 Axes>"
      ]
     },
     "metadata": {
      "needs_background": "light"
     },
     "output_type": "display_data"
    }
   ],
   "source": [
    "plt.figure(figsize=(10,8))\n",
    "sns.kdeplot(data=data, \n",
    "            hue=data.balance.isna().map({True:\"Пропуск\",False:\"Нет пропуска\"}),\n",
    "            x = \"equity\", common_norm=False)\\\n",
    "   .set( title=\"Собственность в разрезе наличия пропусков в балансе\")\n",
    "plt.show();"
   ]
  },
  {
   "cell_type": "code",
   "execution_count": 11,
   "id": "52c9abd5",
   "metadata": {},
   "outputs": [
    {
     "data": {
      "image/png": "[encoded data removed]",
      "text/plain": [
       "<Figure size 720x576 with 1 Axes>"
      ]
     },
     "metadata": {
      "needs_background": "light"
     },
     "output_type": "display_data"
    }
   ],
   "source": [
    "plt.figure(figsize=(10,8))\n",
    "sns.kdeplot(data=data, \n",
    "            hue=data.balance.isna().map({True:\"Пропуск\",False:\"Нет пропуска\"}),\n",
    "            x = \"products\", common_norm=False)\\\n",
    "   .set( title=\"Использование банковских продуктов в разрезе наличия пропусков в балансе\")\n",
    "plt.show();"
   ]
  },
  {
   "cell_type": "markdown",
   "id": "6be609fd",
   "metadata": {},
   "source": [
    "На графиках видим, что больше всего пропусков у тех клиентов, кто не имеет значимой собственности (возможно, учтённой при кредитовании или ипотеке), а также используют небольшое количество багнковских продуктов. \n",
    "\n",
    "Удалять строки с пропущенными значениями в столбце \"баланс\" мы не можем. Во-первых, это больше 20% всего датасета. Во-вторых, на графиках видна взаимосвязь отсутсвтие баланса и двух характеристик. \n",
    "Возможно, в банке приняты определённые условия по отражению баланса от собственности и используемых продуктов.\n",
    "\n",
    "Думаю, что пропущенные значения в графе \"баланс\" можно перекодировать на \"0\"."
   ]
  },
  {
   "cell_type": "code",
   "execution_count": 5,
   "id": "bbf5076b",
   "metadata": {},
   "outputs": [],
   "source": [
    "data['balance'] = data['balance'].fillna(0)"
   ]
  },
  {
   "cell_type": "markdown",
   "id": "e4abf632",
   "metadata": {},
   "source": [
    "Теперь перекодируем значения в стобцах с гендером и названием города. \n",
    "\n",
    "Для этого применим метод get.dummies"
   ]
  },
  {
   "cell_type": "code",
   "execution_count": 14,
   "id": "058aca80",
   "metadata": {},
   "outputs": [],
   "source": [
    "data['gender_new'] = data['gender']\n",
    "data['city_new'] = data['city']"
   ]
  },
  {
   "cell_type": "code",
   "execution_count": 15,
   "id": "22da0fb2",
   "metadata": {},
   "outputs": [],
   "source": [
    "data = pd.get_dummies(data, columns=['gender_new', 'city_new'],  dtype=int)  "
   ]
  },
  {
   "cell_type": "markdown",
   "id": "7ced6d15",
   "metadata": {},
   "source": [
    "Мы перекодировали категориальные характеристики в столбцах с полом и местом проживания. "
   ]
  },
  {
   "cell_type": "markdown",
   "id": "31648b8b",
   "metadata": {},
   "source": [
    "Теперь проверим данные на дубликаты."
   ]
  },
  {
   "cell_type": "code",
   "execution_count": 6,
   "id": "ac922075",
   "metadata": {},
   "outputs": [
    {
     "data": {
      "text/plain": [
       "1"
      ]
     },
     "execution_count": 6,
     "metadata": {},
     "output_type": "execute_result"
    }
   ],
   "source": [
    "data.duplicated().sum()\n"
   ]
  },
  {
   "cell_type": "markdown",
   "id": "58edb3f7",
   "metadata": {},
   "source": [
    "Всего один дубликат. Думаю, что можно его удалить. "
   ]
  },
  {
   "cell_type": "code",
   "execution_count": 7,
   "id": "55c1ebf6",
   "metadata": {},
   "outputs": [],
   "source": [
    "data = data.drop_duplicates()"
   ]
  },
  {
   "cell_type": "markdown",
   "id": "f165febf",
   "metadata": {},
   "source": [
    "Проверим столбец с id пользователей на неявные дубликаты."
   ]
  },
  {
   "cell_type": "code",
   "execution_count": 8,
   "id": "b291f9fd",
   "metadata": {},
   "outputs": [],
   "source": [
    "data = data.drop_duplicates(subset='userid')"
   ]
  },
  {
   "cell_type": "markdown",
   "id": "39a9b8cf",
   "metadata": {},
   "source": [
    "Мы провели предобработку данных. \n",
    "\n",
    "1) Привели названия столбцов к нижнему регистру.\n",
    "\n",
    "2) Заполнили пропуски в столбце \"баланс\" значением равным нулю.\n",
    "\n",
    "3) Перекодировали значенияв столбцах \"пол\" и \"город\",а также привели значения в них к целочисленным, чтобы можно было с ними работать в дальнейшем анализе.\n",
    "\n",
    "4) Избавились от дубликатов. \n",
    "\n",
    "После всех манипуляций осталось 9926 строк в датасете, т.е., мы потеряли менее 1% от первоначальных данных, что является приемлимой величиной.\n",
    "\n",
    "Можем переходить к этапу анализа данных."
   ]
  },
  {
   "cell_type": "markdown",
   "id": "b7f5a4b2",
   "metadata": {},
   "source": [
    "## 2. Аналих данных"
   ]
  },
  {
   "cell_type": "markdown",
   "id": "dc7cd8da",
   "metadata": {},
   "source": [
    "Ещё раз вызовем метод describe и составим портрет клиента по выборке."
   ]
  },
  {
   "cell_type": "code",
   "execution_count": 20,
   "id": "69d4cc5a",
   "metadata": {},
   "outputs": [
    {
     "data": {
      "text/html": [
       "<div>\n",
       "<style scoped>\n",
       "    .dataframe tbody tr th:only-of-type {\n",
       "        vertical-align: middle;\n",
       "    }\n",
       "\n",
       "    .dataframe tbody tr th {\n",
       "        vertical-align: top;\n",
       "    }\n",
       "\n",
       "    .dataframe thead th {\n",
       "        text-align: right;\n",
       "    }\n",
       "</style>\n",
       "<table border=\"1\" class=\"dataframe\">\n",
       "  <thead>\n",
       "    <tr style=\"text-align: right;\">\n",
       "      <th></th>\n",
       "      <th>userid</th>\n",
       "      <th>score</th>\n",
       "      <th>age</th>\n",
       "      <th>equity</th>\n",
       "      <th>balance</th>\n",
       "      <th>products</th>\n",
       "      <th>credit_card</th>\n",
       "      <th>last_activity</th>\n",
       "      <th>est_salary</th>\n",
       "      <th>churn</th>\n",
       "      <th>gender_new_Ж</th>\n",
       "      <th>gender_new_М</th>\n",
       "      <th>city_new_Ростов</th>\n",
       "      <th>city_new_Рыбинск</th>\n",
       "      <th>city_new_Ярославль</th>\n",
       "    </tr>\n",
       "  </thead>\n",
       "  <tbody>\n",
       "    <tr>\n",
       "      <th>count</th>\n",
       "      <td>9926.000000</td>\n",
       "      <td>9926.000000</td>\n",
       "      <td>9926.000000</td>\n",
       "      <td>9926.000000</td>\n",
       "      <td>9.926000e+03</td>\n",
       "      <td>9926.000000</td>\n",
       "      <td>9926.000000</td>\n",
       "      <td>9926.000000</td>\n",
       "      <td>9.926000e+03</td>\n",
       "      <td>9926.000000</td>\n",
       "      <td>9926.000000</td>\n",
       "      <td>9926.000000</td>\n",
       "      <td>9926.000000</td>\n",
       "      <td>9926.000000</td>\n",
       "      <td>9926.000000</td>\n",
       "    </tr>\n",
       "    <tr>\n",
       "      <th>mean</th>\n",
       "      <td>171741.484284</td>\n",
       "      <td>848.452549</td>\n",
       "      <td>42.829438</td>\n",
       "      <td>2.634596</td>\n",
       "      <td>6.402568e+05</td>\n",
       "      <td>1.875781</td>\n",
       "      <td>0.679831</td>\n",
       "      <td>0.523574</td>\n",
       "      <td>1.479038e+05</td>\n",
       "      <td>0.183357</td>\n",
       "      <td>0.498993</td>\n",
       "      <td>0.501007</td>\n",
       "      <td>0.143159</td>\n",
       "      <td>0.266069</td>\n",
       "      <td>0.590772</td>\n",
       "    </tr>\n",
       "    <tr>\n",
       "      <th>std</th>\n",
       "      <td>33697.332289</td>\n",
       "      <td>65.712585</td>\n",
       "      <td>12.121227</td>\n",
       "      <td>1.979382</td>\n",
       "      <td>1.779053e+06</td>\n",
       "      <td>0.800116</td>\n",
       "      <td>0.466565</td>\n",
       "      <td>0.499469</td>\n",
       "      <td>1.393674e+05</td>\n",
       "      <td>0.386978</td>\n",
       "      <td>0.500024</td>\n",
       "      <td>0.500024</td>\n",
       "      <td>0.350253</td>\n",
       "      <td>0.441923</td>\n",
       "      <td>0.491716</td>\n",
       "    </tr>\n",
       "    <tr>\n",
       "      <th>min</th>\n",
       "      <td>94561.000000</td>\n",
       "      <td>642.000000</td>\n",
       "      <td>18.000000</td>\n",
       "      <td>0.000000</td>\n",
       "      <td>0.000000e+00</td>\n",
       "      <td>1.000000</td>\n",
       "      <td>0.000000</td>\n",
       "      <td>0.000000</td>\n",
       "      <td>2.546300e+03</td>\n",
       "      <td>0.000000</td>\n",
       "      <td>0.000000</td>\n",
       "      <td>0.000000</td>\n",
       "      <td>0.000000</td>\n",
       "      <td>0.000000</td>\n",
       "      <td>0.000000</td>\n",
       "    </tr>\n",
       "    <tr>\n",
       "      <th>25%</th>\n",
       "      <td>142715.000000</td>\n",
       "      <td>801.000000</td>\n",
       "      <td>34.000000</td>\n",
       "      <td>0.000000</td>\n",
       "      <td>6.395782e+04</td>\n",
       "      <td>1.000000</td>\n",
       "      <td>0.000000</td>\n",
       "      <td>0.000000</td>\n",
       "      <td>7.525207e+04</td>\n",
       "      <td>0.000000</td>\n",
       "      <td>0.000000</td>\n",
       "      <td>0.000000</td>\n",
       "      <td>0.000000</td>\n",
       "      <td>0.000000</td>\n",
       "      <td>0.000000</td>\n",
       "    </tr>\n",
       "    <tr>\n",
       "      <th>50%</th>\n",
       "      <td>172654.000000</td>\n",
       "      <td>853.000000</td>\n",
       "      <td>40.000000</td>\n",
       "      <td>3.000000</td>\n",
       "      <td>3.765628e+05</td>\n",
       "      <td>2.000000</td>\n",
       "      <td>1.000000</td>\n",
       "      <td>1.000000</td>\n",
       "      <td>1.197154e+05</td>\n",
       "      <td>0.000000</td>\n",
       "      <td>0.000000</td>\n",
       "      <td>1.000000</td>\n",
       "      <td>0.000000</td>\n",
       "      <td>0.000000</td>\n",
       "      <td>1.000000</td>\n",
       "    </tr>\n",
       "    <tr>\n",
       "      <th>75%</th>\n",
       "      <td>201161.750000</td>\n",
       "      <td>900.000000</td>\n",
       "      <td>51.000000</td>\n",
       "      <td>4.000000</td>\n",
       "      <td>8.053314e+05</td>\n",
       "      <td>2.000000</td>\n",
       "      <td>1.000000</td>\n",
       "      <td>1.000000</td>\n",
       "      <td>1.746796e+05</td>\n",
       "      <td>0.000000</td>\n",
       "      <td>1.000000</td>\n",
       "      <td>1.000000</td>\n",
       "      <td>0.000000</td>\n",
       "      <td>1.000000</td>\n",
       "      <td>1.000000</td>\n",
       "    </tr>\n",
       "    <tr>\n",
       "      <th>max</th>\n",
       "      <td>229145.000000</td>\n",
       "      <td>1000.000000</td>\n",
       "      <td>86.000000</td>\n",
       "      <td>9.000000</td>\n",
       "      <td>1.191136e+08</td>\n",
       "      <td>5.000000</td>\n",
       "      <td>1.000000</td>\n",
       "      <td>1.000000</td>\n",
       "      <td>1.395064e+06</td>\n",
       "      <td>1.000000</td>\n",
       "      <td>1.000000</td>\n",
       "      <td>1.000000</td>\n",
       "      <td>1.000000</td>\n",
       "      <td>1.000000</td>\n",
       "      <td>1.000000</td>\n",
       "    </tr>\n",
       "  </tbody>\n",
       "</table>\n",
       "</div>"
      ],
      "text/plain": [
       "              userid        score          age       equity       balance  \\\n",
       "count    9926.000000  9926.000000  9926.000000  9926.000000  9.926000e+03   \n",
       "mean   171741.484284   848.452549    42.829438     2.634596  6.402568e+05   \n",
       "std     33697.332289    65.712585    12.121227     1.979382  1.779053e+06   \n",
       "min     94561.000000   642.000000    18.000000     0.000000  0.000000e+00   \n",
       "25%    142715.000000   801.000000    34.000000     0.000000  6.395782e+04   \n",
       "50%    172654.000000   853.000000    40.000000     3.000000  3.765628e+05   \n",
       "75%    201161.750000   900.000000    51.000000     4.000000  8.053314e+05   \n",
       "max    229145.000000  1000.000000    86.000000     9.000000  1.191136e+08   \n",
       "\n",
       "          products  credit_card  last_activity    est_salary        churn  \\\n",
       "count  9926.000000  9926.000000    9926.000000  9.926000e+03  9926.000000   \n",
       "mean      1.875781     0.679831       0.523574  1.479038e+05     0.183357   \n",
       "std       0.800116     0.466565       0.499469  1.393674e+05     0.386978   \n",
       "min       1.000000     0.000000       0.000000  2.546300e+03     0.000000   \n",
       "25%       1.000000     0.000000       0.000000  7.525207e+04     0.000000   \n",
       "50%       2.000000     1.000000       1.000000  1.197154e+05     0.000000   \n",
       "75%       2.000000     1.000000       1.000000  1.746796e+05     0.000000   \n",
       "max       5.000000     1.000000       1.000000  1.395064e+06     1.000000   \n",
       "\n",
       "       gender_new_Ж  gender_new_М  city_new_Ростов  city_new_Рыбинск  \\\n",
       "count   9926.000000   9926.000000      9926.000000       9926.000000   \n",
       "mean       0.498993      0.501007         0.143159          0.266069   \n",
       "std        0.500024      0.500024         0.350253          0.441923   \n",
       "min        0.000000      0.000000         0.000000          0.000000   \n",
       "25%        0.000000      0.000000         0.000000          0.000000   \n",
       "50%        0.000000      1.000000         0.000000          0.000000   \n",
       "75%        1.000000      1.000000         0.000000          1.000000   \n",
       "max        1.000000      1.000000         1.000000          1.000000   \n",
       "\n",
       "       city_new_Ярославль  \n",
       "count         9926.000000  \n",
       "mean             0.590772  \n",
       "std              0.491716  \n",
       "min              0.000000  \n",
       "25%              0.000000  \n",
       "50%              1.000000  \n",
       "75%              1.000000  \n",
       "max              1.000000  "
      ]
     },
     "execution_count": 20,
     "metadata": {},
     "output_type": "execute_result"
    }
   ],
   "source": [
    "data.describe()"
   ]
  },
  {
   "cell_type": "markdown",
   "id": "4660ab7e",
   "metadata": {},
   "source": [
    "В нашей выборке почти одинаковое количество мужчин и женшин. Средний возраст клиента 43 года, он живёт в Ярославле, имеет достаочно высокий кредитный рейтинг, у него в собственности в среднем 3 значимых объекта, он использует два банковских продукта, один из которых - это кредитная карта. Его зарплата составляет 148.000. "
   ]
  },
  {
   "cell_type": "markdown",
   "id": "30ddb357",
   "metadata": {},
   "source": [
    "Посмотрим на средние значения среди ушедших и среди оставшихся клиентов."
   ]
  },
  {
   "cell_type": "code",
   "execution_count": 21,
   "id": "8f5985d1",
   "metadata": {
    "scrolled": true
   },
   "outputs": [
    {
     "data": {
      "text/html": [
       "<div>\n",
       "<style scoped>\n",
       "    .dataframe tbody tr th:only-of-type {\n",
       "        vertical-align: middle;\n",
       "    }\n",
       "\n",
       "    .dataframe tbody tr th {\n",
       "        vertical-align: top;\n",
       "    }\n",
       "\n",
       "    .dataframe thead th {\n",
       "        text-align: right;\n",
       "    }\n",
       "</style>\n",
       "<table border=\"1\" class=\"dataframe\">\n",
       "  <thead>\n",
       "    <tr style=\"text-align: right;\">\n",
       "      <th></th>\n",
       "      <th>userid</th>\n",
       "      <th>score</th>\n",
       "      <th>age</th>\n",
       "      <th>equity</th>\n",
       "      <th>balance</th>\n",
       "      <th>products</th>\n",
       "      <th>credit_card</th>\n",
       "      <th>last_activity</th>\n",
       "      <th>est_salary</th>\n",
       "      <th>gender_new_Ж</th>\n",
       "      <th>gender_new_М</th>\n",
       "      <th>city_new_Ростов</th>\n",
       "      <th>city_new_Рыбинск</th>\n",
       "      <th>city_new_Ярославль</th>\n",
       "    </tr>\n",
       "    <tr>\n",
       "      <th>churn</th>\n",
       "      <th></th>\n",
       "      <th></th>\n",
       "      <th></th>\n",
       "      <th></th>\n",
       "      <th></th>\n",
       "      <th></th>\n",
       "      <th></th>\n",
       "      <th></th>\n",
       "      <th></th>\n",
       "      <th></th>\n",
       "      <th></th>\n",
       "      <th></th>\n",
       "      <th></th>\n",
       "      <th></th>\n",
       "    </tr>\n",
       "  </thead>\n",
       "  <tbody>\n",
       "    <tr>\n",
       "      <th>0</th>\n",
       "      <td>171917.272021</td>\n",
       "      <td>845.101530</td>\n",
       "      <td>43.154700</td>\n",
       "      <td>2.380952</td>\n",
       "      <td>5.311447e+05</td>\n",
       "      <td>1.762768</td>\n",
       "      <td>0.708858</td>\n",
       "      <td>0.483346</td>\n",
       "      <td>147811.174874</td>\n",
       "      <td>0.532445</td>\n",
       "      <td>0.467555</td>\n",
       "      <td>0.142117</td>\n",
       "      <td>0.272761</td>\n",
       "      <td>0.585122</td>\n",
       "    </tr>\n",
       "    <tr>\n",
       "      <th>1</th>\n",
       "      <td>170958.552747</td>\n",
       "      <td>863.377473</td>\n",
       "      <td>41.380769</td>\n",
       "      <td>3.764286</td>\n",
       "      <td>1.126225e+06</td>\n",
       "      <td>2.379121</td>\n",
       "      <td>0.550549</td>\n",
       "      <td>0.702747</td>\n",
       "      <td>148316.293071</td>\n",
       "      <td>0.350000</td>\n",
       "      <td>0.650000</td>\n",
       "      <td>0.147802</td>\n",
       "      <td>0.236264</td>\n",
       "      <td>0.615934</td>\n",
       "    </tr>\n",
       "  </tbody>\n",
       "</table>\n",
       "</div>"
      ],
      "text/plain": [
       "              userid       score        age    equity       balance  products  \\\n",
       "churn                                                                           \n",
       "0      171917.272021  845.101530  43.154700  2.380952  5.311447e+05  1.762768   \n",
       "1      170958.552747  863.377473  41.380769  3.764286  1.126225e+06  2.379121   \n",
       "\n",
       "       credit_card  last_activity     est_salary  gender_new_Ж  gender_new_М  \\\n",
       "churn                                                                          \n",
       "0         0.708858       0.483346  147811.174874      0.532445      0.467555   \n",
       "1         0.550549       0.702747  148316.293071      0.350000      0.650000   \n",
       "\n",
       "       city_new_Ростов  city_new_Рыбинск  city_new_Ярославль  \n",
       "churn                                                         \n",
       "0             0.142117          0.272761            0.585122  \n",
       "1             0.147802          0.236264            0.615934  "
      ]
     },
     "execution_count": 21,
     "metadata": {},
     "output_type": "execute_result"
    }
   ],
   "source": [
    "data.groupby('churn').mean()\n"
   ]
  },
  {
   "cell_type": "code",
   "execution_count": 22,
   "id": "17534f8e",
   "metadata": {},
   "outputs": [
    {
     "data": {
      "text/html": [
       "<div>\n",
       "<style scoped>\n",
       "    .dataframe tbody tr th:only-of-type {\n",
       "        vertical-align: middle;\n",
       "    }\n",
       "\n",
       "    .dataframe tbody tr th {\n",
       "        vertical-align: top;\n",
       "    }\n",
       "\n",
       "    .dataframe thead th {\n",
       "        text-align: right;\n",
       "    }\n",
       "</style>\n",
       "<table border=\"1\" class=\"dataframe\">\n",
       "  <thead>\n",
       "    <tr style=\"text-align: right;\">\n",
       "      <th></th>\n",
       "      <th>userid</th>\n",
       "      <th>score</th>\n",
       "      <th>city</th>\n",
       "      <th>gender</th>\n",
       "      <th>age</th>\n",
       "      <th>equity</th>\n",
       "      <th>balance</th>\n",
       "      <th>products</th>\n",
       "      <th>credit_card</th>\n",
       "      <th>last_activity</th>\n",
       "      <th>est_salary</th>\n",
       "      <th>gender_new_Ж</th>\n",
       "      <th>gender_new_М</th>\n",
       "      <th>city_new_Ростов</th>\n",
       "      <th>city_new_Рыбинск</th>\n",
       "      <th>city_new_Ярославль</th>\n",
       "    </tr>\n",
       "    <tr>\n",
       "      <th>churn</th>\n",
       "      <th></th>\n",
       "      <th></th>\n",
       "      <th></th>\n",
       "      <th></th>\n",
       "      <th></th>\n",
       "      <th></th>\n",
       "      <th></th>\n",
       "      <th></th>\n",
       "      <th></th>\n",
       "      <th></th>\n",
       "      <th></th>\n",
       "      <th></th>\n",
       "      <th></th>\n",
       "      <th></th>\n",
       "      <th></th>\n",
       "      <th></th>\n",
       "    </tr>\n",
       "  </thead>\n",
       "  <tbody>\n",
       "    <tr>\n",
       "      <th>0</th>\n",
       "      <td>229145</td>\n",
       "      <td>1000.0</td>\n",
       "      <td>Ярославль</td>\n",
       "      <td>М</td>\n",
       "      <td>86</td>\n",
       "      <td>9</td>\n",
       "      <td>1.191136e+08</td>\n",
       "      <td>5</td>\n",
       "      <td>1</td>\n",
       "      <td>1</td>\n",
       "      <td>1395064.45</td>\n",
       "      <td>1</td>\n",
       "      <td>1</td>\n",
       "      <td>1</td>\n",
       "      <td>1</td>\n",
       "      <td>1</td>\n",
       "    </tr>\n",
       "    <tr>\n",
       "      <th>1</th>\n",
       "      <td>229058</td>\n",
       "      <td>1000.0</td>\n",
       "      <td>Ярославль</td>\n",
       "      <td>М</td>\n",
       "      <td>75</td>\n",
       "      <td>9</td>\n",
       "      <td>6.486621e+07</td>\n",
       "      <td>5</td>\n",
       "      <td>1</td>\n",
       "      <td>1</td>\n",
       "      <td>1263028.49</td>\n",
       "      <td>1</td>\n",
       "      <td>1</td>\n",
       "      <td>1</td>\n",
       "      <td>1</td>\n",
       "      <td>1</td>\n",
       "    </tr>\n",
       "  </tbody>\n",
       "</table>\n",
       "</div>"
      ],
      "text/plain": [
       "       userid   score       city gender  age  equity       balance  products  \\\n",
       "churn                                                                          \n",
       "0      229145  1000.0  Ярославль      М   86       9  1.191136e+08         5   \n",
       "1      229058  1000.0  Ярославль      М   75       9  6.486621e+07         5   \n",
       "\n",
       "       credit_card  last_activity  est_salary  gender_new_Ж  gender_new_М  \\\n",
       "churn                                                                       \n",
       "0                1              1  1395064.45             1             1   \n",
       "1                1              1  1263028.49             1             1   \n",
       "\n",
       "       city_new_Ростов  city_new_Рыбинск  city_new_Ярославль  \n",
       "churn                                                         \n",
       "0                    1                 1                   1  \n",
       "1                    1                 1                   1  "
      ]
     },
     "execution_count": 22,
     "metadata": {},
     "output_type": "execute_result"
    }
   ],
   "source": [
    "data.groupby('churn').max()"
   ]
  },
  {
   "cell_type": "markdown",
   "id": "31914801",
   "metadata": {},
   "source": [
    "Видим, что на макисмальных значениях между отточными и лояльными есть разница в: возрасте, балансе и доходах. Максимальный возраст отточных клиентов ниже, чем лояльных. Это также праведливо для баланса и доходов.   "
   ]
  },
  {
   "cell_type": "markdown",
   "id": "d327a71b",
   "metadata": {},
   "source": [
    "Для категориальных признаков посмотрим моду."
   ]
  },
  {
   "cell_type": "code",
   "execution_count": 23,
   "id": "fc948604",
   "metadata": {},
   "outputs": [
    {
     "data": {
      "text/plain": [
       "ModeResult(mode=array(['Ярославль'], dtype=object), count=array([5864]))"
      ]
     },
     "execution_count": 23,
     "metadata": {},
     "output_type": "execute_result"
    }
   ],
   "source": [
    "st.mode(data['city'])"
   ]
  },
  {
   "cell_type": "markdown",
   "id": "1c2c1bc7",
   "metadata": {},
   "source": [
    "Больше всего клиентов из Ярославля"
   ]
  },
  {
   "cell_type": "code",
   "execution_count": 24,
   "id": "33c98414",
   "metadata": {},
   "outputs": [
    {
     "data": {
      "text/plain": [
       "ModeResult(mode=array(['М'], dtype=object), count=array([4973]))"
      ]
     },
     "execution_count": 24,
     "metadata": {},
     "output_type": "execute_result"
    }
   ],
   "source": [
    "st.mode(data['gender'])"
   ]
  },
  {
   "cell_type": "markdown",
   "id": "abfb884d",
   "metadata": {},
   "source": [
    "Больше всего клиентов мужчин."
   ]
  },
  {
   "cell_type": "markdown",
   "id": "dff3b8c1",
   "metadata": {},
   "source": [
    "Посмотрим на общее количество клиентов в группах"
   ]
  },
  {
   "cell_type": "code",
   "execution_count": 25,
   "id": "97c8cc06",
   "metadata": {},
   "outputs": [
    {
     "data": {
      "text/html": [
       "<div>\n",
       "<style scoped>\n",
       "    .dataframe tbody tr th:only-of-type {\n",
       "        vertical-align: middle;\n",
       "    }\n",
       "\n",
       "    .dataframe tbody tr th {\n",
       "        vertical-align: top;\n",
       "    }\n",
       "\n",
       "    .dataframe thead th {\n",
       "        text-align: right;\n",
       "    }\n",
       "</style>\n",
       "<table border=\"1\" class=\"dataframe\">\n",
       "  <thead>\n",
       "    <tr style=\"text-align: right;\">\n",
       "      <th></th>\n",
       "      <th>userid</th>\n",
       "      <th>score</th>\n",
       "      <th>city</th>\n",
       "      <th>gender</th>\n",
       "      <th>age</th>\n",
       "      <th>equity</th>\n",
       "      <th>balance</th>\n",
       "      <th>products</th>\n",
       "      <th>credit_card</th>\n",
       "      <th>last_activity</th>\n",
       "      <th>est_salary</th>\n",
       "      <th>gender_new_Ж</th>\n",
       "      <th>gender_new_М</th>\n",
       "      <th>city_new_Ростов</th>\n",
       "      <th>city_new_Рыбинск</th>\n",
       "      <th>city_new_Ярославль</th>\n",
       "    </tr>\n",
       "    <tr>\n",
       "      <th>churn</th>\n",
       "      <th></th>\n",
       "      <th></th>\n",
       "      <th></th>\n",
       "      <th></th>\n",
       "      <th></th>\n",
       "      <th></th>\n",
       "      <th></th>\n",
       "      <th></th>\n",
       "      <th></th>\n",
       "      <th></th>\n",
       "      <th></th>\n",
       "      <th></th>\n",
       "      <th></th>\n",
       "      <th></th>\n",
       "      <th></th>\n",
       "      <th></th>\n",
       "    </tr>\n",
       "  </thead>\n",
       "  <tbody>\n",
       "    <tr>\n",
       "      <th>0</th>\n",
       "      <td>8106</td>\n",
       "      <td>8106</td>\n",
       "      <td>8106</td>\n",
       "      <td>8106</td>\n",
       "      <td>8106</td>\n",
       "      <td>8106</td>\n",
       "      <td>8106</td>\n",
       "      <td>8106</td>\n",
       "      <td>8106</td>\n",
       "      <td>8106</td>\n",
       "      <td>8106</td>\n",
       "      <td>8106</td>\n",
       "      <td>8106</td>\n",
       "      <td>8106</td>\n",
       "      <td>8106</td>\n",
       "      <td>8106</td>\n",
       "    </tr>\n",
       "    <tr>\n",
       "      <th>1</th>\n",
       "      <td>1820</td>\n",
       "      <td>1820</td>\n",
       "      <td>1820</td>\n",
       "      <td>1820</td>\n",
       "      <td>1820</td>\n",
       "      <td>1820</td>\n",
       "      <td>1820</td>\n",
       "      <td>1820</td>\n",
       "      <td>1820</td>\n",
       "      <td>1820</td>\n",
       "      <td>1820</td>\n",
       "      <td>1820</td>\n",
       "      <td>1820</td>\n",
       "      <td>1820</td>\n",
       "      <td>1820</td>\n",
       "      <td>1820</td>\n",
       "    </tr>\n",
       "  </tbody>\n",
       "</table>\n",
       "</div>"
      ],
      "text/plain": [
       "       userid  score  city  gender   age  equity  balance  products  \\\n",
       "churn                                                                 \n",
       "0        8106   8106  8106    8106  8106    8106     8106      8106   \n",
       "1        1820   1820  1820    1820  1820    1820     1820      1820   \n",
       "\n",
       "       credit_card  last_activity  est_salary  gender_new_Ж  gender_new_М  \\\n",
       "churn                                                                       \n",
       "0             8106           8106        8106          8106          8106   \n",
       "1             1820           1820        1820          1820          1820   \n",
       "\n",
       "       city_new_Ростов  city_new_Рыбинск  city_new_Ярославль  \n",
       "churn                                                         \n",
       "0                 8106              8106                8106  \n",
       "1                 1820              1820                1820  "
      ]
     },
     "execution_count": 25,
     "metadata": {},
     "output_type": "execute_result"
    }
   ],
   "source": [
    "data.groupby('churn').count()"
   ]
  },
  {
   "cell_type": "markdown",
   "id": "dfe26b32",
   "metadata": {},
   "source": [
    "Первый беглый взгляд позволяет сделать следующие выводы.\n",
    "\n",
    "1) Уровень оттока в среднем составляет ~ 18%. Это достаточно высокий показатель.\n",
    "\n",
    "2) Среди оставшихся преобладают женщины, среди ушедших - мужчины. \n",
    "\n",
    "3) Возраст оставшихся и ушедших примерно равен. \n",
    "\n",
    "4) Ушедшие клиенты в среднем обладают большей собственностью, которую банк считает значимой. ~3.8 против ~2.4 \n",
    "\n",
    "5) Баланс ушедших клиентов выше, чем у лоялистов. \n",
    "\n",
    "6) Ушедшие клиенты пользуются большим количеством продуктов. 2.4 против 1.8 у оставшихся.\n",
    "\n",
    "7) В среднем тольуо каждый второй клиент из ушедших пользовался кредитной картой. Среди оставшихся клиентов доля пользователей кредиткой составляет 70%.\n",
    "\n",
    "8) Ушедшие клиенты за последнее время проявляли большую активность. Что это за активность нам не известно, но предположим, что она могла быть связана с выводом средств или закрытием банковских продуктов. \n",
    "\n",
    "9) Оцениваемая зарплата обеих групп приблизительно равна.\n",
    "\n",
    "10) Кредитный рейтинг отточных и лояльных клиентов примерно равен."
   ]
  },
  {
   "cell_type": "markdown",
   "id": "c187d6d3",
   "metadata": {},
   "source": [
    "Построим гистограммы количесвтенного распределения клиентов. Гистограммы в дальнейшем будем использоваттьь для разбиения клиентов на сегменты. "
   ]
  },
  {
   "cell_type": "code",
   "execution_count": 26,
   "id": "05bce97c",
   "metadata": {},
   "outputs": [
    {
     "data": {
      "image/png": "[encoded data removed]",
      "text/plain": [
       "<Figure size 1008x576 with 1 Axes>"
      ]
     },
     "metadata": {
      "needs_background": "light"
     },
     "output_type": "display_data"
    }
   ],
   "source": [
    "plt.figure(figsize=(14,8))\n",
    "data['score'].hist(bins=14)\n",
    "plt.xlabel('Скоринг', fontsize= 14)\n",
    "plt.xticks(rotation=45)\n",
    "plt.ylabel('Количество клиентов', fontsize=14)\n",
    "plt.title('Кредитный рейтинг', fontsize=16)\n",
    "plt.show();"
   ]
  },
  {
   "cell_type": "markdown",
   "id": "0d1fec4a",
   "metadata": {},
   "source": [
    "Большая часть клиентов имеет кредитный рейтинг в диапазоне от 770 до 930 единиц. Средний показатель по выборке - 848 единиц."
   ]
  },
  {
   "cell_type": "code",
   "execution_count": 27,
   "id": "a6f7c877",
   "metadata": {},
   "outputs": [
    {
     "data": {
      "image/png": "[encoded data removed]",
      "text/plain": [
       "<Figure size 1008x576 with 1 Axes>"
      ]
     },
     "metadata": {
      "needs_background": "light"
     },
     "output_type": "display_data"
    }
   ],
   "source": [
    "plt.figure(figsize=(14,8))\n",
    "data['city'].hist(bins=10)\n",
    "plt.xlabel('Города', fontsize= 14)\n",
    "plt.xticks(rotation=45)\n",
    "plt.ylabel('Количество клиентов', fontsize=14)\n",
    "plt.title('Города проживания', fontsize=16)\n",
    "plt.show();"
   ]
  },
  {
   "cell_type": "markdown",
   "id": "3fadbef3",
   "metadata": {},
   "source": [
    "В Ярославле проживает чуть больше представителей нашей выборки, чем в Рыбинске и Ростове вместе взятых."
   ]
  },
  {
   "cell_type": "code",
   "execution_count": 28,
   "id": "402db409",
   "metadata": {},
   "outputs": [
    {
     "data": {
      "image/png": "[encoded data removed]",
      "text/plain": [
       "<Figure size 1008x576 with 1 Axes>"
      ]
     },
     "metadata": {
      "needs_background": "light"
     },
     "output_type": "display_data"
    }
   ],
   "source": [
    "plt.figure(figsize=(14,8))\n",
    "data['age'].hist(bins=14)\n",
    "plt.xlabel('Возраст', fontsize= 14)\n",
    "plt.xticks(rotation=45)\n",
    "plt.ylabel('Количество клиентов', fontsize=14)\n",
    "plt.title('Возраст клиентов', fontsize=16)\n",
    "plt.show();"
   ]
  },
  {
   "cell_type": "markdown",
   "id": "2ebf9665",
   "metadata": {},
   "source": [
    "Большая часть наних клиентов - это люди в диапозоне от 28 до 45 лет. Затем большая группа от 46 до 62. Средний возраст клиентов по выборке - 42-43 года.  \n",
    "На основании графика можно задать следующее возрастное деление: до 27 лет, до 40 лет, до 50 лет, до 60 лет, 61+."
   ]
  },
  {
   "cell_type": "code",
   "execution_count": 29,
   "id": "132e4fe3",
   "metadata": {},
   "outputs": [
    {
     "data": {
      "image/png": "[encoded data removed]",
      "text/plain": [
       "<Figure size 1008x576 with 1 Axes>"
      ]
     },
     "metadata": {
      "needs_background": "light"
     },
     "output_type": "display_data"
    }
   ],
   "source": [
    "plt.figure(figsize=(14,8))\n",
    "data['equity'].hist(bins=8)\n",
    "plt.xlabel('Собственность', fontsize= 14)\n",
    "plt.xticks(rotation=45)\n",
    "plt.ylabel('Количество клиентов', fontsize=14)\n",
    "plt.title('Объекты в собственности', fontsize=16)\n",
    "plt.show();"
   ]
  },
  {
   "cell_type": "markdown",
   "id": "23d635b6",
   "metadata": {},
   "source": [
    "У большей части клиентов нет значимой собственности. Но, также много клиентов 3,4 и 5 значимыми объектами. \n",
    "Можно выделить следующие сегменты: 0 объектов в собственности, 1-2 объекта, 3-4 объекта, 5 и более. Среднее количество объектов в собственности составляет 2.6. "
   ]
  },
  {
   "cell_type": "code",
   "execution_count": 30,
   "id": "2eba2dc2",
   "metadata": {},
   "outputs": [
    {
     "data": {
      "image/png": "[encoded data removed]",
      "text/plain": [
       "<Figure size 1008x576 with 1 Axes>"
      ]
     },
     "metadata": {
      "needs_background": "light"
     },
     "output_type": "display_data"
    }
   ],
   "source": [
    "plt.figure(figsize=(14,8))\n",
    "data['products'].hist(bins=5)\n",
    "plt.xlabel('Продукты', fontsize= 14)\n",
    "plt.xticks(rotation=45)\n",
    "plt.ylabel('Количество клиентов', fontsize=14)\n",
    "plt.title('Количество используемых продуктов', fontsize=16)\n",
    "plt.show();"
   ]
  },
  {
   "cell_type": "markdown",
   "id": "16517b0a",
   "metadata": {},
   "source": [
    "Большая часть наших клиентов использует от одного до трёх банковских продуктов. На графике можно выделить три сегмента: использующие до 2-х продуктов включительно, использующие 3 продукта и свыше 3-х. Среднее количество используемых банковских продуктов составляет 1.8. "
   ]
  },
  {
   "cell_type": "code",
   "execution_count": 31,
   "id": "629db337",
   "metadata": {},
   "outputs": [
    {
     "data": {
      "image/png": "[encoded data removed]",
      "text/plain": [
       "<Figure size 1008x576 with 1 Axes>"
      ]
     },
     "metadata": {
      "needs_background": "light"
     },
     "output_type": "display_data"
    }
   ],
   "source": [
    "plt.figure(figsize=(14,8))\n",
    "data['est_salary'].hist(bins=30)\n",
    "plt.xlabel('Доходы', fontsize= 14)\n",
    "plt.xticks(rotation=45)\n",
    "plt.ylabel('Количество клиентов', fontsize=14)\n",
    "plt.title('Доходы клиентов', fontsize=16)\n",
    "plt.show();"
   ]
  },
  {
   "cell_type": "markdown",
   "id": "3c370bec",
   "metadata": {},
   "source": [
    "На графике видим, что почти 1200 клиентов имеет доход до 50.000. 2500 клиентов имеют доход свыше 50, но меньше 100.000. Почти 2500 клиентов имеют доход свыше 100.000, но меньше 150.000. Около 2000 клиентов имеют доход до 200.000. До 1000 клиентов имеют доход до 400.000. Оставшиеся клиенты - свыше 400.000. В среднем доход клиентов составляет 148.000. \n",
    "\n",
    "Думаю, что эти цифры можно использовать для категоризации клиентов по группам. "
   ]
  },
  {
   "cell_type": "markdown",
   "id": "b698dad5",
   "metadata": {},
   "source": [
    "Построим графики дохода клиентов и баланса на счёте в разрезе оттока"
   ]
  },
  {
   "cell_type": "code",
   "execution_count": 32,
   "id": "1540595e",
   "metadata": {},
   "outputs": [
    {
     "data": {
      "image/png": "[encoded data removed]",
      "text/plain": [
       "<Figure size 1008x576 with 1 Axes>"
      ]
     },
     "metadata": {
      "needs_background": "light"
     },
     "output_type": "display_data"
    },
    {
     "data": {
      "text/plain": [
       "''"
      ]
     },
     "execution_count": 32,
     "metadata": {},
     "output_type": "execute_result"
    }
   ],
   "source": [
    "plt.figure(figsize=(14,8))\n",
    "sns.histplot(data=data, x=\"est_salary\", hue=\"churn\", element=\"step\")\n",
    "plt.xlim([0, 6e5])\n",
    "plt.xlabel('Доходы клиентов', fontsize= 14)\n",
    "plt.xticks(rotation=45)\n",
    "plt.ylabel('Количество клиентов', fontsize=14)\n",
    "plt.title('Доходы в разрезе оттока', fontsize=16)\n",
    "plt.show()\n",
    ";"
   ]
  },
  {
   "cell_type": "markdown",
   "id": "958bdff3",
   "metadata": {},
   "source": [
    "На графике видим, что значительная часть клиентов имеет доход ок. 150.000. Отточные клиенты, судя по графику, имеют несколько больший доход. На больших величинах дохода количество отточных по отношению к общему количеству клиентов возрастает."
   ]
  },
  {
   "cell_type": "code",
   "execution_count": 33,
   "id": "e612dec7",
   "metadata": {},
   "outputs": [
    {
     "data": {
      "image/png": "[encoded data removed]",
      "text/plain": [
       "<Figure size 1008x576 with 1 Axes>"
      ]
     },
     "metadata": {
      "needs_background": "light"
     },
     "output_type": "display_data"
    },
    {
     "data": {
      "text/plain": [
       "''"
      ]
     },
     "execution_count": 33,
     "metadata": {},
     "output_type": "execute_result"
    }
   ],
   "source": [
    "plt.figure(figsize=(14,8))\n",
    "sns.histplot(data=data, x=\"balance\", hue=\"churn\", element=\"step\")\n",
    "plt.xlim([0, 1e6])\n",
    "plt.xlabel('Баланс клиентов', fontsize= 14)\n",
    "plt.xticks(rotation=45)\n",
    "plt.ylabel('Количество клиентов', fontsize=14)\n",
    "plt.title('Баланс на счёте в разрезе оттока', fontsize=16)\n",
    "plt.show()\n",
    ";"
   ]
  },
  {
   "cell_type": "markdown",
   "id": "5952fadd",
   "metadata": {},
   "source": [
    "На графике видим, что по мере увеличения баланса отточность возрастает. "
   ]
  },
  {
   "cell_type": "markdown",
   "id": "8411331e",
   "metadata": {},
   "source": [
    "Построи корреляционную матрицу, чтобы посмотреть, есть ли признаки зависимости между оттоком и различными характеристиками."
   ]
  },
  {
   "cell_type": "code",
   "execution_count": 34,
   "id": "d1e6e7ec",
   "metadata": {},
   "outputs": [
    {
     "data": {
      "image/png": "[encoded data removed]",
      "text/plain": [
       "<Figure size 1080x1080 with 2 Axes>"
      ]
     },
     "metadata": {
      "needs_background": "light"
     },
     "output_type": "display_data"
    }
   ],
   "source": [
    "corr_m = data.corr() \n",
    "\n",
    "plt.figure(figsize = (15, 15))\n",
    "sns.heatmap(data=corr_m, square= True, annot = True, cmap='coolwarm', center=0) \n",
    "plt.title('Матрица корреляций признаков', fontsize=16)\n",
    "plt.show()"
   ]
  },
  {
   "cell_type": "code",
   "execution_count": 35,
   "id": "99a134b6",
   "metadata": {},
   "outputs": [
    {
     "data": {
      "image/png": "[encoded data removed]",
      "text/plain": [
       "<Figure size 1080x1080 with 2 Axes>"
      ]
     },
     "metadata": {
      "needs_background": "light"
     },
     "output_type": "display_data"
    }
   ],
   "source": [
    "plt.figure(figsize = (15, 15))\n",
    "\n",
    "sns.heatmap(\n",
    "    corr_m.loc[:,['churn']].drop('churn').sort_values('churn'),\n",
    "    annot=True, fmt=\".0%\", cmap='coolwarm', center=0\n",
    ")\n",
    "plt.title('Корреляция оттока', fontsize=16)\n",
    "plt.show();"
   ]
  },
  {
   "cell_type": "markdown",
   "id": "b5c5c604",
   "metadata": {},
   "source": [
    "На корреляционный матрице видим, что существует прямая слабая зависимость между оттоком, с одной стороны, и количсетвом продуктов и собственностью, с другой.\n",
    "\n"
   ]
  },
  {
   "cell_type": "markdown",
   "id": "5803f5c3",
   "metadata": {},
   "source": [
    "Построим графики displot, чтобы визуализировать статистичсекие распределения"
   ]
  },
  {
   "cell_type": "code",
   "execution_count": 36,
   "id": "4af5b882",
   "metadata": {
    "scrolled": false
   },
   "outputs": [
    {
     "data": {
      "text/plain": [
       "<Figure size 720x360 with 0 Axes>"
      ]
     },
     "metadata": {},
     "output_type": "display_data"
    },
    {
     "data": {
      "image/png": "[encoded data removed]",
      "text/plain": [
       "<Figure size 402.375x360 with 1 Axes>"
      ]
     },
     "metadata": {
      "needs_background": "light"
     },
     "output_type": "display_data"
    },
    {
     "data": {
      "image/png": "[encoded data removed]",
      "text/plain": [
       "<Figure size 402.375x360 with 1 Axes>"
      ]
     },
     "metadata": {
      "needs_background": "light"
     },
     "output_type": "display_data"
    },
    {
     "data": {
      "image/png": "[encoded data removed]",
      "text/plain": [
       "<Figure size 402.375x360 with 1 Axes>"
      ]
     },
     "metadata": {
      "needs_background": "light"
     },
     "output_type": "display_data"
    },
    {
     "data": {
      "image/png": "[encoded data removed]",
      "text/plain": [
       "<Figure size 402.375x360 with 1 Axes>"
      ]
     },
     "metadata": {
      "needs_background": "light"
     },
     "output_type": "display_data"
    },
    {
     "data": {
      "image/png": "[encoded data removed]",
      "text/plain": [
       "<Figure size 402.375x360 with 1 Axes>"
      ]
     },
     "metadata": {
      "needs_background": "light"
     },
     "output_type": "display_data"
    },
    {
     "data": {
      "image/png": "[encoded data removed]",
      "text/plain": [
       "<Figure size 402.375x360 with 1 Axes>"
      ]
     },
     "metadata": {
      "needs_background": "light"
     },
     "output_type": "display_data"
    },
    {
     "data": {
      "image/png": "[encoded data removed]",
      "text/plain": [
       "<Figure size 402.375x360 with 1 Axes>"
      ]
     },
     "metadata": {
      "needs_background": "light"
     },
     "output_type": "display_data"
    },
    {
     "data": {
      "image/png": "[encoded data removed]",
      "text/plain": [
       "<Figure size 402.375x360 with 1 Axes>"
      ]
     },
     "metadata": {
      "needs_background": "light"
     },
     "output_type": "display_data"
    }
   ],
   "source": [
    "plt.figure(figsize=(10, 5))\n",
    "for feature in ['age', 'gender', 'score', 'city', 'equity', 'products', 'last_activity', 'credit_card']:\n",
    "    \n",
    "    \n",
    "    sns.displot(data=data, x=data[feature], hue=\"churn\", multiple=\"fill\")\n",
    "    plt.axhline(y=0.18, color='r', linestyle='-')\n",
    "    plt.title(feature)\n",
    "    \n",
    "plt.show();"
   ]
  },
  {
   "cell_type": "markdown",
   "id": "02201657",
   "metadata": {},
   "source": [
    "По графикам можем сделать следующие выводы. \n",
    "\n",
    "1) Самый большой отток среди клиентов, чей кредитный рейтинг лежит в диапозоне от 830 до 890 единиц.\n",
    "\n",
    "2) Уровень оттока в городах примерно равный. \n",
    "\n",
    "3) Уровень оттока среди мужчин заметно выше, чем среди женщин. \n",
    "\n",
    "4) Если рассматривать возрастное деление, то отток резко \"прыгает\" среди клиентов в возрастной группе от 26 до 35, а потом спадает. Потом происходит \"всплеск\" оттока среди клиентов, кому за 50, но меньше 60 лет. Последний \"всплеск\" оттока, при этом достаточно сильный, наблюдается около 80 лет. Тут сразу следует сказать, что на эту группу может в принципе приходится не так много клиентов ввиду очень высокого возраста.\n",
    "\n",
    "5) Если посмотреть на график с количеством значимой собственности, то тут виден своего рода тренд: чем больше собственности, тем выше отток. \n",
    "\n",
    "6) Схожая история с количеством банковских продуктов. Тех у кого их нет - самый высокий отток, что логично. Но затем с количеством продуктов растёт и отток. Возможно, с количеством используемых банковских услуг растёт и неудовлетворённость клиентов от работы банка. Возможно, по скольку мы не знаем, что это за продукты, растёт и закредитованность клиентов и они ищут пути рефинансирования кредитов в других организациях. \n",
    "\n",
    "7) Среди лоялистов доля пользователей кредиток почти в два раза выше. \n",
    "\n",
    "8) Отточные клиенты проявляли большую активность за последнее время. \n",
    "\n"
   ]
  },
  {
   "cell_type": "markdown",
   "id": "bf6e3d72",
   "metadata": {},
   "source": [
    "__Портреты отточных и лояльных клиентов__\n",
    "\n",
    "Далее будут указаны стратегические черты двух групп клиентов по характеристике оттока, которые лягут в основу портретов.\n",
    "\n",
    "1. Отточный клиент.\n",
    "Это мужчина. 41 года. Имеет ценную собственность. Имеет баланс свыше 100.000. Использвет более двух банковских продуктов. Но, кредитной картой пользуется не так часто. Активен.\n",
    "\n",
    "2. Лояльный клиент.\n",
    "Женщина. 43 года. Имеет мало ценной собственности. Баланс на счёте равен ~75.000. Использует 1-2 банковских продукта, один и которых - это кредитка. Не активна. \n",
    "\n",
    "Выскажем точку зрения, что лояльные клиенты имеют зарплатный проект в банке или просто офрмляют кредитку, ккоторой не пользуются, про запас или \"на всякий случай\". Отточные клиенты - это пользователи дорогих и высокорисковых продуктов."
   ]
  },
  {
   "cell_type": "markdown",
   "id": "7dda0e5d",
   "metadata": {},
   "source": [
    "## 3. Проверка гипотез. "
   ]
  },
  {
   "cell_type": "markdown",
   "id": "2108bc53",
   "metadata": {},
   "source": [
    "Для понимания природы оттока проверим гипотезу о том, что есть различия в доходах клиентов.\n",
    "\n",
    "Н0 - средний доход лояльных и отточных клиентов НЕ ОТЛИЧАЕТСЯ. \n",
    "\n",
    "H1 - средний доход лояльных и отточных клиентов ОТЛИЧАЕТСЯ.\n",
    "\n",
    "Наши выборки количественные, независимые, достаточно большие. Тест Сттюдента будет работать как при нормальном распределении, так и нет, благодаря эффекту Центральной придельной теореме (нормальные выборочные средние, полученные из выборки). Будем использовать тест Стьдента с уровень статистическо значимсоти р=0.01, т.к. количество наблюдений в наших выборках колеблется от нескольких сотен до нескольких тысяч."
   ]
  },
  {
   "cell_type": "code",
   "execution_count": 37,
   "id": "1221583a",
   "metadata": {},
   "outputs": [
    {
     "name": "stdout",
     "output_type": "stream",
     "text": [
      "p-значение: 0.8888831438540152\n",
      "Не получилось отвергнуть нулевую гипотезу\n"
     ]
    }
   ],
   "source": [
    "alpha = .01 \n",
    "\n",
    "results = st.ttest_ind(data[data['churn']==1]['est_salary'], data[data['churn']==0]['est_salary'])\n",
    "\n",
    "print('p-значение:', results.pvalue)\n",
    "\n",
    "if results.pvalue < alpha:\n",
    "    print(\"Отвергаем нулевую гипотезу\")\n",
    "else:\n",
    "    print(\"Не получилось отвергнуть нулевую гипотезу\") "
   ]
  },
  {
   "cell_type": "markdown",
   "id": "658e8ad0",
   "metadata": {},
   "source": [
    "Нам не удалось найти статистической значимости в зарплате двух групп клиентов. Нулеву гипотезу о равентсве мы отвергнуть не можем."
   ]
  },
  {
   "cell_type": "markdown",
   "id": "a0eeff6c",
   "metadata": {},
   "source": [
    "Проверим Гипотезу критерием Манна-Уитни"
   ]
  },
  {
   "cell_type": "code",
   "execution_count": 38,
   "id": "8180925a",
   "metadata": {},
   "outputs": [
    {
     "name": "stdout",
     "output_type": "stream",
     "text": [
      "p-значение: 0.00021325647213235127\n",
      "Отвергаем нулевую гипотезу\n"
     ]
    }
   ],
   "source": [
    "alpha = .01\n",
    "\n",
    "results = st.mannwhitneyu(data[data['churn']==1]['est_salary'], data[data['churn']==0]['est_salary'])\n",
    "\n",
    "print('p-значение:', results.pvalue)\n",
    "\n",
    "if results.pvalue < alpha:\n",
    "    print(\"Отвергаем нулевую гипотезу\")\n",
    "else:\n",
    "    print(\"Не получилось отвергнуть нулевую гипотезу\") "
   ]
  },
  {
   "cell_type": "markdown",
   "id": "a64d9ff4",
   "metadata": {},
   "source": [
    "Проверка дала отрицательный результат. Возможно, это связано с большей мощностью теста Манна-Уитни и, как следсвие, увеличенным шансом получить ошибку первого рода."
   ]
  },
  {
   "cell_type": "markdown",
   "id": "afddf18e",
   "metadata": {},
   "source": [
    "Проанализированные в предыдущем разделе графики, дают основания полагать, что среди отточных и лояльных клиентов есть разница в количестве используемых банковских продуктов. \n",
    "\n",
    "Тогда: \n",
    "\n",
    "Н0 - среднее количество используемых банковских продуктов лояльных и отточных клиентов НЕ ОТЛИЧАЕТСЯ. \n",
    "\n",
    "H1 - среднее количество используемых банковских продуктов лояльных и отточных клиентов ОТЛИЧАЕТСЯ.\n",
    "\n",
    "Наши выборки количественные и независимые. Будем использовать тест Стьдента с уровень статистическо значимсоти р=0.01, т.к. количество наблюдений в наших выборках колеблется от нескольких сотен до нескольких тысяч."
   ]
  },
  {
   "cell_type": "code",
   "execution_count": 39,
   "id": "34e19dd9",
   "metadata": {},
   "outputs": [
    {
     "name": "stdout",
     "output_type": "stream",
     "text": [
      "p-значение: 7.595802049899419e-203\n",
      "Отвергаем нулевую гипотезу\n"
     ]
    }
   ],
   "source": [
    "alpha = .01\n",
    "\n",
    "results = st.ttest_ind(data[data['churn']==1]['products'], data[data['churn']==0]['products'])\n",
    "\n",
    "print('p-значение:', results.pvalue)\n",
    "\n",
    "if results.pvalue < alpha:\n",
    "    print(\"Отвергаем нулевую гипотезу\")\n",
    "else:\n",
    "    print(\"Не получилось отвергнуть нулевую гипотезу\") "
   ]
  },
  {
   "cell_type": "markdown",
   "id": "642533c3",
   "metadata": {},
   "source": [
    "Гипотезу о том, что уровень потребеления банковских продуктов лояльными и отточными клиентами одинаков, отвергаем."
   ]
  },
  {
   "cell_type": "markdown",
   "id": "49d6607b",
   "metadata": {},
   "source": [
    "Проверим нашу гипотезу методом z-тест."
   ]
  },
  {
   "cell_type": "code",
   "execution_count": 40,
   "id": "193fc17a",
   "metadata": {},
   "outputs": [
    {
     "data": {
      "text/plain": [
       "(31.111058339684025, 1.7069002618347433e-212)"
      ]
     },
     "execution_count": 40,
     "metadata": {},
     "output_type": "execute_result"
    }
   ],
   "source": [
    "alpha = .05\n",
    "\n",
    "results = ztest(data[data['churn']==1]['products'], data[data['churn']==0]['products'], value =0)\n",
    "\n",
    "results\n"
   ]
  },
  {
   "cell_type": "markdown",
   "id": "bb3b6d9a",
   "metadata": {},
   "source": [
    "Полученное значение p сильно меньше, чем alpha у на есть все основания, чтобы отвергнут нулевую гипотезу."
   ]
  },
  {
   "cell_type": "markdown",
   "id": "9d63d332",
   "metadata": {},
   "source": [
    "## 4. Сегментация."
   ]
  },
  {
   "cell_type": "markdown",
   "id": "a582f0fa",
   "metadata": {},
   "source": [
    "Целью сегментации будет, на основании графиков, таблиц и средних значений, сформировать достаточно компактные сегменты клиентов, где есть проблема оттока. Понять, с чем связано это поведение, и предложить решение проблемы."
   ]
  },
  {
   "cell_type": "markdown",
   "id": "da432ca5",
   "metadata": {},
   "source": [
    "Сегментировать будем клиентов будем по: полу (уже есть), по количество собвственности, по количеству используемых продуктов, по возрасту, по наличию кредитной карты, по активности (уже есть)."
   ]
  },
  {
   "cell_type": "markdown",
   "id": "b287da8a",
   "metadata": {},
   "source": [
    "Разделим клиентов на возрастные группы, опираясь на средние значения и графики: до 27 лет, до 35, до 40 лет, до 50 лет, до 60 лет, 61+."
   ]
  },
  {
   "cell_type": "code",
   "execution_count": 42,
   "id": "e01ce015",
   "metadata": {},
   "outputs": [],
   "source": [
    "def age_sort(data):\n",
    "    age = data['age']\n",
    "    \n",
    "    if age <= 27:\n",
    "        return \"18-27\"\n",
    "    if age <= 35:\n",
    "        return \"28-35\"\n",
    "    if age <= 40:\n",
    "        return \"36-40\"\n",
    "    if age <= 50:\n",
    "        return \"41-50\"\n",
    "    if age <= 60:\n",
    "        return \"51-60\"\n",
    "    else: \n",
    "        return \"61+\"\n",
    "    \n",
    "data['age_cat'] = data.apply(age_sort, axis=1)"
   ]
  },
  {
   "cell_type": "code",
   "execution_count": 44,
   "id": "4f158e6e",
   "metadata": {},
   "outputs": [
    {
     "data": {
      "text/html": [
       "<div>\n",
       "<style scoped>\n",
       "    .dataframe tbody tr th:only-of-type {\n",
       "        vertical-align: middle;\n",
       "    }\n",
       "\n",
       "    .dataframe tbody tr th {\n",
       "        vertical-align: top;\n",
       "    }\n",
       "\n",
       "    .dataframe thead th {\n",
       "        text-align: right;\n",
       "    }\n",
       "</style>\n",
       "<table border=\"1\" class=\"dataframe\">\n",
       "  <thead>\n",
       "    <tr style=\"text-align: right;\">\n",
       "      <th></th>\n",
       "      <th>userid</th>\n",
       "      <th>score</th>\n",
       "      <th>city</th>\n",
       "      <th>gender</th>\n",
       "      <th>age</th>\n",
       "      <th>equity</th>\n",
       "      <th>balance</th>\n",
       "      <th>products</th>\n",
       "      <th>credit_card</th>\n",
       "      <th>last_activity</th>\n",
       "      <th>est_salary</th>\n",
       "      <th>churn</th>\n",
       "      <th>gender_new_Ж</th>\n",
       "      <th>gender_new_М</th>\n",
       "      <th>city_new_Ростов</th>\n",
       "      <th>city_new_Рыбинск</th>\n",
       "      <th>city_new_Ярославль</th>\n",
       "    </tr>\n",
       "    <tr>\n",
       "      <th>age_cat</th>\n",
       "      <th></th>\n",
       "      <th></th>\n",
       "      <th></th>\n",
       "      <th></th>\n",
       "      <th></th>\n",
       "      <th></th>\n",
       "      <th></th>\n",
       "      <th></th>\n",
       "      <th></th>\n",
       "      <th></th>\n",
       "      <th></th>\n",
       "      <th></th>\n",
       "      <th></th>\n",
       "      <th></th>\n",
       "      <th></th>\n",
       "      <th></th>\n",
       "      <th></th>\n",
       "    </tr>\n",
       "  </thead>\n",
       "  <tbody>\n",
       "    <tr>\n",
       "      <th>18-27</th>\n",
       "      <td>631</td>\n",
       "      <td>631</td>\n",
       "      <td>631</td>\n",
       "      <td>631</td>\n",
       "      <td>631</td>\n",
       "      <td>631</td>\n",
       "      <td>631</td>\n",
       "      <td>631</td>\n",
       "      <td>631</td>\n",
       "      <td>631</td>\n",
       "      <td>631</td>\n",
       "      <td>631</td>\n",
       "      <td>631</td>\n",
       "      <td>631</td>\n",
       "      <td>631</td>\n",
       "      <td>631</td>\n",
       "      <td>631</td>\n",
       "    </tr>\n",
       "    <tr>\n",
       "      <th>28-35</th>\n",
       "      <td>2614</td>\n",
       "      <td>2614</td>\n",
       "      <td>2614</td>\n",
       "      <td>2614</td>\n",
       "      <td>2614</td>\n",
       "      <td>2614</td>\n",
       "      <td>2614</td>\n",
       "      <td>2614</td>\n",
       "      <td>2614</td>\n",
       "      <td>2614</td>\n",
       "      <td>2614</td>\n",
       "      <td>2614</td>\n",
       "      <td>2614</td>\n",
       "      <td>2614</td>\n",
       "      <td>2614</td>\n",
       "      <td>2614</td>\n",
       "      <td>2614</td>\n",
       "    </tr>\n",
       "    <tr>\n",
       "      <th>36-40</th>\n",
       "      <td>1826</td>\n",
       "      <td>1826</td>\n",
       "      <td>1826</td>\n",
       "      <td>1826</td>\n",
       "      <td>1826</td>\n",
       "      <td>1826</td>\n",
       "      <td>1826</td>\n",
       "      <td>1826</td>\n",
       "      <td>1826</td>\n",
       "      <td>1826</td>\n",
       "      <td>1826</td>\n",
       "      <td>1826</td>\n",
       "      <td>1826</td>\n",
       "      <td>1826</td>\n",
       "      <td>1826</td>\n",
       "      <td>1826</td>\n",
       "      <td>1826</td>\n",
       "    </tr>\n",
       "    <tr>\n",
       "      <th>41-50</th>\n",
       "      <td>2254</td>\n",
       "      <td>2254</td>\n",
       "      <td>2254</td>\n",
       "      <td>2254</td>\n",
       "      <td>2254</td>\n",
       "      <td>2254</td>\n",
       "      <td>2254</td>\n",
       "      <td>2254</td>\n",
       "      <td>2254</td>\n",
       "      <td>2254</td>\n",
       "      <td>2254</td>\n",
       "      <td>2254</td>\n",
       "      <td>2254</td>\n",
       "      <td>2254</td>\n",
       "      <td>2254</td>\n",
       "      <td>2254</td>\n",
       "      <td>2254</td>\n",
       "    </tr>\n",
       "    <tr>\n",
       "      <th>51-60</th>\n",
       "      <td>1577</td>\n",
       "      <td>1577</td>\n",
       "      <td>1577</td>\n",
       "      <td>1577</td>\n",
       "      <td>1577</td>\n",
       "      <td>1577</td>\n",
       "      <td>1577</td>\n",
       "      <td>1577</td>\n",
       "      <td>1577</td>\n",
       "      <td>1577</td>\n",
       "      <td>1577</td>\n",
       "      <td>1577</td>\n",
       "      <td>1577</td>\n",
       "      <td>1577</td>\n",
       "      <td>1577</td>\n",
       "      <td>1577</td>\n",
       "      <td>1577</td>\n",
       "    </tr>\n",
       "    <tr>\n",
       "      <th>61+</th>\n",
       "      <td>1024</td>\n",
       "      <td>1024</td>\n",
       "      <td>1024</td>\n",
       "      <td>1024</td>\n",
       "      <td>1024</td>\n",
       "      <td>1024</td>\n",
       "      <td>1024</td>\n",
       "      <td>1024</td>\n",
       "      <td>1024</td>\n",
       "      <td>1024</td>\n",
       "      <td>1024</td>\n",
       "      <td>1024</td>\n",
       "      <td>1024</td>\n",
       "      <td>1024</td>\n",
       "      <td>1024</td>\n",
       "      <td>1024</td>\n",
       "      <td>1024</td>\n",
       "    </tr>\n",
       "  </tbody>\n",
       "</table>\n",
       "</div>"
      ],
      "text/plain": [
       "         userid  score  city  gender   age  equity  balance  products  \\\n",
       "age_cat                                                                 \n",
       "18-27       631    631   631     631   631     631      631       631   \n",
       "28-35      2614   2614  2614    2614  2614    2614     2614      2614   \n",
       "36-40      1826   1826  1826    1826  1826    1826     1826      1826   \n",
       "41-50      2254   2254  2254    2254  2254    2254     2254      2254   \n",
       "51-60      1577   1577  1577    1577  1577    1577     1577      1577   \n",
       "61+        1024   1024  1024    1024  1024    1024     1024      1024   \n",
       "\n",
       "         credit_card  last_activity  est_salary  churn  gender_new_Ж  \\\n",
       "age_cat                                                                \n",
       "18-27            631            631         631    631           631   \n",
       "28-35           2614           2614        2614   2614          2614   \n",
       "36-40           1826           1826        1826   1826          1826   \n",
       "41-50           2254           2254        2254   2254          2254   \n",
       "51-60           1577           1577        1577   1577          1577   \n",
       "61+             1024           1024        1024   1024          1024   \n",
       "\n",
       "         gender_new_М  city_new_Ростов  city_new_Рыбинск  city_new_Ярославль  \n",
       "age_cat                                                                       \n",
       "18-27             631              631               631                 631  \n",
       "28-35            2614             2614              2614                2614  \n",
       "36-40            1826             1826              1826                1826  \n",
       "41-50            2254             2254              2254                2254  \n",
       "51-60            1577             1577              1577                1577  \n",
       "61+              1024             1024              1024                1024  "
      ]
     },
     "execution_count": 44,
     "metadata": {},
     "output_type": "execute_result"
    }
   ],
   "source": [
    "data.groupby('age_cat').count()"
   ]
  },
  {
   "cell_type": "code",
   "execution_count": 45,
   "id": "f1995cc1",
   "metadata": {},
   "outputs": [
    {
     "data": {
      "text/html": [
       "<div>\n",
       "<style scoped>\n",
       "    .dataframe tbody tr th:only-of-type {\n",
       "        vertical-align: middle;\n",
       "    }\n",
       "\n",
       "    .dataframe tbody tr th {\n",
       "        vertical-align: top;\n",
       "    }\n",
       "\n",
       "    .dataframe thead th {\n",
       "        text-align: right;\n",
       "    }\n",
       "</style>\n",
       "<table border=\"1\" class=\"dataframe\">\n",
       "  <thead>\n",
       "    <tr style=\"text-align: right;\">\n",
       "      <th>churn</th>\n",
       "      <th>0</th>\n",
       "      <th>1</th>\n",
       "    </tr>\n",
       "    <tr>\n",
       "      <th>age_cat</th>\n",
       "      <th></th>\n",
       "      <th></th>\n",
       "    </tr>\n",
       "  </thead>\n",
       "  <tbody>\n",
       "    <tr>\n",
       "      <th>51-60</th>\n",
       "      <td>0.725428</td>\n",
       "      <td>0.274572</td>\n",
       "    </tr>\n",
       "    <tr>\n",
       "      <th>18-27</th>\n",
       "      <td>0.773376</td>\n",
       "      <td>0.226624</td>\n",
       "    </tr>\n",
       "    <tr>\n",
       "      <th>28-35</th>\n",
       "      <td>0.789594</td>\n",
       "      <td>0.210406</td>\n",
       "    </tr>\n",
       "    <tr>\n",
       "      <th>36-40</th>\n",
       "      <td>0.832968</td>\n",
       "      <td>0.167032</td>\n",
       "    </tr>\n",
       "    <tr>\n",
       "      <th>41-50</th>\n",
       "      <td>0.853594</td>\n",
       "      <td>0.146406</td>\n",
       "    </tr>\n",
       "    <tr>\n",
       "      <th>61+</th>\n",
       "      <td>0.942383</td>\n",
       "      <td>0.057617</td>\n",
       "    </tr>\n",
       "  </tbody>\n",
       "</table>\n",
       "</div>"
      ],
      "text/plain": [
       "churn           0         1\n",
       "age_cat                    \n",
       "51-60    0.725428  0.274572\n",
       "18-27    0.773376  0.226624\n",
       "28-35    0.789594  0.210406\n",
       "36-40    0.832968  0.167032\n",
       "41-50    0.853594  0.146406\n",
       "61+      0.942383  0.057617"
      ]
     },
     "execution_count": 45,
     "metadata": {},
     "output_type": "execute_result"
    }
   ],
   "source": [
    "pd.crosstab(data['age_cat'], data['churn'], normalize='index').sort_values(by=1, ascending=False)"
   ]
  },
  {
   "cell_type": "code",
   "execution_count": 46,
   "id": "e2388831",
   "metadata": {},
   "outputs": [
    {
     "data": {
      "text/html": [
       "<style type=\"text/css\">\n",
       "</style>\n",
       "<table id=\"T_d1d9f\">\n",
       "  <thead>\n",
       "    <tr>\n",
       "      <th class=\"blank level0\" >&nbsp;</th>\n",
       "      <th id=\"T_d1d9f_level0_col0\" class=\"col_heading level0 col0\" >userid</th>\n",
       "      <th id=\"T_d1d9f_level0_col1\" class=\"col_heading level0 col1\" >score</th>\n",
       "      <th id=\"T_d1d9f_level0_col2\" class=\"col_heading level0 col2\" >age</th>\n",
       "      <th id=\"T_d1d9f_level0_col3\" class=\"col_heading level0 col3\" >equity</th>\n",
       "      <th id=\"T_d1d9f_level0_col4\" class=\"col_heading level0 col4\" >balance</th>\n",
       "      <th id=\"T_d1d9f_level0_col5\" class=\"col_heading level0 col5\" >products</th>\n",
       "      <th id=\"T_d1d9f_level0_col6\" class=\"col_heading level0 col6\" >credit_card</th>\n",
       "      <th id=\"T_d1d9f_level0_col7\" class=\"col_heading level0 col7\" >last_activity</th>\n",
       "      <th id=\"T_d1d9f_level0_col8\" class=\"col_heading level0 col8\" >est_salary</th>\n",
       "      <th id=\"T_d1d9f_level0_col9\" class=\"col_heading level0 col9\" >churn</th>\n",
       "      <th id=\"T_d1d9f_level0_col10\" class=\"col_heading level0 col10\" >gender_new_Ж</th>\n",
       "      <th id=\"T_d1d9f_level0_col11\" class=\"col_heading level0 col11\" >gender_new_М</th>\n",
       "      <th id=\"T_d1d9f_level0_col12\" class=\"col_heading level0 col12\" >city_new_Ростов</th>\n",
       "      <th id=\"T_d1d9f_level0_col13\" class=\"col_heading level0 col13\" >city_new_Рыбинск</th>\n",
       "      <th id=\"T_d1d9f_level0_col14\" class=\"col_heading level0 col14\" >city_new_Ярославль</th>\n",
       "    </tr>\n",
       "    <tr>\n",
       "      <th class=\"index_name level0\" >age_cat</th>\n",
       "      <th class=\"blank col0\" >&nbsp;</th>\n",
       "      <th class=\"blank col1\" >&nbsp;</th>\n",
       "      <th class=\"blank col2\" >&nbsp;</th>\n",
       "      <th class=\"blank col3\" >&nbsp;</th>\n",
       "      <th class=\"blank col4\" >&nbsp;</th>\n",
       "      <th class=\"blank col5\" >&nbsp;</th>\n",
       "      <th class=\"blank col6\" >&nbsp;</th>\n",
       "      <th class=\"blank col7\" >&nbsp;</th>\n",
       "      <th class=\"blank col8\" >&nbsp;</th>\n",
       "      <th class=\"blank col9\" >&nbsp;</th>\n",
       "      <th class=\"blank col10\" >&nbsp;</th>\n",
       "      <th class=\"blank col11\" >&nbsp;</th>\n",
       "      <th class=\"blank col12\" >&nbsp;</th>\n",
       "      <th class=\"blank col13\" >&nbsp;</th>\n",
       "      <th class=\"blank col14\" >&nbsp;</th>\n",
       "    </tr>\n",
       "  </thead>\n",
       "  <tbody>\n",
       "    <tr>\n",
       "      <th id=\"T_d1d9f_level0_row0\" class=\"row_heading level0 row0\" >18-27</th>\n",
       "      <td id=\"T_d1d9f_row0_col0\" class=\"data row0 col0\" >171_368.18</td>\n",
       "      <td id=\"T_d1d9f_row0_col1\" class=\"data row0 col1\" >851.55</td>\n",
       "      <td id=\"T_d1d9f_row0_col2\" class=\"data row0 col2\" >24.93</td>\n",
       "      <td id=\"T_d1d9f_row0_col3\" class=\"data row0 col3\" >2.34</td>\n",
       "      <td id=\"T_d1d9f_row0_col4\" class=\"data row0 col4\" >223_599.91</td>\n",
       "      <td id=\"T_d1d9f_row0_col5\" class=\"data row0 col5\" >1.86</td>\n",
       "      <td id=\"T_d1d9f_row0_col6\" class=\"data row0 col6\" >0.76</td>\n",
       "      <td id=\"T_d1d9f_row0_col7\" class=\"data row0 col7\" >0.60</td>\n",
       "      <td id=\"T_d1d9f_row0_col8\" class=\"data row0 col8\" >88_460.45</td>\n",
       "      <td id=\"T_d1d9f_row0_col9\" class=\"data row0 col9\" >0.23</td>\n",
       "      <td id=\"T_d1d9f_row0_col10\" class=\"data row0 col10\" >0.34</td>\n",
       "      <td id=\"T_d1d9f_row0_col11\" class=\"data row0 col11\" >0.66</td>\n",
       "      <td id=\"T_d1d9f_row0_col12\" class=\"data row0 col12\" >0.16</td>\n",
       "      <td id=\"T_d1d9f_row0_col13\" class=\"data row0 col13\" >0.26</td>\n",
       "      <td id=\"T_d1d9f_row0_col14\" class=\"data row0 col14\" >0.58</td>\n",
       "    </tr>\n",
       "    <tr>\n",
       "      <th id=\"T_d1d9f_level0_row1\" class=\"row_heading level0 row1\" >28-35</th>\n",
       "      <td id=\"T_d1d9f_row1_col0\" class=\"data row1 col0\" >169_947.18</td>\n",
       "      <td id=\"T_d1d9f_row1_col1\" class=\"data row1 col1\" >851.84</td>\n",
       "      <td id=\"T_d1d9f_row1_col2\" class=\"data row1 col2\" >31.98</td>\n",
       "      <td id=\"T_d1d9f_row1_col3\" class=\"data row1 col3\" >2.66</td>\n",
       "      <td id=\"T_d1d9f_row1_col4\" class=\"data row1 col4\" >560_301.12</td>\n",
       "      <td id=\"T_d1d9f_row1_col5\" class=\"data row1 col5\" >1.86</td>\n",
       "      <td id=\"T_d1d9f_row1_col6\" class=\"data row1 col6\" >0.73</td>\n",
       "      <td id=\"T_d1d9f_row1_col7\" class=\"data row1 col7\" >0.53</td>\n",
       "      <td id=\"T_d1d9f_row1_col8\" class=\"data row1 col8\" >139_794.37</td>\n",
       "      <td id=\"T_d1d9f_row1_col9\" class=\"data row1 col9\" >0.21</td>\n",
       "      <td id=\"T_d1d9f_row1_col10\" class=\"data row1 col10\" >0.43</td>\n",
       "      <td id=\"T_d1d9f_row1_col11\" class=\"data row1 col11\" >0.57</td>\n",
       "      <td id=\"T_d1d9f_row1_col12\" class=\"data row1 col12\" >0.12</td>\n",
       "      <td id=\"T_d1d9f_row1_col13\" class=\"data row1 col13\" >0.25</td>\n",
       "      <td id=\"T_d1d9f_row1_col14\" class=\"data row1 col14\" >0.64</td>\n",
       "    </tr>\n",
       "    <tr>\n",
       "      <th id=\"T_d1d9f_level0_row2\" class=\"row_heading level0 row2\" >36-40</th>\n",
       "      <td id=\"T_d1d9f_row2_col0\" class=\"data row2 col0\" >173_210.98</td>\n",
       "      <td id=\"T_d1d9f_row2_col1\" class=\"data row2 col1\" >845.34</td>\n",
       "      <td id=\"T_d1d9f_row2_col2\" class=\"data row2 col2\" >37.87</td>\n",
       "      <td id=\"T_d1d9f_row2_col3\" class=\"data row2 col3\" >2.62</td>\n",
       "      <td id=\"T_d1d9f_row2_col4\" class=\"data row2 col4\" >648_363.31</td>\n",
       "      <td id=\"T_d1d9f_row2_col5\" class=\"data row2 col5\" >1.88</td>\n",
       "      <td id=\"T_d1d9f_row2_col6\" class=\"data row2 col6\" >0.71</td>\n",
       "      <td id=\"T_d1d9f_row2_col7\" class=\"data row2 col7\" >0.51</td>\n",
       "      <td id=\"T_d1d9f_row2_col8\" class=\"data row2 col8\" >179_746.63</td>\n",
       "      <td id=\"T_d1d9f_row2_col9\" class=\"data row2 col9\" >0.17</td>\n",
       "      <td id=\"T_d1d9f_row2_col10\" class=\"data row2 col10\" >0.45</td>\n",
       "      <td id=\"T_d1d9f_row2_col11\" class=\"data row2 col11\" >0.55</td>\n",
       "      <td id=\"T_d1d9f_row2_col12\" class=\"data row2 col12\" >0.14</td>\n",
       "      <td id=\"T_d1d9f_row2_col13\" class=\"data row2 col13\" >0.26</td>\n",
       "      <td id=\"T_d1d9f_row2_col14\" class=\"data row2 col14\" >0.60</td>\n",
       "    </tr>\n",
       "    <tr>\n",
       "      <th id=\"T_d1d9f_level0_row3\" class=\"row_heading level0 row3\" >41-50</th>\n",
       "      <td id=\"T_d1d9f_row3_col0\" class=\"data row3 col0\" >171_740.60</td>\n",
       "      <td id=\"T_d1d9f_row3_col1\" class=\"data row3 col1\" >846.45</td>\n",
       "      <td id=\"T_d1d9f_row3_col2\" class=\"data row3 col2\" >44.92</td>\n",
       "      <td id=\"T_d1d9f_row3_col3\" class=\"data row3 col3\" >2.59</td>\n",
       "      <td id=\"T_d1d9f_row3_col4\" class=\"data row3 col4\" >646_003.88</td>\n",
       "      <td id=\"T_d1d9f_row3_col5\" class=\"data row3 col5\" >1.84</td>\n",
       "      <td id=\"T_d1d9f_row3_col6\" class=\"data row3 col6\" >0.69</td>\n",
       "      <td id=\"T_d1d9f_row3_col7\" class=\"data row3 col7\" >0.48</td>\n",
       "      <td id=\"T_d1d9f_row3_col8\" class=\"data row3 col8\" >180_833.99</td>\n",
       "      <td id=\"T_d1d9f_row3_col9\" class=\"data row3 col9\" >0.15</td>\n",
       "      <td id=\"T_d1d9f_row3_col10\" class=\"data row3 col10\" >0.48</td>\n",
       "      <td id=\"T_d1d9f_row3_col11\" class=\"data row3 col11\" >0.52</td>\n",
       "      <td id=\"T_d1d9f_row3_col12\" class=\"data row3 col12\" >0.14</td>\n",
       "      <td id=\"T_d1d9f_row3_col13\" class=\"data row3 col13\" >0.26</td>\n",
       "      <td id=\"T_d1d9f_row3_col14\" class=\"data row3 col14\" >0.60</td>\n",
       "    </tr>\n",
       "    <tr>\n",
       "      <th id=\"T_d1d9f_level0_row4\" class=\"row_heading level0 row4\" >51-60</th>\n",
       "      <td id=\"T_d1d9f_row4_col0\" class=\"data row4 col0\" >173_272.24</td>\n",
       "      <td id=\"T_d1d9f_row4_col1\" class=\"data row4 col1\" >847.04</td>\n",
       "      <td id=\"T_d1d9f_row4_col2\" class=\"data row4 col2\" >55.45</td>\n",
       "      <td id=\"T_d1d9f_row4_col3\" class=\"data row4 col3\" >2.73</td>\n",
       "      <td id=\"T_d1d9f_row4_col4\" class=\"data row4 col4\" >803_190.42</td>\n",
       "      <td id=\"T_d1d9f_row4_col5\" class=\"data row4 col5\" >1.93</td>\n",
       "      <td id=\"T_d1d9f_row4_col6\" class=\"data row4 col6\" >0.60</td>\n",
       "      <td id=\"T_d1d9f_row4_col7\" class=\"data row4 col7\" >0.52</td>\n",
       "      <td id=\"T_d1d9f_row4_col8\" class=\"data row4 col8\" >135_561.94</td>\n",
       "      <td id=\"T_d1d9f_row4_col9\" class=\"data row4 col9\" >0.27</td>\n",
       "      <td id=\"T_d1d9f_row4_col10\" class=\"data row4 col10\" >0.57</td>\n",
       "      <td id=\"T_d1d9f_row4_col11\" class=\"data row4 col11\" >0.43</td>\n",
       "      <td id=\"T_d1d9f_row4_col12\" class=\"data row4 col12\" >0.16</td>\n",
       "      <td id=\"T_d1d9f_row4_col13\" class=\"data row4 col13\" >0.31</td>\n",
       "      <td id=\"T_d1d9f_row4_col14\" class=\"data row4 col14\" >0.53</td>\n",
       "    </tr>\n",
       "    <tr>\n",
       "      <th id=\"T_d1d9f_level0_row5\" class=\"row_heading level0 row5\" >61+</th>\n",
       "      <td id=\"T_d1d9f_row5_col0\" class=\"data row5 col0\" >171_576.03</td>\n",
       "      <td id=\"T_d1d9f_row5_col1\" class=\"data row5 col1\" >850.04</td>\n",
       "      <td id=\"T_d1d9f_row5_col2\" class=\"data row5 col2\" >66.36</td>\n",
       "      <td id=\"T_d1d9f_row5_col3\" class=\"data row5 col3\" >2.73</td>\n",
       "      <td id=\"T_d1d9f_row5_col4\" class=\"data row5 col4\" >823_080.60</td>\n",
       "      <td id=\"T_d1d9f_row5_col5\" class=\"data row5 col5\" >1.92</td>\n",
       "      <td id=\"T_d1d9f_row5_col6\" class=\"data row5 col6\" >0.56</td>\n",
       "      <td id=\"T_d1d9f_row5_col7\" class=\"data row5 col7\" >0.56</td>\n",
       "      <td id=\"T_d1d9f_row5_col8\" class=\"data row5 col8\" >94_974.28</td>\n",
       "      <td id=\"T_d1d9f_row5_col9\" class=\"data row5 col9\" >0.06</td>\n",
       "      <td id=\"T_d1d9f_row5_col10\" class=\"data row5 col10\" >0.80</td>\n",
       "      <td id=\"T_d1d9f_row5_col11\" class=\"data row5 col11\" >0.20</td>\n",
       "      <td id=\"T_d1d9f_row5_col12\" class=\"data row5 col12\" >0.18</td>\n",
       "      <td id=\"T_d1d9f_row5_col13\" class=\"data row5 col13\" >0.28</td>\n",
       "      <td id=\"T_d1d9f_row5_col14\" class=\"data row5 col14\" >0.54</td>\n",
       "    </tr>\n",
       "  </tbody>\n",
       "</table>\n"
      ],
      "text/plain": [
       "<pandas.io.formats.style.Styler at 0x2e4af73f3a0>"
      ]
     },
     "execution_count": 46,
     "metadata": {},
     "output_type": "execute_result"
    }
   ],
   "source": [
    "data.groupby('age_cat').mean().style.format(\"{:_.2f}\")"
   ]
  },
  {
   "cell_type": "markdown",
   "id": "74c24400",
   "metadata": {},
   "source": [
    "Видим, что отток выше, чем в среднем по выборке (18%) в трёх возрастных группах - 18-27 лет, 28-35 и 51-60 лет. Суммарно клиенты  этих возрастных групп - это 55% выборки. Так же видим, что в этих группах преобладают мужчины. "
   ]
  },
  {
   "cell_type": "code",
   "execution_count": 47,
   "id": "d486e657",
   "metadata": {},
   "outputs": [
    {
     "data": {
      "text/html": [
       "<style type=\"text/css\">\n",
       "</style>\n",
       "<table id=\"T_bec00\">\n",
       "  <thead>\n",
       "    <tr>\n",
       "      <th class=\"blank\" >&nbsp;</th>\n",
       "      <th class=\"blank level0\" >&nbsp;</th>\n",
       "      <th id=\"T_bec00_level0_col0\" class=\"col_heading level0 col0\" >userid</th>\n",
       "      <th id=\"T_bec00_level0_col1\" class=\"col_heading level0 col1\" >score</th>\n",
       "      <th id=\"T_bec00_level0_col2\" class=\"col_heading level0 col2\" >age</th>\n",
       "      <th id=\"T_bec00_level0_col3\" class=\"col_heading level0 col3\" >equity</th>\n",
       "      <th id=\"T_bec00_level0_col4\" class=\"col_heading level0 col4\" >balance</th>\n",
       "      <th id=\"T_bec00_level0_col5\" class=\"col_heading level0 col5\" >products</th>\n",
       "      <th id=\"T_bec00_level0_col6\" class=\"col_heading level0 col6\" >credit_card</th>\n",
       "      <th id=\"T_bec00_level0_col7\" class=\"col_heading level0 col7\" >last_activity</th>\n",
       "      <th id=\"T_bec00_level0_col8\" class=\"col_heading level0 col8\" >est_salary</th>\n",
       "      <th id=\"T_bec00_level0_col9\" class=\"col_heading level0 col9\" >churn</th>\n",
       "      <th id=\"T_bec00_level0_col10\" class=\"col_heading level0 col10\" >gender_new_Ж</th>\n",
       "      <th id=\"T_bec00_level0_col11\" class=\"col_heading level0 col11\" >gender_new_М</th>\n",
       "      <th id=\"T_bec00_level0_col12\" class=\"col_heading level0 col12\" >city_new_Ростов</th>\n",
       "      <th id=\"T_bec00_level0_col13\" class=\"col_heading level0 col13\" >city_new_Рыбинск</th>\n",
       "      <th id=\"T_bec00_level0_col14\" class=\"col_heading level0 col14\" >city_new_Ярославль</th>\n",
       "    </tr>\n",
       "    <tr>\n",
       "      <th class=\"index_name level0\" >age_cat</th>\n",
       "      <th class=\"index_name level1\" >gender</th>\n",
       "      <th class=\"blank col0\" >&nbsp;</th>\n",
       "      <th class=\"blank col1\" >&nbsp;</th>\n",
       "      <th class=\"blank col2\" >&nbsp;</th>\n",
       "      <th class=\"blank col3\" >&nbsp;</th>\n",
       "      <th class=\"blank col4\" >&nbsp;</th>\n",
       "      <th class=\"blank col5\" >&nbsp;</th>\n",
       "      <th class=\"blank col6\" >&nbsp;</th>\n",
       "      <th class=\"blank col7\" >&nbsp;</th>\n",
       "      <th class=\"blank col8\" >&nbsp;</th>\n",
       "      <th class=\"blank col9\" >&nbsp;</th>\n",
       "      <th class=\"blank col10\" >&nbsp;</th>\n",
       "      <th class=\"blank col11\" >&nbsp;</th>\n",
       "      <th class=\"blank col12\" >&nbsp;</th>\n",
       "      <th class=\"blank col13\" >&nbsp;</th>\n",
       "      <th class=\"blank col14\" >&nbsp;</th>\n",
       "    </tr>\n",
       "  </thead>\n",
       "  <tbody>\n",
       "    <tr>\n",
       "      <th id=\"T_bec00_level0_row0\" class=\"row_heading level0 row0\" rowspan=\"2\">18-27</th>\n",
       "      <th id=\"T_bec00_level1_row0\" class=\"row_heading level1 row0\" >Ж</th>\n",
       "      <td id=\"T_bec00_row0_col0\" class=\"data row0 col0\" >170_892.32</td>\n",
       "      <td id=\"T_bec00_row0_col1\" class=\"data row0 col1\" >849.24</td>\n",
       "      <td id=\"T_bec00_row0_col2\" class=\"data row0 col2\" >24.91</td>\n",
       "      <td id=\"T_bec00_row0_col3\" class=\"data row0 col3\" >2.46</td>\n",
       "      <td id=\"T_bec00_row0_col4\" class=\"data row0 col4\" >207_174.43</td>\n",
       "      <td id=\"T_bec00_row0_col5\" class=\"data row0 col5\" >1.88</td>\n",
       "      <td id=\"T_bec00_row0_col6\" class=\"data row0 col6\" >0.69</td>\n",
       "      <td id=\"T_bec00_row0_col7\" class=\"data row0 col7\" >0.60</td>\n",
       "      <td id=\"T_bec00_row0_col8\" class=\"data row0 col8\" >64_226.97</td>\n",
       "      <td id=\"T_bec00_row0_col9\" class=\"data row0 col9\" >0.16</td>\n",
       "      <td id=\"T_bec00_row0_col10\" class=\"data row0 col10\" >1.00</td>\n",
       "      <td id=\"T_bec00_row0_col11\" class=\"data row0 col11\" >0.00</td>\n",
       "      <td id=\"T_bec00_row0_col12\" class=\"data row0 col12\" >0.15</td>\n",
       "      <td id=\"T_bec00_row0_col13\" class=\"data row0 col13\" >0.27</td>\n",
       "      <td id=\"T_bec00_row0_col14\" class=\"data row0 col14\" >0.58</td>\n",
       "    </tr>\n",
       "    <tr>\n",
       "      <th id=\"T_bec00_level1_row1\" class=\"row_heading level1 row1\" >М</th>\n",
       "      <td id=\"T_bec00_row1_col0\" class=\"data row1 col0\" >171_608.95</td>\n",
       "      <td id=\"T_bec00_row1_col1\" class=\"data row1 col1\" >852.72</td>\n",
       "      <td id=\"T_bec00_row1_col2\" class=\"data row1 col2\" >24.94</td>\n",
       "      <td id=\"T_bec00_row1_col3\" class=\"data row1 col3\" >2.27</td>\n",
       "      <td id=\"T_bec00_row1_col4\" class=\"data row1 col4\" >231_910.66</td>\n",
       "      <td id=\"T_bec00_row1_col5\" class=\"data row1 col5\" >1.85</td>\n",
       "      <td id=\"T_bec00_row1_col6\" class=\"data row1 col6\" >0.79</td>\n",
       "      <td id=\"T_bec00_row1_col7\" class=\"data row1 col7\" >0.60</td>\n",
       "      <td id=\"T_bec00_row1_col8\" class=\"data row1 col8\" >100_721.78</td>\n",
       "      <td id=\"T_bec00_row1_col9\" class=\"data row1 col9\" >0.26</td>\n",
       "      <td id=\"T_bec00_row1_col10\" class=\"data row1 col10\" >0.00</td>\n",
       "      <td id=\"T_bec00_row1_col11\" class=\"data row1 col11\" >1.00</td>\n",
       "      <td id=\"T_bec00_row1_col12\" class=\"data row1 col12\" >0.17</td>\n",
       "      <td id=\"T_bec00_row1_col13\" class=\"data row1 col13\" >0.25</td>\n",
       "      <td id=\"T_bec00_row1_col14\" class=\"data row1 col14\" >0.58</td>\n",
       "    </tr>\n",
       "    <tr>\n",
       "      <th id=\"T_bec00_level0_row2\" class=\"row_heading level0 row2\" rowspan=\"2\">28-35</th>\n",
       "      <th id=\"T_bec00_level1_row2\" class=\"row_heading level1 row2\" >Ж</th>\n",
       "      <td id=\"T_bec00_row2_col0\" class=\"data row2 col0\" >167_981.80</td>\n",
       "      <td id=\"T_bec00_row2_col1\" class=\"data row2 col1\" >853.01</td>\n",
       "      <td id=\"T_bec00_row2_col2\" class=\"data row2 col2\" >31.98</td>\n",
       "      <td id=\"T_bec00_row2_col3\" class=\"data row2 col3\" >2.76</td>\n",
       "      <td id=\"T_bec00_row2_col4\" class=\"data row2 col4\" >525_812.84</td>\n",
       "      <td id=\"T_bec00_row2_col5\" class=\"data row2 col5\" >1.88</td>\n",
       "      <td id=\"T_bec00_row2_col6\" class=\"data row2 col6\" >0.66</td>\n",
       "      <td id=\"T_bec00_row2_col7\" class=\"data row2 col7\" >0.53</td>\n",
       "      <td id=\"T_bec00_row2_col8\" class=\"data row2 col8\" >130_933.21</td>\n",
       "      <td id=\"T_bec00_row2_col9\" class=\"data row2 col9\" >0.16</td>\n",
       "      <td id=\"T_bec00_row2_col10\" class=\"data row2 col10\" >1.00</td>\n",
       "      <td id=\"T_bec00_row2_col11\" class=\"data row2 col11\" >0.00</td>\n",
       "      <td id=\"T_bec00_row2_col12\" class=\"data row2 col12\" >0.12</td>\n",
       "      <td id=\"T_bec00_row2_col13\" class=\"data row2 col13\" >0.26</td>\n",
       "      <td id=\"T_bec00_row2_col14\" class=\"data row2 col14\" >0.62</td>\n",
       "    </tr>\n",
       "    <tr>\n",
       "      <th id=\"T_bec00_level1_row3\" class=\"row_heading level1 row3\" >М</th>\n",
       "      <td id=\"T_bec00_row3_col0\" class=\"data row3 col0\" >171_439.06</td>\n",
       "      <td id=\"T_bec00_row3_col1\" class=\"data row3 col1\" >850.95</td>\n",
       "      <td id=\"T_bec00_row3_col2\" class=\"data row3 col2\" >31.98</td>\n",
       "      <td id=\"T_bec00_row3_col3\" class=\"data row3 col3\" >2.58</td>\n",
       "      <td id=\"T_bec00_row3_col4\" class=\"data row3 col4\" >586_480.65</td>\n",
       "      <td id=\"T_bec00_row3_col5\" class=\"data row3 col5\" >1.84</td>\n",
       "      <td id=\"T_bec00_row3_col6\" class=\"data row3 col6\" >0.78</td>\n",
       "      <td id=\"T_bec00_row3_col7\" class=\"data row3 col7\" >0.53</td>\n",
       "      <td id=\"T_bec00_row3_col8\" class=\"data row3 col8\" >146_520.73</td>\n",
       "      <td id=\"T_bec00_row3_col9\" class=\"data row3 col9\" >0.25</td>\n",
       "      <td id=\"T_bec00_row3_col10\" class=\"data row3 col10\" >0.00</td>\n",
       "      <td id=\"T_bec00_row3_col11\" class=\"data row3 col11\" >1.00</td>\n",
       "      <td id=\"T_bec00_row3_col12\" class=\"data row3 col12\" >0.11</td>\n",
       "      <td id=\"T_bec00_row3_col13\" class=\"data row3 col13\" >0.24</td>\n",
       "      <td id=\"T_bec00_row3_col14\" class=\"data row3 col14\" >0.65</td>\n",
       "    </tr>\n",
       "    <tr>\n",
       "      <th id=\"T_bec00_level0_row4\" class=\"row_heading level0 row4\" rowspan=\"2\">36-40</th>\n",
       "      <th id=\"T_bec00_level1_row4\" class=\"row_heading level1 row4\" >Ж</th>\n",
       "      <td id=\"T_bec00_row4_col0\" class=\"data row4 col0\" >172_298.29</td>\n",
       "      <td id=\"T_bec00_row4_col1\" class=\"data row4 col1\" >842.35</td>\n",
       "      <td id=\"T_bec00_row4_col2\" class=\"data row4 col2\" >37.86</td>\n",
       "      <td id=\"T_bec00_row4_col3\" class=\"data row4 col3\" >2.71</td>\n",
       "      <td id=\"T_bec00_row4_col4\" class=\"data row4 col4\" >605_657.92</td>\n",
       "      <td id=\"T_bec00_row4_col5\" class=\"data row4 col5\" >1.94</td>\n",
       "      <td id=\"T_bec00_row4_col6\" class=\"data row4 col6\" >0.66</td>\n",
       "      <td id=\"T_bec00_row4_col7\" class=\"data row4 col7\" >0.53</td>\n",
       "      <td id=\"T_bec00_row4_col8\" class=\"data row4 col8\" >164_880.88</td>\n",
       "      <td id=\"T_bec00_row4_col9\" class=\"data row4 col9\" >0.12</td>\n",
       "      <td id=\"T_bec00_row4_col10\" class=\"data row4 col10\" >1.00</td>\n",
       "      <td id=\"T_bec00_row4_col11\" class=\"data row4 col11\" >0.00</td>\n",
       "      <td id=\"T_bec00_row4_col12\" class=\"data row4 col12\" >0.14</td>\n",
       "      <td id=\"T_bec00_row4_col13\" class=\"data row4 col13\" >0.25</td>\n",
       "      <td id=\"T_bec00_row4_col14\" class=\"data row4 col14\" >0.61</td>\n",
       "    </tr>\n",
       "    <tr>\n",
       "      <th id=\"T_bec00_level1_row5\" class=\"row_heading level1 row5\" >М</th>\n",
       "      <td id=\"T_bec00_row5_col0\" class=\"data row5 col0\" >173_945.10</td>\n",
       "      <td id=\"T_bec00_row5_col1\" class=\"data row5 col1\" >847.75</td>\n",
       "      <td id=\"T_bec00_row5_col2\" class=\"data row5 col2\" >37.89</td>\n",
       "      <td id=\"T_bec00_row5_col3\" class=\"data row5 col3\" >2.56</td>\n",
       "      <td id=\"T_bec00_row5_col4\" class=\"data row5 col4\" >682_713.31</td>\n",
       "      <td id=\"T_bec00_row5_col5\" class=\"data row5 col5\" >1.83</td>\n",
       "      <td id=\"T_bec00_row5_col6\" class=\"data row5 col6\" >0.75</td>\n",
       "      <td id=\"T_bec00_row5_col7\" class=\"data row5 col7\" >0.50</td>\n",
       "      <td id=\"T_bec00_row5_col8\" class=\"data row5 col8\" >191_703.87</td>\n",
       "      <td id=\"T_bec00_row5_col9\" class=\"data row5 col9\" >0.21</td>\n",
       "      <td id=\"T_bec00_row5_col10\" class=\"data row5 col10\" >0.00</td>\n",
       "      <td id=\"T_bec00_row5_col11\" class=\"data row5 col11\" >1.00</td>\n",
       "      <td id=\"T_bec00_row5_col12\" class=\"data row5 col12\" >0.14</td>\n",
       "      <td id=\"T_bec00_row5_col13\" class=\"data row5 col13\" >0.27</td>\n",
       "      <td id=\"T_bec00_row5_col14\" class=\"data row5 col14\" >0.59</td>\n",
       "    </tr>\n",
       "    <tr>\n",
       "      <th id=\"T_bec00_level0_row6\" class=\"row_heading level0 row6\" rowspan=\"2\">41-50</th>\n",
       "      <th id=\"T_bec00_level1_row6\" class=\"row_heading level1 row6\" >Ж</th>\n",
       "      <td id=\"T_bec00_row6_col0\" class=\"data row6 col0\" >171_066.90</td>\n",
       "      <td id=\"T_bec00_row6_col1\" class=\"data row6 col1\" >846.82</td>\n",
       "      <td id=\"T_bec00_row6_col2\" class=\"data row6 col2\" >44.99</td>\n",
       "      <td id=\"T_bec00_row6_col3\" class=\"data row6 col3\" >2.61</td>\n",
       "      <td id=\"T_bec00_row6_col4\" class=\"data row6 col4\" >590_818.85</td>\n",
       "      <td id=\"T_bec00_row6_col5\" class=\"data row6 col5\" >1.84</td>\n",
       "      <td id=\"T_bec00_row6_col6\" class=\"data row6 col6\" >0.64</td>\n",
       "      <td id=\"T_bec00_row6_col7\" class=\"data row6 col7\" >0.50</td>\n",
       "      <td id=\"T_bec00_row6_col8\" class=\"data row6 col8\" >175_180.25</td>\n",
       "      <td id=\"T_bec00_row6_col9\" class=\"data row6 col9\" >0.09</td>\n",
       "      <td id=\"T_bec00_row6_col10\" class=\"data row6 col10\" >1.00</td>\n",
       "      <td id=\"T_bec00_row6_col11\" class=\"data row6 col11\" >0.00</td>\n",
       "      <td id=\"T_bec00_row6_col12\" class=\"data row6 col12\" >0.15</td>\n",
       "      <td id=\"T_bec00_row6_col13\" class=\"data row6 col13\" >0.25</td>\n",
       "      <td id=\"T_bec00_row6_col14\" class=\"data row6 col14\" >0.60</td>\n",
       "    </tr>\n",
       "    <tr>\n",
       "      <th id=\"T_bec00_level1_row7\" class=\"row_heading level1 row7\" >М</th>\n",
       "      <td id=\"T_bec00_row7_col0\" class=\"data row7 col0\" >172_360.36</td>\n",
       "      <td id=\"T_bec00_row7_col1\" class=\"data row7 col1\" >846.11</td>\n",
       "      <td id=\"T_bec00_row7_col2\" class=\"data row7 col2\" >44.85</td>\n",
       "      <td id=\"T_bec00_row7_col3\" class=\"data row7 col3\" >2.57</td>\n",
       "      <td id=\"T_bec00_row7_col4\" class=\"data row7 col4\" >696_770.36</td>\n",
       "      <td id=\"T_bec00_row7_col5\" class=\"data row7 col5\" >1.83</td>\n",
       "      <td id=\"T_bec00_row7_col6\" class=\"data row7 col6\" >0.74</td>\n",
       "      <td id=\"T_bec00_row7_col7\" class=\"data row7 col7\" >0.47</td>\n",
       "      <td id=\"T_bec00_row7_col8\" class=\"data row7 col8\" >186_035.05</td>\n",
       "      <td id=\"T_bec00_row7_col9\" class=\"data row7 col9\" >0.20</td>\n",
       "      <td id=\"T_bec00_row7_col10\" class=\"data row7 col10\" >0.00</td>\n",
       "      <td id=\"T_bec00_row7_col11\" class=\"data row7 col11\" >1.00</td>\n",
       "      <td id=\"T_bec00_row7_col12\" class=\"data row7 col12\" >0.13</td>\n",
       "      <td id=\"T_bec00_row7_col13\" class=\"data row7 col13\" >0.27</td>\n",
       "      <td id=\"T_bec00_row7_col14\" class=\"data row7 col14\" >0.60</td>\n",
       "    </tr>\n",
       "    <tr>\n",
       "      <th id=\"T_bec00_level0_row8\" class=\"row_heading level0 row8\" rowspan=\"2\">51-60</th>\n",
       "      <th id=\"T_bec00_level1_row8\" class=\"row_heading level1 row8\" >Ж</th>\n",
       "      <td id=\"T_bec00_row8_col0\" class=\"data row8 col0\" >171_403.67</td>\n",
       "      <td id=\"T_bec00_row8_col1\" class=\"data row8 col1\" >843.60</td>\n",
       "      <td id=\"T_bec00_row8_col2\" class=\"data row8 col2\" >55.64</td>\n",
       "      <td id=\"T_bec00_row8_col3\" class=\"data row8 col3\" >2.62</td>\n",
       "      <td id=\"T_bec00_row8_col4\" class=\"data row8 col4\" >646_401.23</td>\n",
       "      <td id=\"T_bec00_row8_col5\" class=\"data row8 col5\" >1.90</td>\n",
       "      <td id=\"T_bec00_row8_col6\" class=\"data row8 col6\" >0.57</td>\n",
       "      <td id=\"T_bec00_row8_col7\" class=\"data row8 col7\" >0.53</td>\n",
       "      <td id=\"T_bec00_row8_col8\" class=\"data row8 col8\" >129_709.65</td>\n",
       "      <td id=\"T_bec00_row8_col9\" class=\"data row8 col9\" >0.22</td>\n",
       "      <td id=\"T_bec00_row8_col10\" class=\"data row8 col10\" >1.00</td>\n",
       "      <td id=\"T_bec00_row8_col11\" class=\"data row8 col11\" >0.00</td>\n",
       "      <td id=\"T_bec00_row8_col12\" class=\"data row8 col12\" >0.15</td>\n",
       "      <td id=\"T_bec00_row8_col13\" class=\"data row8 col13\" >0.32</td>\n",
       "      <td id=\"T_bec00_row8_col14\" class=\"data row8 col14\" >0.53</td>\n",
       "    </tr>\n",
       "    <tr>\n",
       "      <th id=\"T_bec00_level1_row9\" class=\"row_heading level1 row9\" >М</th>\n",
       "      <td id=\"T_bec00_row9_col0\" class=\"data row9 col0\" >175_737.09</td>\n",
       "      <td id=\"T_bec00_row9_col1\" class=\"data row9 col1\" >851.58</td>\n",
       "      <td id=\"T_bec00_row9_col2\" class=\"data row9 col2\" >55.20</td>\n",
       "      <td id=\"T_bec00_row9_col3\" class=\"data row9 col3\" >2.87</td>\n",
       "      <td id=\"T_bec00_row9_col4\" class=\"data row9 col4\" >1_010_013.81</td>\n",
       "      <td id=\"T_bec00_row9_col5\" class=\"data row9 col5\" >1.98</td>\n",
       "      <td id=\"T_bec00_row9_col6\" class=\"data row9 col6\" >0.63</td>\n",
       "      <td id=\"T_bec00_row9_col7\" class=\"data row9 col7\" >0.51</td>\n",
       "      <td id=\"T_bec00_row9_col8\" class=\"data row9 col8\" >143_281.81</td>\n",
       "      <td id=\"T_bec00_row9_col9\" class=\"data row9 col9\" >0.35</td>\n",
       "      <td id=\"T_bec00_row9_col10\" class=\"data row9 col10\" >0.00</td>\n",
       "      <td id=\"T_bec00_row9_col11\" class=\"data row9 col11\" >1.00</td>\n",
       "      <td id=\"T_bec00_row9_col12\" class=\"data row9 col12\" >0.18</td>\n",
       "      <td id=\"T_bec00_row9_col13\" class=\"data row9 col13\" >0.29</td>\n",
       "      <td id=\"T_bec00_row9_col14\" class=\"data row9 col14\" >0.53</td>\n",
       "    </tr>\n",
       "    <tr>\n",
       "      <th id=\"T_bec00_level0_row10\" class=\"row_heading level0 row10\" rowspan=\"2\">61+</th>\n",
       "      <th id=\"T_bec00_level1_row10\" class=\"row_heading level1 row10\" >Ж</th>\n",
       "      <td id=\"T_bec00_row10_col0\" class=\"data row10 col0\" >171_651.19</td>\n",
       "      <td id=\"T_bec00_row10_col1\" class=\"data row10 col1\" >850.72</td>\n",
       "      <td id=\"T_bec00_row10_col2\" class=\"data row10 col2\" >66.92</td>\n",
       "      <td id=\"T_bec00_row10_col3\" class=\"data row10 col3\" >2.73</td>\n",
       "      <td id=\"T_bec00_row10_col4\" class=\"data row10 col4\" >647_575.47</td>\n",
       "      <td id=\"T_bec00_row10_col5\" class=\"data row10 col5\" >1.95</td>\n",
       "      <td id=\"T_bec00_row10_col6\" class=\"data row10 col6\" >0.55</td>\n",
       "      <td id=\"T_bec00_row10_col7\" class=\"data row10 col7\" >0.55</td>\n",
       "      <td id=\"T_bec00_row10_col8\" class=\"data row10 col8\" >91_195.65</td>\n",
       "      <td id=\"T_bec00_row10_col9\" class=\"data row10 col9\" >0.03</td>\n",
       "      <td id=\"T_bec00_row10_col10\" class=\"data row10 col10\" >1.00</td>\n",
       "      <td id=\"T_bec00_row10_col11\" class=\"data row10 col11\" >0.00</td>\n",
       "      <td id=\"T_bec00_row10_col12\" class=\"data row10 col12\" >0.19</td>\n",
       "      <td id=\"T_bec00_row10_col13\" class=\"data row10 col13\" >0.28</td>\n",
       "      <td id=\"T_bec00_row10_col14\" class=\"data row10 col14\" >0.53</td>\n",
       "    </tr>\n",
       "    <tr>\n",
       "      <th id=\"T_bec00_level1_row11\" class=\"row_heading level1 row11\" >М</th>\n",
       "      <td id=\"T_bec00_row11_col0\" class=\"data row11 col0\" >171_270.15</td>\n",
       "      <td id=\"T_bec00_row11_col1\" class=\"data row11 col1\" >847.26</td>\n",
       "      <td id=\"T_bec00_row11_col2\" class=\"data row11 col2\" >64.11</td>\n",
       "      <td id=\"T_bec00_row11_col3\" class=\"data row11 col3\" >2.73</td>\n",
       "      <td id=\"T_bec00_row11_col4\" class=\"data row11 col4\" >1_537_264.85</td>\n",
       "      <td id=\"T_bec00_row11_col5\" class=\"data row11 col5\" >1.83</td>\n",
       "      <td id=\"T_bec00_row11_col6\" class=\"data row11 col6\" >0.63</td>\n",
       "      <td id=\"T_bec00_row11_col7\" class=\"data row11 col7\" >0.59</td>\n",
       "      <td id=\"T_bec00_row11_col8\" class=\"data row11 col8\" >110_350.71</td>\n",
       "      <td id=\"T_bec00_row11_col9\" class=\"data row11 col9\" >0.16</td>\n",
       "      <td id=\"T_bec00_row11_col10\" class=\"data row11 col10\" >0.00</td>\n",
       "      <td id=\"T_bec00_row11_col11\" class=\"data row11 col11\" >1.00</td>\n",
       "      <td id=\"T_bec00_row11_col12\" class=\"data row11 col12\" >0.17</td>\n",
       "      <td id=\"T_bec00_row11_col13\" class=\"data row11 col13\" >0.26</td>\n",
       "      <td id=\"T_bec00_row11_col14\" class=\"data row11 col14\" >0.57</td>\n",
       "    </tr>\n",
       "  </tbody>\n",
       "</table>\n"
      ],
      "text/plain": [
       "<pandas.io.formats.style.Styler at 0x2e4af0d2ac0>"
      ]
     },
     "execution_count": 47,
     "metadata": {},
     "output_type": "execute_result"
    }
   ],
   "source": [
    "data.groupby(['age_cat', 'gender']).mean().style.format(\"{:_.2f}\")"
   ]
  },
  {
   "cell_type": "markdown",
   "id": "f6bd9922",
   "metadata": {},
   "source": [
    "Мужчины боле склоны к оттоку во всех возрастных группах. Но, в группах указанных выше, в отток уходит каждый 4-ый или даже каждый 3-й клиент. "
   ]
  },
  {
   "cell_type": "code",
   "execution_count": 48,
   "id": "bd366c25",
   "metadata": {},
   "outputs": [
    {
     "data": {
      "text/html": [
       "<div>\n",
       "<style scoped>\n",
       "    .dataframe tbody tr th:only-of-type {\n",
       "        vertical-align: middle;\n",
       "    }\n",
       "\n",
       "    .dataframe tbody tr th {\n",
       "        vertical-align: top;\n",
       "    }\n",
       "\n",
       "    .dataframe thead th {\n",
       "        text-align: right;\n",
       "    }\n",
       "</style>\n",
       "<table border=\"1\" class=\"dataframe\">\n",
       "  <thead>\n",
       "    <tr style=\"text-align: right;\">\n",
       "      <th></th>\n",
       "      <th></th>\n",
       "      <th>userid</th>\n",
       "      <th>score</th>\n",
       "      <th>city</th>\n",
       "      <th>age</th>\n",
       "      <th>equity</th>\n",
       "      <th>balance</th>\n",
       "      <th>products</th>\n",
       "      <th>credit_card</th>\n",
       "      <th>last_activity</th>\n",
       "      <th>est_salary</th>\n",
       "      <th>churn</th>\n",
       "      <th>gender_new_Ж</th>\n",
       "      <th>gender_new_М</th>\n",
       "      <th>city_new_Ростов</th>\n",
       "      <th>city_new_Рыбинск</th>\n",
       "      <th>city_new_Ярославль</th>\n",
       "    </tr>\n",
       "    <tr>\n",
       "      <th>age_cat</th>\n",
       "      <th>gender</th>\n",
       "      <th></th>\n",
       "      <th></th>\n",
       "      <th></th>\n",
       "      <th></th>\n",
       "      <th></th>\n",
       "      <th></th>\n",
       "      <th></th>\n",
       "      <th></th>\n",
       "      <th></th>\n",
       "      <th></th>\n",
       "      <th></th>\n",
       "      <th></th>\n",
       "      <th></th>\n",
       "      <th></th>\n",
       "      <th></th>\n",
       "      <th></th>\n",
       "    </tr>\n",
       "  </thead>\n",
       "  <tbody>\n",
       "    <tr>\n",
       "      <th rowspan=\"2\" valign=\"top\">18-27</th>\n",
       "      <th>Ж</th>\n",
       "      <td>212</td>\n",
       "      <td>212</td>\n",
       "      <td>212</td>\n",
       "      <td>212</td>\n",
       "      <td>212</td>\n",
       "      <td>212</td>\n",
       "      <td>212</td>\n",
       "      <td>212</td>\n",
       "      <td>212</td>\n",
       "      <td>212</td>\n",
       "      <td>212</td>\n",
       "      <td>212</td>\n",
       "      <td>212</td>\n",
       "      <td>212</td>\n",
       "      <td>212</td>\n",
       "      <td>212</td>\n",
       "    </tr>\n",
       "    <tr>\n",
       "      <th>М</th>\n",
       "      <td>419</td>\n",
       "      <td>419</td>\n",
       "      <td>419</td>\n",
       "      <td>419</td>\n",
       "      <td>419</td>\n",
       "      <td>419</td>\n",
       "      <td>419</td>\n",
       "      <td>419</td>\n",
       "      <td>419</td>\n",
       "      <td>419</td>\n",
       "      <td>419</td>\n",
       "      <td>419</td>\n",
       "      <td>419</td>\n",
       "      <td>419</td>\n",
       "      <td>419</td>\n",
       "      <td>419</td>\n",
       "    </tr>\n",
       "    <tr>\n",
       "      <th rowspan=\"2\" valign=\"top\">28-35</th>\n",
       "      <th>Ж</th>\n",
       "      <td>1128</td>\n",
       "      <td>1128</td>\n",
       "      <td>1128</td>\n",
       "      <td>1128</td>\n",
       "      <td>1128</td>\n",
       "      <td>1128</td>\n",
       "      <td>1128</td>\n",
       "      <td>1128</td>\n",
       "      <td>1128</td>\n",
       "      <td>1128</td>\n",
       "      <td>1128</td>\n",
       "      <td>1128</td>\n",
       "      <td>1128</td>\n",
       "      <td>1128</td>\n",
       "      <td>1128</td>\n",
       "      <td>1128</td>\n",
       "    </tr>\n",
       "    <tr>\n",
       "      <th>М</th>\n",
       "      <td>1486</td>\n",
       "      <td>1486</td>\n",
       "      <td>1486</td>\n",
       "      <td>1486</td>\n",
       "      <td>1486</td>\n",
       "      <td>1486</td>\n",
       "      <td>1486</td>\n",
       "      <td>1486</td>\n",
       "      <td>1486</td>\n",
       "      <td>1486</td>\n",
       "      <td>1486</td>\n",
       "      <td>1486</td>\n",
       "      <td>1486</td>\n",
       "      <td>1486</td>\n",
       "      <td>1486</td>\n",
       "      <td>1486</td>\n",
       "    </tr>\n",
       "    <tr>\n",
       "      <th rowspan=\"2\" valign=\"top\">36-40</th>\n",
       "      <th>Ж</th>\n",
       "      <td>814</td>\n",
       "      <td>814</td>\n",
       "      <td>814</td>\n",
       "      <td>814</td>\n",
       "      <td>814</td>\n",
       "      <td>814</td>\n",
       "      <td>814</td>\n",
       "      <td>814</td>\n",
       "      <td>814</td>\n",
       "      <td>814</td>\n",
       "      <td>814</td>\n",
       "      <td>814</td>\n",
       "      <td>814</td>\n",
       "      <td>814</td>\n",
       "      <td>814</td>\n",
       "      <td>814</td>\n",
       "    </tr>\n",
       "    <tr>\n",
       "      <th>М</th>\n",
       "      <td>1012</td>\n",
       "      <td>1012</td>\n",
       "      <td>1012</td>\n",
       "      <td>1012</td>\n",
       "      <td>1012</td>\n",
       "      <td>1012</td>\n",
       "      <td>1012</td>\n",
       "      <td>1012</td>\n",
       "      <td>1012</td>\n",
       "      <td>1012</td>\n",
       "      <td>1012</td>\n",
       "      <td>1012</td>\n",
       "      <td>1012</td>\n",
       "      <td>1012</td>\n",
       "      <td>1012</td>\n",
       "      <td>1012</td>\n",
       "    </tr>\n",
       "    <tr>\n",
       "      <th rowspan=\"2\" valign=\"top\">41-50</th>\n",
       "      <th>Ж</th>\n",
       "      <td>1080</td>\n",
       "      <td>1080</td>\n",
       "      <td>1080</td>\n",
       "      <td>1080</td>\n",
       "      <td>1080</td>\n",
       "      <td>1080</td>\n",
       "      <td>1080</td>\n",
       "      <td>1080</td>\n",
       "      <td>1080</td>\n",
       "      <td>1080</td>\n",
       "      <td>1080</td>\n",
       "      <td>1080</td>\n",
       "      <td>1080</td>\n",
       "      <td>1080</td>\n",
       "      <td>1080</td>\n",
       "      <td>1080</td>\n",
       "    </tr>\n",
       "    <tr>\n",
       "      <th>М</th>\n",
       "      <td>1174</td>\n",
       "      <td>1174</td>\n",
       "      <td>1174</td>\n",
       "      <td>1174</td>\n",
       "      <td>1174</td>\n",
       "      <td>1174</td>\n",
       "      <td>1174</td>\n",
       "      <td>1174</td>\n",
       "      <td>1174</td>\n",
       "      <td>1174</td>\n",
       "      <td>1174</td>\n",
       "      <td>1174</td>\n",
       "      <td>1174</td>\n",
       "      <td>1174</td>\n",
       "      <td>1174</td>\n",
       "      <td>1174</td>\n",
       "    </tr>\n",
       "    <tr>\n",
       "      <th rowspan=\"2\" valign=\"top\">51-60</th>\n",
       "      <th>Ж</th>\n",
       "      <td>897</td>\n",
       "      <td>897</td>\n",
       "      <td>897</td>\n",
       "      <td>897</td>\n",
       "      <td>897</td>\n",
       "      <td>897</td>\n",
       "      <td>897</td>\n",
       "      <td>897</td>\n",
       "      <td>897</td>\n",
       "      <td>897</td>\n",
       "      <td>897</td>\n",
       "      <td>897</td>\n",
       "      <td>897</td>\n",
       "      <td>897</td>\n",
       "      <td>897</td>\n",
       "      <td>897</td>\n",
       "    </tr>\n",
       "    <tr>\n",
       "      <th>М</th>\n",
       "      <td>680</td>\n",
       "      <td>680</td>\n",
       "      <td>680</td>\n",
       "      <td>680</td>\n",
       "      <td>680</td>\n",
       "      <td>680</td>\n",
       "      <td>680</td>\n",
       "      <td>680</td>\n",
       "      <td>680</td>\n",
       "      <td>680</td>\n",
       "      <td>680</td>\n",
       "      <td>680</td>\n",
       "      <td>680</td>\n",
       "      <td>680</td>\n",
       "      <td>680</td>\n",
       "      <td>680</td>\n",
       "    </tr>\n",
       "    <tr>\n",
       "      <th rowspan=\"2\" valign=\"top\">61+</th>\n",
       "      <th>Ж</th>\n",
       "      <td>822</td>\n",
       "      <td>822</td>\n",
       "      <td>822</td>\n",
       "      <td>822</td>\n",
       "      <td>822</td>\n",
       "      <td>822</td>\n",
       "      <td>822</td>\n",
       "      <td>822</td>\n",
       "      <td>822</td>\n",
       "      <td>822</td>\n",
       "      <td>822</td>\n",
       "      <td>822</td>\n",
       "      <td>822</td>\n",
       "      <td>822</td>\n",
       "      <td>822</td>\n",
       "      <td>822</td>\n",
       "    </tr>\n",
       "    <tr>\n",
       "      <th>М</th>\n",
       "      <td>202</td>\n",
       "      <td>202</td>\n",
       "      <td>202</td>\n",
       "      <td>202</td>\n",
       "      <td>202</td>\n",
       "      <td>202</td>\n",
       "      <td>202</td>\n",
       "      <td>202</td>\n",
       "      <td>202</td>\n",
       "      <td>202</td>\n",
       "      <td>202</td>\n",
       "      <td>202</td>\n",
       "      <td>202</td>\n",
       "      <td>202</td>\n",
       "      <td>202</td>\n",
       "      <td>202</td>\n",
       "    </tr>\n",
       "  </tbody>\n",
       "</table>\n",
       "</div>"
      ],
      "text/plain": [
       "                userid  score  city   age  equity  balance  products  \\\n",
       "age_cat gender                                                         \n",
       "18-27   Ж          212    212   212   212     212      212       212   \n",
       "        М          419    419   419   419     419      419       419   \n",
       "28-35   Ж         1128   1128  1128  1128    1128     1128      1128   \n",
       "        М         1486   1486  1486  1486    1486     1486      1486   \n",
       "36-40   Ж          814    814   814   814     814      814       814   \n",
       "        М         1012   1012  1012  1012    1012     1012      1012   \n",
       "41-50   Ж         1080   1080  1080  1080    1080     1080      1080   \n",
       "        М         1174   1174  1174  1174    1174     1174      1174   \n",
       "51-60   Ж          897    897   897   897     897      897       897   \n",
       "        М          680    680   680   680     680      680       680   \n",
       "61+     Ж          822    822   822   822     822      822       822   \n",
       "        М          202    202   202   202     202      202       202   \n",
       "\n",
       "                credit_card  last_activity  est_salary  churn  gender_new_Ж  \\\n",
       "age_cat gender                                                                \n",
       "18-27   Ж               212            212         212    212           212   \n",
       "        М               419            419         419    419           419   \n",
       "28-35   Ж              1128           1128        1128   1128          1128   \n",
       "        М              1486           1486        1486   1486          1486   \n",
       "36-40   Ж               814            814         814    814           814   \n",
       "        М              1012           1012        1012   1012          1012   \n",
       "41-50   Ж              1080           1080        1080   1080          1080   \n",
       "        М              1174           1174        1174   1174          1174   \n",
       "51-60   Ж               897            897         897    897           897   \n",
       "        М               680            680         680    680           680   \n",
       "61+     Ж               822            822         822    822           822   \n",
       "        М               202            202         202    202           202   \n",
       "\n",
       "                gender_new_М  city_new_Ростов  city_new_Рыбинск  \\\n",
       "age_cat gender                                                    \n",
       "18-27   Ж                212              212               212   \n",
       "        М                419              419               419   \n",
       "28-35   Ж               1128             1128              1128   \n",
       "        М               1486             1486              1486   \n",
       "36-40   Ж                814              814               814   \n",
       "        М               1012             1012              1012   \n",
       "41-50   Ж               1080             1080              1080   \n",
       "        М               1174             1174              1174   \n",
       "51-60   Ж                897              897               897   \n",
       "        М                680              680               680   \n",
       "61+     Ж                822              822               822   \n",
       "        М                202              202               202   \n",
       "\n",
       "                city_new_Ярославль  \n",
       "age_cat gender                      \n",
       "18-27   Ж                      212  \n",
       "        М                      419  \n",
       "28-35   Ж                     1128  \n",
       "        М                     1486  \n",
       "36-40   Ж                      814  \n",
       "        М                     1012  \n",
       "41-50   Ж                     1080  \n",
       "        М                     1174  \n",
       "51-60   Ж                      897  \n",
       "        М                      680  \n",
       "61+     Ж                      822  \n",
       "        М                      202  "
      ]
     },
     "execution_count": 48,
     "metadata": {},
     "output_type": "execute_result"
    }
   ],
   "source": [
    "data.groupby(['age_cat', 'gender']).count()"
   ]
  },
  {
   "cell_type": "markdown",
   "id": "bee5af09",
   "metadata": {},
   "source": [
    "Далее разобьём клиентов по пользованию продуктами. \n"
   ]
  },
  {
   "cell_type": "code",
   "execution_count": 49,
   "id": "22a06393",
   "metadata": {},
   "outputs": [],
   "source": [
    "def product_sort(data):\n",
    "    product = data['products']\n",
    "    \n",
    "    if product <= 1:\n",
    "        return \"Неофиты\"\n",
    "    if product <= 2:\n",
    "        return \"Адепты\"\n",
    "    else: \n",
    "        return \"Фанаты\"\n",
    "    \n",
    "data['prod_cat'] = data.apply(product_sort, axis=1)"
   ]
  },
  {
   "cell_type": "code",
   "execution_count": 50,
   "id": "022da4a5",
   "metadata": {},
   "outputs": [
    {
     "data": {
      "text/html": [
       "<div>\n",
       "<style scoped>\n",
       "    .dataframe tbody tr th:only-of-type {\n",
       "        vertical-align: middle;\n",
       "    }\n",
       "\n",
       "    .dataframe tbody tr th {\n",
       "        vertical-align: top;\n",
       "    }\n",
       "\n",
       "    .dataframe thead th {\n",
       "        text-align: right;\n",
       "    }\n",
       "</style>\n",
       "<table border=\"1\" class=\"dataframe\">\n",
       "  <thead>\n",
       "    <tr style=\"text-align: right;\">\n",
       "      <th></th>\n",
       "      <th>userid</th>\n",
       "      <th>score</th>\n",
       "      <th>city</th>\n",
       "      <th>gender</th>\n",
       "      <th>age</th>\n",
       "      <th>equity</th>\n",
       "      <th>balance</th>\n",
       "      <th>products</th>\n",
       "      <th>credit_card</th>\n",
       "      <th>last_activity</th>\n",
       "      <th>est_salary</th>\n",
       "      <th>churn</th>\n",
       "      <th>gender_new_Ж</th>\n",
       "      <th>gender_new_М</th>\n",
       "      <th>city_new_Ростов</th>\n",
       "      <th>city_new_Рыбинск</th>\n",
       "      <th>city_new_Ярославль</th>\n",
       "      <th>age_cat</th>\n",
       "    </tr>\n",
       "    <tr>\n",
       "      <th>prod_cat</th>\n",
       "      <th></th>\n",
       "      <th></th>\n",
       "      <th></th>\n",
       "      <th></th>\n",
       "      <th></th>\n",
       "      <th></th>\n",
       "      <th></th>\n",
       "      <th></th>\n",
       "      <th></th>\n",
       "      <th></th>\n",
       "      <th></th>\n",
       "      <th></th>\n",
       "      <th></th>\n",
       "      <th></th>\n",
       "      <th></th>\n",
       "      <th></th>\n",
       "      <th></th>\n",
       "      <th></th>\n",
       "    </tr>\n",
       "  </thead>\n",
       "  <tbody>\n",
       "    <tr>\n",
       "      <th>Адепты</th>\n",
       "      <td>5081</td>\n",
       "      <td>5081</td>\n",
       "      <td>5081</td>\n",
       "      <td>5081</td>\n",
       "      <td>5081</td>\n",
       "      <td>5081</td>\n",
       "      <td>5081</td>\n",
       "      <td>5081</td>\n",
       "      <td>5081</td>\n",
       "      <td>5081</td>\n",
       "      <td>5081</td>\n",
       "      <td>5081</td>\n",
       "      <td>5081</td>\n",
       "      <td>5081</td>\n",
       "      <td>5081</td>\n",
       "      <td>5081</td>\n",
       "      <td>5081</td>\n",
       "      <td>5081</td>\n",
       "    </tr>\n",
       "    <tr>\n",
       "      <th>Неофиты</th>\n",
       "      <td>3306</td>\n",
       "      <td>3306</td>\n",
       "      <td>3306</td>\n",
       "      <td>3306</td>\n",
       "      <td>3306</td>\n",
       "      <td>3306</td>\n",
       "      <td>3306</td>\n",
       "      <td>3306</td>\n",
       "      <td>3306</td>\n",
       "      <td>3306</td>\n",
       "      <td>3306</td>\n",
       "      <td>3306</td>\n",
       "      <td>3306</td>\n",
       "      <td>3306</td>\n",
       "      <td>3306</td>\n",
       "      <td>3306</td>\n",
       "      <td>3306</td>\n",
       "      <td>3306</td>\n",
       "    </tr>\n",
       "    <tr>\n",
       "      <th>Фанаты</th>\n",
       "      <td>1539</td>\n",
       "      <td>1539</td>\n",
       "      <td>1539</td>\n",
       "      <td>1539</td>\n",
       "      <td>1539</td>\n",
       "      <td>1539</td>\n",
       "      <td>1539</td>\n",
       "      <td>1539</td>\n",
       "      <td>1539</td>\n",
       "      <td>1539</td>\n",
       "      <td>1539</td>\n",
       "      <td>1539</td>\n",
       "      <td>1539</td>\n",
       "      <td>1539</td>\n",
       "      <td>1539</td>\n",
       "      <td>1539</td>\n",
       "      <td>1539</td>\n",
       "      <td>1539</td>\n",
       "    </tr>\n",
       "  </tbody>\n",
       "</table>\n",
       "</div>"
      ],
      "text/plain": [
       "          userid  score  city  gender   age  equity  balance  products  \\\n",
       "prod_cat                                                                 \n",
       "Адепты      5081   5081  5081    5081  5081    5081     5081      5081   \n",
       "Неофиты     3306   3306  3306    3306  3306    3306     3306      3306   \n",
       "Фанаты      1539   1539  1539    1539  1539    1539     1539      1539   \n",
       "\n",
       "          credit_card  last_activity  est_salary  churn  gender_new_Ж  \\\n",
       "prod_cat                                                                \n",
       "Адепты           5081           5081        5081   5081          5081   \n",
       "Неофиты          3306           3306        3306   3306          3306   \n",
       "Фанаты           1539           1539        1539   1539          1539   \n",
       "\n",
       "          gender_new_М  city_new_Ростов  city_new_Рыбинск  city_new_Ярославль  \\\n",
       "prod_cat                                                                        \n",
       "Адепты            5081             5081              5081                5081   \n",
       "Неофиты           3306             3306              3306                3306   \n",
       "Фанаты            1539             1539              1539                1539   \n",
       "\n",
       "          age_cat  \n",
       "prod_cat           \n",
       "Адепты       5081  \n",
       "Неофиты      3306  \n",
       "Фанаты       1539  "
      ]
     },
     "execution_count": 50,
     "metadata": {},
     "output_type": "execute_result"
    }
   ],
   "source": [
    "data.groupby('prod_cat').count()"
   ]
  },
  {
   "cell_type": "code",
   "execution_count": 51,
   "id": "f2043f87",
   "metadata": {},
   "outputs": [
    {
     "data": {
      "text/html": [
       "<div>\n",
       "<style scoped>\n",
       "    .dataframe tbody tr th:only-of-type {\n",
       "        vertical-align: middle;\n",
       "    }\n",
       "\n",
       "    .dataframe tbody tr th {\n",
       "        vertical-align: top;\n",
       "    }\n",
       "\n",
       "    .dataframe thead th {\n",
       "        text-align: right;\n",
       "    }\n",
       "</style>\n",
       "<table border=\"1\" class=\"dataframe\">\n",
       "  <thead>\n",
       "    <tr style=\"text-align: right;\">\n",
       "      <th>churn</th>\n",
       "      <th>0</th>\n",
       "      <th>1</th>\n",
       "    </tr>\n",
       "    <tr>\n",
       "      <th>prod_cat</th>\n",
       "      <th></th>\n",
       "      <th></th>\n",
       "    </tr>\n",
       "  </thead>\n",
       "  <tbody>\n",
       "    <tr>\n",
       "      <th>Фанаты</th>\n",
       "      <td>0.605588</td>\n",
       "      <td>0.394412</td>\n",
       "    </tr>\n",
       "    <tr>\n",
       "      <th>Адепты</th>\n",
       "      <td>0.807518</td>\n",
       "      <td>0.192482</td>\n",
       "    </tr>\n",
       "    <tr>\n",
       "      <th>Неофиты</th>\n",
       "      <td>0.928917</td>\n",
       "      <td>0.071083</td>\n",
       "    </tr>\n",
       "  </tbody>\n",
       "</table>\n",
       "</div>"
      ],
      "text/plain": [
       "churn            0         1\n",
       "prod_cat                    \n",
       "Фанаты    0.605588  0.394412\n",
       "Адепты    0.807518  0.192482\n",
       "Неофиты   0.928917  0.071083"
      ]
     },
     "execution_count": 51,
     "metadata": {},
     "output_type": "execute_result"
    }
   ],
   "source": [
    "pd.crosstab(data['prod_cat'], data['churn'], normalize='index').sort_values(by=1, ascending=False)"
   ]
  },
  {
   "cell_type": "code",
   "execution_count": 52,
   "id": "c35c27f9",
   "metadata": {},
   "outputs": [
    {
     "data": {
      "text/html": [
       "<style type=\"text/css\">\n",
       "</style>\n",
       "<table id=\"T_dd876\">\n",
       "  <thead>\n",
       "    <tr>\n",
       "      <th class=\"blank level0\" >&nbsp;</th>\n",
       "      <th id=\"T_dd876_level0_col0\" class=\"col_heading level0 col0\" >userid</th>\n",
       "      <th id=\"T_dd876_level0_col1\" class=\"col_heading level0 col1\" >score</th>\n",
       "      <th id=\"T_dd876_level0_col2\" class=\"col_heading level0 col2\" >age</th>\n",
       "      <th id=\"T_dd876_level0_col3\" class=\"col_heading level0 col3\" >equity</th>\n",
       "      <th id=\"T_dd876_level0_col4\" class=\"col_heading level0 col4\" >balance</th>\n",
       "      <th id=\"T_dd876_level0_col5\" class=\"col_heading level0 col5\" >products</th>\n",
       "      <th id=\"T_dd876_level0_col6\" class=\"col_heading level0 col6\" >credit_card</th>\n",
       "      <th id=\"T_dd876_level0_col7\" class=\"col_heading level0 col7\" >last_activity</th>\n",
       "      <th id=\"T_dd876_level0_col8\" class=\"col_heading level0 col8\" >est_salary</th>\n",
       "      <th id=\"T_dd876_level0_col9\" class=\"col_heading level0 col9\" >churn</th>\n",
       "      <th id=\"T_dd876_level0_col10\" class=\"col_heading level0 col10\" >gender_new_Ж</th>\n",
       "      <th id=\"T_dd876_level0_col11\" class=\"col_heading level0 col11\" >gender_new_М</th>\n",
       "      <th id=\"T_dd876_level0_col12\" class=\"col_heading level0 col12\" >city_new_Ростов</th>\n",
       "      <th id=\"T_dd876_level0_col13\" class=\"col_heading level0 col13\" >city_new_Рыбинск</th>\n",
       "      <th id=\"T_dd876_level0_col14\" class=\"col_heading level0 col14\" >city_new_Ярославль</th>\n",
       "    </tr>\n",
       "    <tr>\n",
       "      <th class=\"index_name level0\" >prod_cat</th>\n",
       "      <th class=\"blank col0\" >&nbsp;</th>\n",
       "      <th class=\"blank col1\" >&nbsp;</th>\n",
       "      <th class=\"blank col2\" >&nbsp;</th>\n",
       "      <th class=\"blank col3\" >&nbsp;</th>\n",
       "      <th class=\"blank col4\" >&nbsp;</th>\n",
       "      <th class=\"blank col5\" >&nbsp;</th>\n",
       "      <th class=\"blank col6\" >&nbsp;</th>\n",
       "      <th class=\"blank col7\" >&nbsp;</th>\n",
       "      <th class=\"blank col8\" >&nbsp;</th>\n",
       "      <th class=\"blank col9\" >&nbsp;</th>\n",
       "      <th class=\"blank col10\" >&nbsp;</th>\n",
       "      <th class=\"blank col11\" >&nbsp;</th>\n",
       "      <th class=\"blank col12\" >&nbsp;</th>\n",
       "      <th class=\"blank col13\" >&nbsp;</th>\n",
       "      <th class=\"blank col14\" >&nbsp;</th>\n",
       "    </tr>\n",
       "  </thead>\n",
       "  <tbody>\n",
       "    <tr>\n",
       "      <th id=\"T_dd876_level0_row0\" class=\"row_heading level0 row0\" >Адепты</th>\n",
       "      <td id=\"T_dd876_row0_col0\" class=\"data row0 col0\" >171_438.71</td>\n",
       "      <td id=\"T_dd876_row0_col1\" class=\"data row0 col1\" >844.55</td>\n",
       "      <td id=\"T_dd876_row0_col2\" class=\"data row0 col2\" >43.16</td>\n",
       "      <td id=\"T_dd876_row0_col3\" class=\"data row0 col3\" >3.15</td>\n",
       "      <td id=\"T_dd876_row0_col4\" class=\"data row0 col4\" >765_753.17</td>\n",
       "      <td id=\"T_dd876_row0_col5\" class=\"data row0 col5\" >2.00</td>\n",
       "      <td id=\"T_dd876_row0_col6\" class=\"data row0 col6\" >0.63</td>\n",
       "      <td id=\"T_dd876_row0_col7\" class=\"data row0 col7\" >0.52</td>\n",
       "      <td id=\"T_dd876_row0_col8\" class=\"data row0 col8\" >130_772.91</td>\n",
       "      <td id=\"T_dd876_row0_col9\" class=\"data row0 col9\" >0.19</td>\n",
       "      <td id=\"T_dd876_row0_col10\" class=\"data row0 col10\" >0.52</td>\n",
       "      <td id=\"T_dd876_row0_col11\" class=\"data row0 col11\" >0.48</td>\n",
       "      <td id=\"T_dd876_row0_col12\" class=\"data row0 col12\" >0.16</td>\n",
       "      <td id=\"T_dd876_row0_col13\" class=\"data row0 col13\" >0.30</td>\n",
       "      <td id=\"T_dd876_row0_col14\" class=\"data row0 col14\" >0.54</td>\n",
       "    </tr>\n",
       "    <tr>\n",
       "      <th id=\"T_dd876_level0_row1\" class=\"row_heading level0 row1\" >Неофиты</th>\n",
       "      <td id=\"T_dd876_row1_col0\" class=\"data row1 col0\" >172_048.62</td>\n",
       "      <td id=\"T_dd876_row1_col1\" class=\"data row1 col1\" >853.65</td>\n",
       "      <td id=\"T_dd876_row1_col2\" class=\"data row1 col2\" >41.84</td>\n",
       "      <td id=\"T_dd876_row1_col3\" class=\"data row1 col3\" >1.33</td>\n",
       "      <td id=\"T_dd876_row1_col4\" class=\"data row1 col4\" >256_071.26</td>\n",
       "      <td id=\"T_dd876_row1_col5\" class=\"data row1 col5\" >1.00</td>\n",
       "      <td id=\"T_dd876_row1_col6\" class=\"data row1 col6\" >0.87</td>\n",
       "      <td id=\"T_dd876_row1_col7\" class=\"data row1 col7\" >0.53</td>\n",
       "      <td id=\"T_dd876_row1_col8\" class=\"data row1 col8\" >180_616.23</td>\n",
       "      <td id=\"T_dd876_row1_col9\" class=\"data row1 col9\" >0.07</td>\n",
       "      <td id=\"T_dd876_row1_col10\" class=\"data row1 col10\" >0.46</td>\n",
       "      <td id=\"T_dd876_row1_col11\" class=\"data row1 col11\" >0.54</td>\n",
       "      <td id=\"T_dd876_row1_col12\" class=\"data row1 col12\" >0.13</td>\n",
       "      <td id=\"T_dd876_row1_col13\" class=\"data row1 col13\" >0.26</td>\n",
       "      <td id=\"T_dd876_row1_col14\" class=\"data row1 col14\" >0.61</td>\n",
       "    </tr>\n",
       "    <tr>\n",
       "      <th id=\"T_dd876_level0_row2\" class=\"row_heading level0 row2\" >Фанаты</th>\n",
       "      <td id=\"T_dd876_row2_col0\" class=\"data row2 col0\" >172_081.32</td>\n",
       "      <td id=\"T_dd876_row2_col1\" class=\"data row2 col1\" >850.16</td>\n",
       "      <td id=\"T_dd876_row2_col2\" class=\"data row2 col2\" >43.86</td>\n",
       "      <td id=\"T_dd876_row2_col3\" class=\"data row2 col3\" >3.72</td>\n",
       "      <td id=\"T_dd876_row2_col4\" class=\"data row2 col4\" >1_051_218.47</td>\n",
       "      <td id=\"T_dd876_row2_col5\" class=\"data row2 col5\" >3.35</td>\n",
       "      <td id=\"T_dd876_row2_col6\" class=\"data row2 col6\" >0.45</td>\n",
       "      <td id=\"T_dd876_row2_col7\" class=\"data row2 col7\" >0.54</td>\n",
       "      <td id=\"T_dd876_row2_col8\" class=\"data row2 col8\" >134_190.12</td>\n",
       "      <td id=\"T_dd876_row2_col9\" class=\"data row2 col9\" >0.39</td>\n",
       "      <td id=\"T_dd876_row2_col10\" class=\"data row2 col10\" >0.51</td>\n",
       "      <td id=\"T_dd876_row2_col11\" class=\"data row2 col11\" >0.49</td>\n",
       "      <td id=\"T_dd876_row2_col12\" class=\"data row2 col12\" >0.11</td>\n",
       "      <td id=\"T_dd876_row2_col13\" class=\"data row2 col13\" >0.17</td>\n",
       "      <td id=\"T_dd876_row2_col14\" class=\"data row2 col14\" >0.72</td>\n",
       "    </tr>\n",
       "  </tbody>\n",
       "</table>\n"
      ],
      "text/plain": [
       "<pandas.io.formats.style.Styler at 0x2e4ada88670>"
      ]
     },
     "execution_count": 52,
     "metadata": {},
     "output_type": "execute_result"
    }
   ],
   "source": [
    "data.groupby('prod_cat').mean().style.format(\"{:_.2f}\")"
   ]
  },
  {
   "cell_type": "code",
   "execution_count": 53,
   "id": "c50ff8f9",
   "metadata": {},
   "outputs": [
    {
     "data": {
      "text/html": [
       "<style type=\"text/css\">\n",
       "</style>\n",
       "<table id=\"T_59dd8\">\n",
       "  <thead>\n",
       "    <tr>\n",
       "      <th class=\"blank\" >&nbsp;</th>\n",
       "      <th class=\"blank level0\" >&nbsp;</th>\n",
       "      <th id=\"T_59dd8_level0_col0\" class=\"col_heading level0 col0\" >userid</th>\n",
       "      <th id=\"T_59dd8_level0_col1\" class=\"col_heading level0 col1\" >score</th>\n",
       "      <th id=\"T_59dd8_level0_col2\" class=\"col_heading level0 col2\" >age</th>\n",
       "      <th id=\"T_59dd8_level0_col3\" class=\"col_heading level0 col3\" >equity</th>\n",
       "      <th id=\"T_59dd8_level0_col4\" class=\"col_heading level0 col4\" >balance</th>\n",
       "      <th id=\"T_59dd8_level0_col5\" class=\"col_heading level0 col5\" >products</th>\n",
       "      <th id=\"T_59dd8_level0_col6\" class=\"col_heading level0 col6\" >credit_card</th>\n",
       "      <th id=\"T_59dd8_level0_col7\" class=\"col_heading level0 col7\" >last_activity</th>\n",
       "      <th id=\"T_59dd8_level0_col8\" class=\"col_heading level0 col8\" >est_salary</th>\n",
       "      <th id=\"T_59dd8_level0_col9\" class=\"col_heading level0 col9\" >churn</th>\n",
       "      <th id=\"T_59dd8_level0_col10\" class=\"col_heading level0 col10\" >gender_new_Ж</th>\n",
       "      <th id=\"T_59dd8_level0_col11\" class=\"col_heading level0 col11\" >gender_new_М</th>\n",
       "      <th id=\"T_59dd8_level0_col12\" class=\"col_heading level0 col12\" >city_new_Ростов</th>\n",
       "      <th id=\"T_59dd8_level0_col13\" class=\"col_heading level0 col13\" >city_new_Рыбинск</th>\n",
       "      <th id=\"T_59dd8_level0_col14\" class=\"col_heading level0 col14\" >city_new_Ярославль</th>\n",
       "    </tr>\n",
       "    <tr>\n",
       "      <th class=\"index_name level0\" >prod_cat</th>\n",
       "      <th class=\"index_name level1\" >gender</th>\n",
       "      <th class=\"blank col0\" >&nbsp;</th>\n",
       "      <th class=\"blank col1\" >&nbsp;</th>\n",
       "      <th class=\"blank col2\" >&nbsp;</th>\n",
       "      <th class=\"blank col3\" >&nbsp;</th>\n",
       "      <th class=\"blank col4\" >&nbsp;</th>\n",
       "      <th class=\"blank col5\" >&nbsp;</th>\n",
       "      <th class=\"blank col6\" >&nbsp;</th>\n",
       "      <th class=\"blank col7\" >&nbsp;</th>\n",
       "      <th class=\"blank col8\" >&nbsp;</th>\n",
       "      <th class=\"blank col9\" >&nbsp;</th>\n",
       "      <th class=\"blank col10\" >&nbsp;</th>\n",
       "      <th class=\"blank col11\" >&nbsp;</th>\n",
       "      <th class=\"blank col12\" >&nbsp;</th>\n",
       "      <th class=\"blank col13\" >&nbsp;</th>\n",
       "      <th class=\"blank col14\" >&nbsp;</th>\n",
       "    </tr>\n",
       "  </thead>\n",
       "  <tbody>\n",
       "    <tr>\n",
       "      <th id=\"T_59dd8_level0_row0\" class=\"row_heading level0 row0\" rowspan=\"2\">Адепты</th>\n",
       "      <th id=\"T_59dd8_level1_row0\" class=\"row_heading level1 row0\" >Ж</th>\n",
       "      <td id=\"T_59dd8_row0_col0\" class=\"data row0 col0\" >171_032.18</td>\n",
       "      <td id=\"T_59dd8_row0_col1\" class=\"data row0 col1\" >845.13</td>\n",
       "      <td id=\"T_59dd8_row0_col2\" class=\"data row0 col2\" >45.64</td>\n",
       "      <td id=\"T_59dd8_row0_col3\" class=\"data row0 col3\" >3.15</td>\n",
       "      <td id=\"T_59dd8_row0_col4\" class=\"data row0 col4\" >665_506.94</td>\n",
       "      <td id=\"T_59dd8_row0_col5\" class=\"data row0 col5\" >2.00</td>\n",
       "      <td id=\"T_59dd8_row0_col6\" class=\"data row0 col6\" >0.56</td>\n",
       "      <td id=\"T_59dd8_row0_col7\" class=\"data row0 col7\" >0.53</td>\n",
       "      <td id=\"T_59dd8_row0_col8\" class=\"data row0 col8\" >121_300.87</td>\n",
       "      <td id=\"T_59dd8_row0_col9\" class=\"data row0 col9\" >0.13</td>\n",
       "      <td id=\"T_59dd8_row0_col10\" class=\"data row0 col10\" >1.00</td>\n",
       "      <td id=\"T_59dd8_row0_col11\" class=\"data row0 col11\" >0.00</td>\n",
       "      <td id=\"T_59dd8_row0_col12\" class=\"data row0 col12\" >0.17</td>\n",
       "      <td id=\"T_59dd8_row0_col13\" class=\"data row0 col13\" >0.31</td>\n",
       "      <td id=\"T_59dd8_row0_col14\" class=\"data row0 col14\" >0.52</td>\n",
       "    </tr>\n",
       "    <tr>\n",
       "      <th id=\"T_59dd8_level1_row1\" class=\"row_heading level1 row1\" >М</th>\n",
       "      <td id=\"T_59dd8_row1_col0\" class=\"data row1 col0\" >171_881.16</td>\n",
       "      <td id=\"T_59dd8_row1_col1\" class=\"data row1 col1\" >843.93</td>\n",
       "      <td id=\"T_59dd8_row1_col2\" class=\"data row1 col2\" >40.46</td>\n",
       "      <td id=\"T_59dd8_row1_col3\" class=\"data row1 col3\" >3.15</td>\n",
       "      <td id=\"T_59dd8_row1_col4\" class=\"data row1 col4\" >874_857.98</td>\n",
       "      <td id=\"T_59dd8_row1_col5\" class=\"data row1 col5\" >2.00</td>\n",
       "      <td id=\"T_59dd8_row1_col6\" class=\"data row1 col6\" >0.70</td>\n",
       "      <td id=\"T_59dd8_row1_col7\" class=\"data row1 col7\" >0.50</td>\n",
       "      <td id=\"T_59dd8_row1_col8\" class=\"data row1 col8\" >141_081.98</td>\n",
       "      <td id=\"T_59dd8_row1_col9\" class=\"data row1 col9\" >0.26</td>\n",
       "      <td id=\"T_59dd8_row1_col10\" class=\"data row1 col10\" >0.00</td>\n",
       "      <td id=\"T_59dd8_row1_col11\" class=\"data row1 col11\" >1.00</td>\n",
       "      <td id=\"T_59dd8_row1_col12\" class=\"data row1 col12\" >0.15</td>\n",
       "      <td id=\"T_59dd8_row1_col13\" class=\"data row1 col13\" >0.29</td>\n",
       "      <td id=\"T_59dd8_row1_col14\" class=\"data row1 col14\" >0.56</td>\n",
       "    </tr>\n",
       "    <tr>\n",
       "      <th id=\"T_59dd8_level0_row2\" class=\"row_heading level0 row2\" rowspan=\"2\">Неофиты</th>\n",
       "      <th id=\"T_59dd8_level1_row2\" class=\"row_heading level1 row2\" >Ж</th>\n",
       "      <td id=\"T_59dd8_row2_col0\" class=\"data row2 col0\" >171_610.58</td>\n",
       "      <td id=\"T_59dd8_row2_col1\" class=\"data row2 col1\" >852.57</td>\n",
       "      <td id=\"T_59dd8_row2_col2\" class=\"data row2 col2\" >44.79</td>\n",
       "      <td id=\"T_59dd8_row2_col3\" class=\"data row2 col3\" >1.40</td>\n",
       "      <td id=\"T_59dd8_row2_col4\" class=\"data row2 col4\" >254_381.20</td>\n",
       "      <td id=\"T_59dd8_row2_col5\" class=\"data row2 col5\" >1.00</td>\n",
       "      <td id=\"T_59dd8_row2_col6\" class=\"data row2 col6\" >0.85</td>\n",
       "      <td id=\"T_59dd8_row2_col7\" class=\"data row2 col7\" >0.53</td>\n",
       "      <td id=\"T_59dd8_row2_col8\" class=\"data row2 col8\" >169_762.10</td>\n",
       "      <td id=\"T_59dd8_row2_col9\" class=\"data row2 col9\" >0.04</td>\n",
       "      <td id=\"T_59dd8_row2_col10\" class=\"data row2 col10\" >1.00</td>\n",
       "      <td id=\"T_59dd8_row2_col11\" class=\"data row2 col11\" >0.00</td>\n",
       "      <td id=\"T_59dd8_row2_col12\" class=\"data row2 col12\" >0.14</td>\n",
       "      <td id=\"T_59dd8_row2_col13\" class=\"data row2 col13\" >0.27</td>\n",
       "      <td id=\"T_59dd8_row2_col14\" class=\"data row2 col14\" >0.60</td>\n",
       "    </tr>\n",
       "    <tr>\n",
       "      <th id=\"T_59dd8_level1_row3\" class=\"row_heading level1 row3\" >М</th>\n",
       "      <td id=\"T_59dd8_row3_col0\" class=\"data row3 col0\" >172_420.96</td>\n",
       "      <td id=\"T_59dd8_row3_col1\" class=\"data row3 col1\" >854.57</td>\n",
       "      <td id=\"T_59dd8_row3_col2\" class=\"data row3 col2\" >39.34</td>\n",
       "      <td id=\"T_59dd8_row3_col3\" class=\"data row3 col3\" >1.28</td>\n",
       "      <td id=\"T_59dd8_row3_col4\" class=\"data row3 col4\" >257_507.86</td>\n",
       "      <td id=\"T_59dd8_row3_col5\" class=\"data row3 col5\" >1.00</td>\n",
       "      <td id=\"T_59dd8_row3_col6\" class=\"data row3 col6\" >0.88</td>\n",
       "      <td id=\"T_59dd8_row3_col7\" class=\"data row3 col7\" >0.53</td>\n",
       "      <td id=\"T_59dd8_row3_col8\" class=\"data row3 col8\" >189_842.55</td>\n",
       "      <td id=\"T_59dd8_row3_col9\" class=\"data row3 col9\" >0.10</td>\n",
       "      <td id=\"T_59dd8_row3_col10\" class=\"data row3 col10\" >0.00</td>\n",
       "      <td id=\"T_59dd8_row3_col11\" class=\"data row3 col11\" >1.00</td>\n",
       "      <td id=\"T_59dd8_row3_col12\" class=\"data row3 col12\" >0.13</td>\n",
       "      <td id=\"T_59dd8_row3_col13\" class=\"data row3 col13\" >0.25</td>\n",
       "      <td id=\"T_59dd8_row3_col14\" class=\"data row3 col14\" >0.62</td>\n",
       "    </tr>\n",
       "    <tr>\n",
       "      <th id=\"T_59dd8_level0_row4\" class=\"row_heading level0 row4\" rowspan=\"2\">Фанаты</th>\n",
       "      <th id=\"T_59dd8_level1_row4\" class=\"row_heading level1 row4\" >Ж</th>\n",
       "      <td id=\"T_59dd8_row4_col0\" class=\"data row4 col0\" >167_929.24</td>\n",
       "      <td id=\"T_59dd8_row4_col1\" class=\"data row4 col1\" >846.72</td>\n",
       "      <td id=\"T_59dd8_row4_col2\" class=\"data row4 col2\" >46.80</td>\n",
       "      <td id=\"T_59dd8_row4_col3\" class=\"data row4 col3\" >3.54</td>\n",
       "      <td id=\"T_59dd8_row4_col4\" class=\"data row4 col4\" >930_775.17</td>\n",
       "      <td id=\"T_59dd8_row4_col5\" class=\"data row4 col5\" >3.26</td>\n",
       "      <td id=\"T_59dd8_row4_col6\" class=\"data row4 col6\" >0.36</td>\n",
       "      <td id=\"T_59dd8_row4_col7\" class=\"data row4 col7\" >0.53</td>\n",
       "      <td id=\"T_59dd8_row4_col8\" class=\"data row4 col8\" >123_353.08</td>\n",
       "      <td id=\"T_59dd8_row4_col9\" class=\"data row4 col9\" >0.29</td>\n",
       "      <td id=\"T_59dd8_row4_col10\" class=\"data row4 col10\" >1.00</td>\n",
       "      <td id=\"T_59dd8_row4_col11\" class=\"data row4 col11\" >0.00</td>\n",
       "      <td id=\"T_59dd8_row4_col12\" class=\"data row4 col12\" >0.11</td>\n",
       "      <td id=\"T_59dd8_row4_col13\" class=\"data row4 col13\" >0.14</td>\n",
       "      <td id=\"T_59dd8_row4_col14\" class=\"data row4 col14\" >0.75</td>\n",
       "    </tr>\n",
       "    <tr>\n",
       "      <th id=\"T_59dd8_level1_row5\" class=\"row_heading level1 row5\" >М</th>\n",
       "      <td id=\"T_59dd8_row5_col0\" class=\"data row5 col0\" >176_415.36</td>\n",
       "      <td id=\"T_59dd8_row5_col1\" class=\"data row5 col1\" >853.75</td>\n",
       "      <td id=\"T_59dd8_row5_col2\" class=\"data row5 col2\" >40.79</td>\n",
       "      <td id=\"T_59dd8_row5_col3\" class=\"data row5 col3\" >3.91</td>\n",
       "      <td id=\"T_59dd8_row5_col4\" class=\"data row5 col4\" >1_176_940.16</td>\n",
       "      <td id=\"T_59dd8_row5_col5\" class=\"data row5 col5\" >3.43</td>\n",
       "      <td id=\"T_59dd8_row5_col6\" class=\"data row5 col6\" >0.55</td>\n",
       "      <td id=\"T_59dd8_row5_col7\" class=\"data row5 col7\" >0.56</td>\n",
       "      <td id=\"T_59dd8_row5_col8\" class=\"data row5 col8\" >145_502.09</td>\n",
       "      <td id=\"T_59dd8_row5_col9\" class=\"data row5 col9\" >0.50</td>\n",
       "      <td id=\"T_59dd8_row5_col10\" class=\"data row5 col10\" >0.00</td>\n",
       "      <td id=\"T_59dd8_row5_col11\" class=\"data row5 col11\" >1.00</td>\n",
       "      <td id=\"T_59dd8_row5_col12\" class=\"data row5 col12\" >0.12</td>\n",
       "      <td id=\"T_59dd8_row5_col13\" class=\"data row5 col13\" >0.19</td>\n",
       "      <td id=\"T_59dd8_row5_col14\" class=\"data row5 col14\" >0.69</td>\n",
       "    </tr>\n",
       "  </tbody>\n",
       "</table>\n"
      ],
      "text/plain": [
       "<pandas.io.formats.style.Styler at 0x2e4af162640>"
      ]
     },
     "execution_count": 53,
     "metadata": {},
     "output_type": "execute_result"
    }
   ],
   "source": [
    "data.groupby(['prod_cat', 'gender']).mean().style.format(\"{:_.2f}\")"
   ]
  },
  {
   "cell_type": "markdown",
   "id": "1eea5c2c",
   "metadata": {},
   "source": [
    "Видим, что и тут наибольший отток среди мужчин, которые используют свыше трёх продуктов - почти каждый второй. Но и отток среди женщин в этой группе также очень высокий - 29%. Отметим, что в группе \"неофиты\", где наименьшее пользование банковскими продуктами наименьший отток (9% для мужчин и 4% для женщин). В группах \"адепты\" и \"фанаты\" - высокое среднее значение значимой собственности - порядка 3-х объектов."
   ]
  },
  {
   "cell_type": "markdown",
   "id": "98336c1a",
   "metadata": {},
   "source": [
    "Последняя категоризация каснётся количества ценной собственности. "
   ]
  },
  {
   "cell_type": "code",
   "execution_count": 54,
   "id": "59e942d1",
   "metadata": {},
   "outputs": [],
   "source": [
    "def equity_sort(data):\n",
    "    equity = data['equity']\n",
    "    \n",
    "    if equity == 0:\n",
    "        return \"Нет собственности\"\n",
    "    if equity <= 2:\n",
    "        return \"1-2 объекта\"\n",
    "    if equity <= 3:\n",
    "        return \"3 объекта\"\n",
    "    else: \n",
    "        return \"4 и больше\"\n",
    "    \n",
    "data['equity_cat'] = data.apply(equity_sort, axis=1)"
   ]
  },
  {
   "cell_type": "code",
   "execution_count": 55,
   "id": "547b6760",
   "metadata": {},
   "outputs": [
    {
     "data": {
      "text/html": [
       "<div>\n",
       "<style scoped>\n",
       "    .dataframe tbody tr th:only-of-type {\n",
       "        vertical-align: middle;\n",
       "    }\n",
       "\n",
       "    .dataframe tbody tr th {\n",
       "        vertical-align: top;\n",
       "    }\n",
       "\n",
       "    .dataframe thead th {\n",
       "        text-align: right;\n",
       "    }\n",
       "</style>\n",
       "<table border=\"1\" class=\"dataframe\">\n",
       "  <thead>\n",
       "    <tr style=\"text-align: right;\">\n",
       "      <th></th>\n",
       "      <th>userid</th>\n",
       "      <th>score</th>\n",
       "      <th>city</th>\n",
       "      <th>gender</th>\n",
       "      <th>age</th>\n",
       "      <th>equity</th>\n",
       "      <th>balance</th>\n",
       "      <th>products</th>\n",
       "      <th>credit_card</th>\n",
       "      <th>last_activity</th>\n",
       "      <th>est_salary</th>\n",
       "      <th>churn</th>\n",
       "      <th>gender_new_Ж</th>\n",
       "      <th>gender_new_М</th>\n",
       "      <th>city_new_Ростов</th>\n",
       "      <th>city_new_Рыбинск</th>\n",
       "      <th>city_new_Ярославль</th>\n",
       "      <th>age_cat</th>\n",
       "      <th>prod_cat</th>\n",
       "    </tr>\n",
       "    <tr>\n",
       "      <th>equity_cat</th>\n",
       "      <th></th>\n",
       "      <th></th>\n",
       "      <th></th>\n",
       "      <th></th>\n",
       "      <th></th>\n",
       "      <th></th>\n",
       "      <th></th>\n",
       "      <th></th>\n",
       "      <th></th>\n",
       "      <th></th>\n",
       "      <th></th>\n",
       "      <th></th>\n",
       "      <th></th>\n",
       "      <th></th>\n",
       "      <th></th>\n",
       "      <th></th>\n",
       "      <th></th>\n",
       "      <th></th>\n",
       "      <th></th>\n",
       "    </tr>\n",
       "  </thead>\n",
       "  <tbody>\n",
       "    <tr>\n",
       "      <th>1-2 объекта</th>\n",
       "      <td>1818</td>\n",
       "      <td>1818</td>\n",
       "      <td>1818</td>\n",
       "      <td>1818</td>\n",
       "      <td>1818</td>\n",
       "      <td>1818</td>\n",
       "      <td>1818</td>\n",
       "      <td>1818</td>\n",
       "      <td>1818</td>\n",
       "      <td>1818</td>\n",
       "      <td>1818</td>\n",
       "      <td>1818</td>\n",
       "      <td>1818</td>\n",
       "      <td>1818</td>\n",
       "      <td>1818</td>\n",
       "      <td>1818</td>\n",
       "      <td>1818</td>\n",
       "      <td>1818</td>\n",
       "      <td>1818</td>\n",
       "    </tr>\n",
       "    <tr>\n",
       "      <th>3 объекта</th>\n",
       "      <td>1532</td>\n",
       "      <td>1532</td>\n",
       "      <td>1532</td>\n",
       "      <td>1532</td>\n",
       "      <td>1532</td>\n",
       "      <td>1532</td>\n",
       "      <td>1532</td>\n",
       "      <td>1532</td>\n",
       "      <td>1532</td>\n",
       "      <td>1532</td>\n",
       "      <td>1532</td>\n",
       "      <td>1532</td>\n",
       "      <td>1532</td>\n",
       "      <td>1532</td>\n",
       "      <td>1532</td>\n",
       "      <td>1532</td>\n",
       "      <td>1532</td>\n",
       "      <td>1532</td>\n",
       "      <td>1532</td>\n",
       "    </tr>\n",
       "    <tr>\n",
       "      <th>4 и больше</th>\n",
       "      <td>4022</td>\n",
       "      <td>4022</td>\n",
       "      <td>4022</td>\n",
       "      <td>4022</td>\n",
       "      <td>4022</td>\n",
       "      <td>4022</td>\n",
       "      <td>4022</td>\n",
       "      <td>4022</td>\n",
       "      <td>4022</td>\n",
       "      <td>4022</td>\n",
       "      <td>4022</td>\n",
       "      <td>4022</td>\n",
       "      <td>4022</td>\n",
       "      <td>4022</td>\n",
       "      <td>4022</td>\n",
       "      <td>4022</td>\n",
       "      <td>4022</td>\n",
       "      <td>4022</td>\n",
       "      <td>4022</td>\n",
       "    </tr>\n",
       "    <tr>\n",
       "      <th>Нет собственности</th>\n",
       "      <td>2554</td>\n",
       "      <td>2554</td>\n",
       "      <td>2554</td>\n",
       "      <td>2554</td>\n",
       "      <td>2554</td>\n",
       "      <td>2554</td>\n",
       "      <td>2554</td>\n",
       "      <td>2554</td>\n",
       "      <td>2554</td>\n",
       "      <td>2554</td>\n",
       "      <td>2554</td>\n",
       "      <td>2554</td>\n",
       "      <td>2554</td>\n",
       "      <td>2554</td>\n",
       "      <td>2554</td>\n",
       "      <td>2554</td>\n",
       "      <td>2554</td>\n",
       "      <td>2554</td>\n",
       "      <td>2554</td>\n",
       "    </tr>\n",
       "  </tbody>\n",
       "</table>\n",
       "</div>"
      ],
      "text/plain": [
       "                   userid  score  city  gender   age  equity  balance  \\\n",
       "equity_cat                                                              \n",
       "1-2 объекта          1818   1818  1818    1818  1818    1818     1818   \n",
       "3 объекта            1532   1532  1532    1532  1532    1532     1532   \n",
       "4 и больше           4022   4022  4022    4022  4022    4022     4022   \n",
       "Нет собственности    2554   2554  2554    2554  2554    2554     2554   \n",
       "\n",
       "                   products  credit_card  last_activity  est_salary  churn  \\\n",
       "equity_cat                                                                   \n",
       "1-2 объекта            1818         1818           1818        1818   1818   \n",
       "3 объекта              1532         1532           1532        1532   1532   \n",
       "4 и больше             4022         4022           4022        4022   4022   \n",
       "Нет собственности      2554         2554           2554        2554   2554   \n",
       "\n",
       "                   gender_new_Ж  gender_new_М  city_new_Ростов  \\\n",
       "equity_cat                                                       \n",
       "1-2 объекта                1818          1818             1818   \n",
       "3 объекта                  1532          1532             1532   \n",
       "4 и больше                 4022          4022             4022   \n",
       "Нет собственности          2554          2554             2554   \n",
       "\n",
       "                   city_new_Рыбинск  city_new_Ярославль  age_cat  prod_cat  \n",
       "equity_cat                                                                  \n",
       "1-2 объекта                    1818                1818     1818      1818  \n",
       "3 объекта                      1532                1532     1532      1532  \n",
       "4 и больше                     4022                4022     4022      4022  \n",
       "Нет собственности              2554                2554     2554      2554  "
      ]
     },
     "execution_count": 55,
     "metadata": {},
     "output_type": "execute_result"
    }
   ],
   "source": [
    "data.groupby('equity_cat').count()"
   ]
  },
  {
   "cell_type": "code",
   "execution_count": 56,
   "id": "f666559a",
   "metadata": {},
   "outputs": [
    {
     "data": {
      "text/html": [
       "<div>\n",
       "<style scoped>\n",
       "    .dataframe tbody tr th:only-of-type {\n",
       "        vertical-align: middle;\n",
       "    }\n",
       "\n",
       "    .dataframe tbody tr th {\n",
       "        vertical-align: top;\n",
       "    }\n",
       "\n",
       "    .dataframe thead th {\n",
       "        text-align: right;\n",
       "    }\n",
       "</style>\n",
       "<table border=\"1\" class=\"dataframe\">\n",
       "  <thead>\n",
       "    <tr style=\"text-align: right;\">\n",
       "      <th>churn</th>\n",
       "      <th>0</th>\n",
       "      <th>1</th>\n",
       "    </tr>\n",
       "    <tr>\n",
       "      <th>equity_cat</th>\n",
       "      <th></th>\n",
       "      <th></th>\n",
       "    </tr>\n",
       "  </thead>\n",
       "  <tbody>\n",
       "    <tr>\n",
       "      <th>4 и больше</th>\n",
       "      <td>0.714073</td>\n",
       "      <td>0.285927</td>\n",
       "    </tr>\n",
       "    <tr>\n",
       "      <th>3 объекта</th>\n",
       "      <td>0.790470</td>\n",
       "      <td>0.209530</td>\n",
       "    </tr>\n",
       "    <tr>\n",
       "      <th>1-2 объекта</th>\n",
       "      <td>0.857536</td>\n",
       "      <td>0.142464</td>\n",
       "    </tr>\n",
       "    <tr>\n",
       "      <th>Нет собственности</th>\n",
       "      <td>0.964761</td>\n",
       "      <td>0.035239</td>\n",
       "    </tr>\n",
       "  </tbody>\n",
       "</table>\n",
       "</div>"
      ],
      "text/plain": [
       "churn                     0         1\n",
       "equity_cat                           \n",
       "4 и больше         0.714073  0.285927\n",
       "3 объекта          0.790470  0.209530\n",
       "1-2 объекта        0.857536  0.142464\n",
       "Нет собственности  0.964761  0.035239"
      ]
     },
     "execution_count": 56,
     "metadata": {},
     "output_type": "execute_result"
    }
   ],
   "source": [
    "pd.crosstab(data['equity_cat'], data['churn'], normalize='index').sort_values(by=1, ascending=False)"
   ]
  },
  {
   "cell_type": "code",
   "execution_count": 57,
   "id": "b7347969",
   "metadata": {},
   "outputs": [
    {
     "data": {
      "text/html": [
       "<style type=\"text/css\">\n",
       "</style>\n",
       "<table id=\"T_c38f7\">\n",
       "  <thead>\n",
       "    <tr>\n",
       "      <th class=\"blank\" >&nbsp;</th>\n",
       "      <th class=\"blank level0\" >&nbsp;</th>\n",
       "      <th id=\"T_c38f7_level0_col0\" class=\"col_heading level0 col0\" >userid</th>\n",
       "      <th id=\"T_c38f7_level0_col1\" class=\"col_heading level0 col1\" >score</th>\n",
       "      <th id=\"T_c38f7_level0_col2\" class=\"col_heading level0 col2\" >age</th>\n",
       "      <th id=\"T_c38f7_level0_col3\" class=\"col_heading level0 col3\" >equity</th>\n",
       "      <th id=\"T_c38f7_level0_col4\" class=\"col_heading level0 col4\" >balance</th>\n",
       "      <th id=\"T_c38f7_level0_col5\" class=\"col_heading level0 col5\" >products</th>\n",
       "      <th id=\"T_c38f7_level0_col6\" class=\"col_heading level0 col6\" >credit_card</th>\n",
       "      <th id=\"T_c38f7_level0_col7\" class=\"col_heading level0 col7\" >last_activity</th>\n",
       "      <th id=\"T_c38f7_level0_col8\" class=\"col_heading level0 col8\" >est_salary</th>\n",
       "      <th id=\"T_c38f7_level0_col9\" class=\"col_heading level0 col9\" >churn</th>\n",
       "      <th id=\"T_c38f7_level0_col10\" class=\"col_heading level0 col10\" >gender_new_Ж</th>\n",
       "      <th id=\"T_c38f7_level0_col11\" class=\"col_heading level0 col11\" >gender_new_М</th>\n",
       "      <th id=\"T_c38f7_level0_col12\" class=\"col_heading level0 col12\" >city_new_Ростов</th>\n",
       "      <th id=\"T_c38f7_level0_col13\" class=\"col_heading level0 col13\" >city_new_Рыбинск</th>\n",
       "      <th id=\"T_c38f7_level0_col14\" class=\"col_heading level0 col14\" >city_new_Ярославль</th>\n",
       "    </tr>\n",
       "    <tr>\n",
       "      <th class=\"index_name level0\" >equity_cat</th>\n",
       "      <th class=\"index_name level1\" >gender</th>\n",
       "      <th class=\"blank col0\" >&nbsp;</th>\n",
       "      <th class=\"blank col1\" >&nbsp;</th>\n",
       "      <th class=\"blank col2\" >&nbsp;</th>\n",
       "      <th class=\"blank col3\" >&nbsp;</th>\n",
       "      <th class=\"blank col4\" >&nbsp;</th>\n",
       "      <th class=\"blank col5\" >&nbsp;</th>\n",
       "      <th class=\"blank col6\" >&nbsp;</th>\n",
       "      <th class=\"blank col7\" >&nbsp;</th>\n",
       "      <th class=\"blank col8\" >&nbsp;</th>\n",
       "      <th class=\"blank col9\" >&nbsp;</th>\n",
       "      <th class=\"blank col10\" >&nbsp;</th>\n",
       "      <th class=\"blank col11\" >&nbsp;</th>\n",
       "      <th class=\"blank col12\" >&nbsp;</th>\n",
       "      <th class=\"blank col13\" >&nbsp;</th>\n",
       "      <th class=\"blank col14\" >&nbsp;</th>\n",
       "    </tr>\n",
       "  </thead>\n",
       "  <tbody>\n",
       "    <tr>\n",
       "      <th id=\"T_c38f7_level0_row0\" class=\"row_heading level0 row0\" rowspan=\"2\">1-2 объекта</th>\n",
       "      <th id=\"T_c38f7_level1_row0\" class=\"row_heading level1 row0\" >Ж</th>\n",
       "      <td id=\"T_c38f7_row0_col0\" class=\"data row0 col0\" >172_040.84</td>\n",
       "      <td id=\"T_c38f7_row0_col1\" class=\"data row0 col1\" >827.41</td>\n",
       "      <td id=\"T_c38f7_row0_col2\" class=\"data row0 col2\" >46.00</td>\n",
       "      <td id=\"T_c38f7_row0_col3\" class=\"data row0 col3\" >1.58</td>\n",
       "      <td id=\"T_c38f7_row0_col4\" class=\"data row0 col4\" >385_502.67</td>\n",
       "      <td id=\"T_c38f7_row0_col5\" class=\"data row0 col5\" >1.96</td>\n",
       "      <td id=\"T_c38f7_row0_col6\" class=\"data row0 col6\" >0.62</td>\n",
       "      <td id=\"T_c38f7_row0_col7\" class=\"data row0 col7\" >0.50</td>\n",
       "      <td id=\"T_c38f7_row0_col8\" class=\"data row0 col8\" >108_913.90</td>\n",
       "      <td id=\"T_c38f7_row0_col9\" class=\"data row0 col9\" >0.10</td>\n",
       "      <td id=\"T_c38f7_row0_col10\" class=\"data row0 col10\" >1.00</td>\n",
       "      <td id=\"T_c38f7_row0_col11\" class=\"data row0 col11\" >0.00</td>\n",
       "      <td id=\"T_c38f7_row0_col12\" class=\"data row0 col12\" >0.17</td>\n",
       "      <td id=\"T_c38f7_row0_col13\" class=\"data row0 col13\" >0.29</td>\n",
       "      <td id=\"T_c38f7_row0_col14\" class=\"data row0 col14\" >0.55</td>\n",
       "    </tr>\n",
       "    <tr>\n",
       "      <th id=\"T_c38f7_level1_row1\" class=\"row_heading level1 row1\" >М</th>\n",
       "      <td id=\"T_c38f7_row1_col0\" class=\"data row1 col0\" >172_736.23</td>\n",
       "      <td id=\"T_c38f7_row1_col1\" class=\"data row1 col1\" >822.70</td>\n",
       "      <td id=\"T_c38f7_row1_col2\" class=\"data row1 col2\" >39.72</td>\n",
       "      <td id=\"T_c38f7_row1_col3\" class=\"data row1 col3\" >1.57</td>\n",
       "      <td id=\"T_c38f7_row1_col4\" class=\"data row1 col4\" >358_733.60</td>\n",
       "      <td id=\"T_c38f7_row1_col5\" class=\"data row1 col5\" >1.88</td>\n",
       "      <td id=\"T_c38f7_row1_col6\" class=\"data row1 col6\" >0.80</td>\n",
       "      <td id=\"T_c38f7_row1_col7\" class=\"data row1 col7\" >0.47</td>\n",
       "      <td id=\"T_c38f7_row1_col8\" class=\"data row1 col8\" >125_476.75</td>\n",
       "      <td id=\"T_c38f7_row1_col9\" class=\"data row1 col9\" >0.19</td>\n",
       "      <td id=\"T_c38f7_row1_col10\" class=\"data row1 col10\" >0.00</td>\n",
       "      <td id=\"T_c38f7_row1_col11\" class=\"data row1 col11\" >1.00</td>\n",
       "      <td id=\"T_c38f7_row1_col12\" class=\"data row1 col12\" >0.15</td>\n",
       "      <td id=\"T_c38f7_row1_col13\" class=\"data row1 col13\" >0.27</td>\n",
       "      <td id=\"T_c38f7_row1_col14\" class=\"data row1 col14\" >0.58</td>\n",
       "    </tr>\n",
       "    <tr>\n",
       "      <th id=\"T_c38f7_level0_row2\" class=\"row_heading level0 row2\" rowspan=\"2\">3 объекта</th>\n",
       "      <th id=\"T_c38f7_level1_row2\" class=\"row_heading level1 row2\" >Ж</th>\n",
       "      <td id=\"T_c38f7_row2_col0\" class=\"data row2 col0\" >169_672.05</td>\n",
       "      <td id=\"T_c38f7_row2_col1\" class=\"data row2 col1\" >834.55</td>\n",
       "      <td id=\"T_c38f7_row2_col2\" class=\"data row2 col2\" >46.30</td>\n",
       "      <td id=\"T_c38f7_row2_col3\" class=\"data row2 col3\" >3.00</td>\n",
       "      <td id=\"T_c38f7_row2_col4\" class=\"data row2 col4\" >648_234.11</td>\n",
       "      <td id=\"T_c38f7_row2_col5\" class=\"data row2 col5\" >2.11</td>\n",
       "      <td id=\"T_c38f7_row2_col6\" class=\"data row2 col6\" >0.56</td>\n",
       "      <td id=\"T_c38f7_row2_col7\" class=\"data row2 col7\" >0.52</td>\n",
       "      <td id=\"T_c38f7_row2_col8\" class=\"data row2 col8\" >107_456.47</td>\n",
       "      <td id=\"T_c38f7_row2_col9\" class=\"data row2 col9\" >0.14</td>\n",
       "      <td id=\"T_c38f7_row2_col10\" class=\"data row2 col10\" >1.00</td>\n",
       "      <td id=\"T_c38f7_row2_col11\" class=\"data row2 col11\" >0.00</td>\n",
       "      <td id=\"T_c38f7_row2_col12\" class=\"data row2 col12\" >0.16</td>\n",
       "      <td id=\"T_c38f7_row2_col13\" class=\"data row2 col13\" >0.26</td>\n",
       "      <td id=\"T_c38f7_row2_col14\" class=\"data row2 col14\" >0.57</td>\n",
       "    </tr>\n",
       "    <tr>\n",
       "      <th id=\"T_c38f7_level1_row3\" class=\"row_heading level1 row3\" >М</th>\n",
       "      <td id=\"T_c38f7_row3_col0\" class=\"data row3 col0\" >172_420.39</td>\n",
       "      <td id=\"T_c38f7_row3_col1\" class=\"data row3 col1\" >835.65</td>\n",
       "      <td id=\"T_c38f7_row3_col2\" class=\"data row3 col2\" >40.65</td>\n",
       "      <td id=\"T_c38f7_row3_col3\" class=\"data row3 col3\" >3.00</td>\n",
       "      <td id=\"T_c38f7_row3_col4\" class=\"data row3 col4\" >831_337.74</td>\n",
       "      <td id=\"T_c38f7_row3_col5\" class=\"data row3 col5\" >1.97</td>\n",
       "      <td id=\"T_c38f7_row3_col6\" class=\"data row3 col6\" >0.74</td>\n",
       "      <td id=\"T_c38f7_row3_col7\" class=\"data row3 col7\" >0.50</td>\n",
       "      <td id=\"T_c38f7_row3_col8\" class=\"data row3 col8\" >131_155.63</td>\n",
       "      <td id=\"T_c38f7_row3_col9\" class=\"data row3 col9\" >0.29</td>\n",
       "      <td id=\"T_c38f7_row3_col10\" class=\"data row3 col10\" >0.00</td>\n",
       "      <td id=\"T_c38f7_row3_col11\" class=\"data row3 col11\" >1.00</td>\n",
       "      <td id=\"T_c38f7_row3_col12\" class=\"data row3 col12\" >0.17</td>\n",
       "      <td id=\"T_c38f7_row3_col13\" class=\"data row3 col13\" >0.27</td>\n",
       "      <td id=\"T_c38f7_row3_col14\" class=\"data row3 col14\" >0.57</td>\n",
       "    </tr>\n",
       "    <tr>\n",
       "      <th id=\"T_c38f7_level0_row4\" class=\"row_heading level0 row4\" rowspan=\"2\">4 и больше</th>\n",
       "      <th id=\"T_c38f7_level1_row4\" class=\"row_heading level1 row4\" >Ж</th>\n",
       "      <td id=\"T_c38f7_row4_col0\" class=\"data row4 col0\" >170_167.96</td>\n",
       "      <td id=\"T_c38f7_row4_col1\" class=\"data row4 col1\" >858.72</td>\n",
       "      <td id=\"T_c38f7_row4_col2\" class=\"data row4 col2\" >45.34</td>\n",
       "      <td id=\"T_c38f7_row4_col3\" class=\"data row4 col3\" >4.62</td>\n",
       "      <td id=\"T_c38f7_row4_col4\" class=\"data row4 col4\" >967_555.58</td>\n",
       "      <td id=\"T_c38f7_row4_col5\" class=\"data row4 col5\" >2.13</td>\n",
       "      <td id=\"T_c38f7_row4_col6\" class=\"data row4 col6\" >0.56</td>\n",
       "      <td id=\"T_c38f7_row4_col7\" class=\"data row4 col7\" >0.54</td>\n",
       "      <td id=\"T_c38f7_row4_col8\" class=\"data row4 col8\" >124_371.06</td>\n",
       "      <td id=\"T_c38f7_row4_col9\" class=\"data row4 col9\" >0.19</td>\n",
       "      <td id=\"T_c38f7_row4_col10\" class=\"data row4 col10\" >1.00</td>\n",
       "      <td id=\"T_c38f7_row4_col11\" class=\"data row4 col11\" >0.00</td>\n",
       "      <td id=\"T_c38f7_row4_col12\" class=\"data row4 col12\" >0.15</td>\n",
       "      <td id=\"T_c38f7_row4_col13\" class=\"data row4 col13\" >0.27</td>\n",
       "      <td id=\"T_c38f7_row4_col14\" class=\"data row4 col14\" >0.58</td>\n",
       "    </tr>\n",
       "    <tr>\n",
       "      <th id=\"T_c38f7_level1_row5\" class=\"row_heading level1 row5\" >М</th>\n",
       "      <td id=\"T_c38f7_row5_col0\" class=\"data row5 col0\" >173_794.07</td>\n",
       "      <td id=\"T_c38f7_row5_col1\" class=\"data row5 col1\" >859.72</td>\n",
       "      <td id=\"T_c38f7_row5_col2\" class=\"data row5 col2\" >40.61</td>\n",
       "      <td id=\"T_c38f7_row5_col3\" class=\"data row5 col3\" >4.67</td>\n",
       "      <td id=\"T_c38f7_row5_col4\" class=\"data row5 col4\" >1_265_793.73</td>\n",
       "      <td id=\"T_c38f7_row5_col5\" class=\"data row5 col5\" >2.22</td>\n",
       "      <td id=\"T_c38f7_row5_col6\" class=\"data row5 col6\" >0.65</td>\n",
       "      <td id=\"T_c38f7_row5_col7\" class=\"data row5 col7\" >0.52</td>\n",
       "      <td id=\"T_c38f7_row5_col8\" class=\"data row5 col8\" >145_037.32</td>\n",
       "      <td id=\"T_c38f7_row5_col9\" class=\"data row5 col9\" >0.38</td>\n",
       "      <td id=\"T_c38f7_row5_col10\" class=\"data row5 col10\" >0.00</td>\n",
       "      <td id=\"T_c38f7_row5_col11\" class=\"data row5 col11\" >1.00</td>\n",
       "      <td id=\"T_c38f7_row5_col12\" class=\"data row5 col12\" >0.15</td>\n",
       "      <td id=\"T_c38f7_row5_col13\" class=\"data row5 col13\" >0.26</td>\n",
       "      <td id=\"T_c38f7_row5_col14\" class=\"data row5 col14\" >0.59</td>\n",
       "    </tr>\n",
       "    <tr>\n",
       "      <th id=\"T_c38f7_level0_row6\" class=\"row_heading level0 row6\" rowspan=\"2\">Нет собственности</th>\n",
       "      <th id=\"T_c38f7_level1_row6\" class=\"row_heading level1 row6\" >Ж</th>\n",
       "      <td id=\"T_c38f7_row6_col0\" class=\"data row6 col0\" >171_324.03</td>\n",
       "      <td id=\"T_c38f7_row6_col1\" class=\"data row6 col1\" >854.12</td>\n",
       "      <td id=\"T_c38f7_row6_col2\" class=\"data row6 col2\" >45.08</td>\n",
       "      <td id=\"T_c38f7_row6_col3\" class=\"data row6 col3\" >0.00</td>\n",
       "      <td id=\"T_c38f7_row6_col4\" class=\"data row6 col4\" >31_849.04</td>\n",
       "      <td id=\"T_c38f7_row6_col5\" class=\"data row6 col5\" >1.29</td>\n",
       "      <td id=\"T_c38f7_row6_col6\" class=\"data row6 col6\" >0.76</td>\n",
       "      <td id=\"T_c38f7_row6_col7\" class=\"data row6 col7\" >0.55</td>\n",
       "      <td id=\"T_c38f7_row6_col8\" class=\"data row6 col8\" >199_532.54</td>\n",
       "      <td id=\"T_c38f7_row6_col9\" class=\"data row6 col9\" >0.03</td>\n",
       "      <td id=\"T_c38f7_row6_col10\" class=\"data row6 col10\" >1.00</td>\n",
       "      <td id=\"T_c38f7_row6_col11\" class=\"data row6 col11\" >0.00</td>\n",
       "      <td id=\"T_c38f7_row6_col12\" class=\"data row6 col12\" >0.12</td>\n",
       "      <td id=\"T_c38f7_row6_col13\" class=\"data row6 col13\" >0.26</td>\n",
       "      <td id=\"T_c38f7_row6_col14\" class=\"data row6 col14\" >0.61</td>\n",
       "    </tr>\n",
       "    <tr>\n",
       "      <th id=\"T_c38f7_level1_row7\" class=\"row_heading level1 row7\" >М</th>\n",
       "      <td id=\"T_c38f7_row7_col0\" class=\"data row7 col0\" >171_448.14</td>\n",
       "      <td id=\"T_c38f7_row7_col1\" class=\"data row7 col1\" >857.84</td>\n",
       "      <td id=\"T_c38f7_row7_col2\" class=\"data row7 col2\" >39.33</td>\n",
       "      <td id=\"T_c38f7_row7_col3\" class=\"data row7 col3\" >0.00</td>\n",
       "      <td id=\"T_c38f7_row7_col4\" class=\"data row7 col4\" >18_989.09</td>\n",
       "      <td id=\"T_c38f7_row7_col5\" class=\"data row7 col5\" >1.25</td>\n",
       "      <td id=\"T_c38f7_row7_col6\" class=\"data row7 col6\" >0.83</td>\n",
       "      <td id=\"T_c38f7_row7_col7\" class=\"data row7 col7\" >0.54</td>\n",
       "      <td id=\"T_c38f7_row7_col8\" class=\"data row7 col8\" >216_056.08</td>\n",
       "      <td id=\"T_c38f7_row7_col9\" class=\"data row7 col9\" >0.04</td>\n",
       "      <td id=\"T_c38f7_row7_col10\" class=\"data row7 col10\" >0.00</td>\n",
       "      <td id=\"T_c38f7_row7_col11\" class=\"data row7 col11\" >1.00</td>\n",
       "      <td id=\"T_c38f7_row7_col12\" class=\"data row7 col12\" >0.10</td>\n",
       "      <td id=\"T_c38f7_row7_col13\" class=\"data row7 col13\" >0.25</td>\n",
       "      <td id=\"T_c38f7_row7_col14\" class=\"data row7 col14\" >0.65</td>\n",
       "    </tr>\n",
       "  </tbody>\n",
       "</table>\n"
      ],
      "text/plain": [
       "<pandas.io.formats.style.Styler at 0x2e4af15fc40>"
      ]
     },
     "execution_count": 57,
     "metadata": {},
     "output_type": "execute_result"
    }
   ],
   "source": [
    "data.groupby(['equity_cat', 'gender']).mean().style.format(\"{:_.2f}\")"
   ]
  },
  {
   "cell_type": "markdown",
   "id": "814e2312",
   "metadata": {},
   "source": [
    "Клиенты, у которых нет значимой собственности, почти не уходят. А те, у кого 3 или больше объектов уходят в целом чаще, чем в среднем по выборке."
   ]
  },
  {
   "cell_type": "markdown",
   "id": "8d3d5834",
   "metadata": {},
   "source": [
    "Далее будем определять отточные сегменты, рассматривая набор из стратегических перемнных и значений, которые они могут принимать."
   ]
  },
  {
   "cell_type": "code",
   "execution_count": 58,
   "id": "551d8088",
   "metadata": {},
   "outputs": [
    {
     "data": {
      "text/plain": [
       "userid                618\n",
       "score                 618\n",
       "city                  618\n",
       "gender                618\n",
       "age                   618\n",
       "equity                618\n",
       "balance               618\n",
       "products              618\n",
       "credit_card           618\n",
       "last_activity         618\n",
       "est_salary            618\n",
       "churn                 618\n",
       "gender_new_Ж          618\n",
       "gender_new_М          618\n",
       "city_new_Ростов       618\n",
       "city_new_Рыбинск      618\n",
       "city_new_Ярославль    618\n",
       "age_cat               618\n",
       "prod_cat              618\n",
       "equity_cat            618\n",
       "dtype: int64"
      ]
     },
     "execution_count": 58,
     "metadata": {},
     "output_type": "execute_result"
    }
   ],
   "source": [
    "data.query('gender == \"М\"  & prod_cat == \"Фанаты\" & equity > 2').count()"
   ]
  },
  {
   "cell_type": "code",
   "execution_count": 59,
   "id": "a958aa9e",
   "metadata": {},
   "outputs": [
    {
     "data": {
      "text/plain": [
       "0.5372168284789643"
      ]
     },
     "execution_count": 59,
     "metadata": {},
     "output_type": "execute_result"
    }
   ],
   "source": [
    "data.query('gender == \"М\"  & prod_cat == \"Фанаты\" & equity > 2')['churn'].mean()"
   ]
  },
  {
   "cell_type": "markdown",
   "id": "7b8c7a95",
   "metadata": {},
   "source": [
    "1) Мужчины, у которых 3 и более банковских продукта и 3 значимых объекта в собственности. Достаточно большой сегмент в 6%, из которого каждый второй клиент отточный. "
   ]
  },
  {
   "cell_type": "code",
   "execution_count": 60,
   "id": "ad1e0258",
   "metadata": {},
   "outputs": [
    {
     "data": {
      "text/plain": [
       "0.34705882352941175"
      ]
     },
     "execution_count": 60,
     "metadata": {},
     "output_type": "execute_result"
    }
   ],
   "source": [
    "data.query('gender == \"М\" & age_cat == \"51-60\"')['churn'].mean()"
   ]
  },
  {
   "cell_type": "markdown",
   "id": "1df3d7f1",
   "metadata": {},
   "source": [
    "2) Мужчины возраста 51-60 лет. Чуть менее 7% от общего количества клиентов. Уходит каждый третий. "
   ]
  },
  {
   "cell_type": "code",
   "execution_count": 61,
   "id": "8cba23a2",
   "metadata": {},
   "outputs": [
    {
     "data": {
      "text/plain": [
       "2133"
      ]
     },
     "execution_count": 61,
     "metadata": {},
     "output_type": "execute_result"
    }
   ],
   "source": [
    "data.query('last_activity == 1 & equity_cat == \"4 и больше\"')['churn'].count()\n"
   ]
  },
  {
   "cell_type": "code",
   "execution_count": 62,
   "id": "858e4a51",
   "metadata": {},
   "outputs": [
    {
     "data": {
      "text/plain": [
       "0.39662447257383965"
      ]
     },
     "execution_count": 62,
     "metadata": {},
     "output_type": "execute_result"
    }
   ],
   "source": [
    "data.query('last_activity == 1 & equity_cat == \"4 и больше\"')['churn'].mean()"
   ]
  },
  {
   "cell_type": "markdown",
   "id": "bcae6ce9",
   "metadata": {},
   "source": [
    "3) Активные клиенты, имеющие 4 и больше значимых объекта имущества, составляют 21% от выборки и уходят с вероятностью 40% "
   ]
  },
  {
   "cell_type": "code",
   "execution_count": 63,
   "id": "ad7512b3",
   "metadata": {},
   "outputs": [
    {
     "data": {
      "text/plain": [
       "839"
      ]
     },
     "execution_count": 63,
     "metadata": {},
     "output_type": "execute_result"
    }
   ],
   "source": [
    "data.query('credit_card == 0 & prod_cat == \"Фанаты\"')['churn'].count()"
   ]
  },
  {
   "cell_type": "markdown",
   "id": "73b360e0",
   "metadata": {},
   "source": [
    "4) Клиенты, у которых нет кредитной карты, но от трёх банковских продуктов - это 8,5% от общего числа клиентов. Здесь уровень оттока составляет 40%.  "
   ]
  },
  {
   "cell_type": "code",
   "execution_count": 64,
   "id": "9f9f3234",
   "metadata": {},
   "outputs": [
    {
     "data": {
      "text/plain": [
       "0.46153846153846156"
      ]
     },
     "execution_count": 64,
     "metadata": {},
     "output_type": "execute_result"
    }
   ],
   "source": [
    "data.query('age_cat == \"28-35\" & last_activity == 1 & credit_card == 0')['churn'].mean()"
   ]
  },
  {
   "cell_type": "markdown",
   "id": "be3c44ec",
   "metadata": {},
   "source": [
    "5) Почти 5% клиентов - это молодёжь в возрасте 28-35 лет, активные, но не имеющие кредитной карты. В такой группе уходит почти каждый второй клиент."
   ]
  },
  {
   "cell_type": "markdown",
   "id": "1fb65939",
   "metadata": {},
   "source": [
    "### Дерево решений."
   ]
  },
  {
   "cell_type": "markdown",
   "id": "2f7d7e32",
   "metadata": {},
   "source": [
    "В качестве опционального решения попробуем построить классификацию на основе дерева решений."
   ]
  },
  {
   "cell_type": "markdown",
   "id": "6202790d",
   "metadata": {},
   "source": [
    "Наше дерево будет перебирать характеристики, выбирая не ограниченное количество наилучших. Глубину дерева зададим в четыре узла. Но ограничм минимальный размер листа (100 значений), чтобы выборка не получилась очень дробной. "
   ]
  },
  {
   "cell_type": "code",
   "execution_count": 65,
   "id": "156bc7fb",
   "metadata": {},
   "outputs": [
    {
     "data": {
      "text/plain": [
       "DecisionTreeClassifier(class_weight='balanced', criterion='entropy',\n",
       "                       max_depth=4, min_samples_leaf=100, random_state=10)"
      ]
     },
     "execution_count": 65,
     "metadata": {},
     "output_type": "execute_result"
    }
   ],
   "source": [
    "X = data.drop(['churn', 'age_cat', 'prod_cat', 'equity_cat', 'city', 'gender'], axis = 1)\n",
    "y = data['churn']\n",
    "\n",
    "model = DecisionTreeClassifier(criterion = \"entropy\", random_state = 10, max_depth = 4, min_samples_leaf=100, class_weight=\"balanced\")\n",
    "model.fit(X,y)"
   ]
  },
  {
   "cell_type": "code",
   "execution_count": 66,
   "id": "cf822747",
   "metadata": {},
   "outputs": [
    {
     "data": {
      "image/png": "[encoded data removed]",
      "text/plain": [
       "<Figure size 1800x1800 with 1 Axes>"
      ]
     },
     "metadata": {
      "needs_background": "light"
     },
     "output_type": "display_data"
    }
   ],
   "source": [
    "cn = ['лояльные', 'отточные']\n",
    "plt.figure(figsize = (25, 25))\n",
    "tree.plot_tree(model, feature_names = list(X.columns), class_names = cn, filled = True);"
   ]
  },
  {
   "cell_type": "markdown",
   "id": "04e3bb1b",
   "metadata": {},
   "source": [
    "Во-первых, у дерева получилося портрет лояльного клиента. У него почти нулевой баланс на счёте. При этом это клиенты как с достаочно высоким уровнем кредитного рейтинга, так и нет. \n",
    "\n",
    "Во-вторых, лояльные клиенты проявляют низкую активность. Об этом свидетельствует узел второй глубины. \n",
    "\n",
    "В-третьих, проблемным является сегмент мужчин с низкой активностью и количесвтом банковских продуктов менее 3,5. \n",
    "\n",
    "В-четвёртых, в группе активных клиентов с кредитным рейтингом выше 834.5 отток составляет почти 50%. Этот сегмент составляет 17% от общего числа клиентов банка.\n",
    "\n",
    "в-пятых, для отточны клиентов характерны средний и высокий баланс на счёте, а также количество используемых продуктов от 4-х.\n",
    "\n",
    "В чём-то дерево решений подтвердило наши визуальные изыскания, а в чём-то дополнило. "
   ]
  },
  {
   "cell_type": "markdown",
   "id": "9c499ee2",
   "metadata": {},
   "source": [
    "## 5. Выводы."
   ]
  },
  {
   "cell_type": "markdown",
   "id": "f146a255",
   "metadata": {},
   "source": [
    "И так, нами был проведён анализ отточности клиентов банка.\n",
    "\n",
    "1) __Мы провели предобработку данных:__ \n",
    "\n",
    "- привели названия столбцов к нижнему регистру;\n",
    "\n",
    "- заполнили пропуски в столбце \"баланс\" значением равным нулю;\n",
    "\n",
    "- перекодировали значенияв столбцах \"пол\" и \"город\",а также привели значения в них к целочисленным, чтобы можно было с ними работать в дальнейшем анализе;\n",
    "\n",
    "- избавились от дубликатов. \n",
    "\n",
    "2) __Мы провели анализ данных:__ \n",
    "\n",
    "- проанализировали средние значения различных характеристик в группах с оттоком и без него;\n",
    "\n",
    "- построили гистограммы для оценки распределения различных характеристик клиентов;\n",
    "\n",
    "- построили корреляционную матрицу и определили, какие признаки влияют на отток. Визуализировали матрицу хитмепом;\n",
    "\n",
    "- визуализировали данные из датафрейма, чтобы выявить зависимости между различными признаками и целевым показателем. \n",
    "\n",
    "__Выяснили, что:__\n",
    "\n",
    "а) уровень оттока в среднем составляет ~ 18%; \n",
    "\n",
    "б) среди лояльных клиентов преобладают женщины, среди ушедших - мужчины;\n",
    "\n",
    "в) возраст оставшихся и ушедших примерно равен;\n",
    "\n",
    "г) ушедшие клиенты в среднем обладают большей собственностью, которую банк считает значимой. ~3.8 против ~2.4; \n",
    "\n",
    "д) баланс на счёте ушедших клиентов выше, чем у лоялистов; \n",
    "\n",
    "е) ушедшие клиенты пользуются большим количеством продуктов. 2.4 против 1.8 у оставшихся;\n",
    "\n",
    "ж) в среднем тольуо каждый второй клиент из ушедших пользовался кредитной картой. Среди оставшихся клиентов доля пользователей кредиткой составляет 70%;\n",
    "\n",
    "з) ушедшие клиенты за последнее время проявляли большую активность. Что это за активность нам не известно, но предположим, что она могла быть связана с выводом средств или закрытием банковских продуктов; \n",
    "\n",
    "и) оцениваемая зарплата обеих групп приблизительно равна;\n",
    "\n",
    "к) кредитный рейтинг отточных и лояльных клиентов примерно равен;\n",
    "\n",
    "\n",
    "- Составили __портреты__, на основании стратегических черт, лояльных и отточных елинтов.\n",
    "\n",
    "    1. __Отточный клиент.__\n",
    "Это мужчина. 41 года. Имеет много собственности - свыше 3-х объектов (высокую закредитованность?). Имеет баланс свыше 100.000. Использвет более двух банковских продуктов. Но, кредитной картой пользуется не так часто. Активен.\n",
    "\n",
    "    2. __Лояльный клиент.__\n",
    "Женщина. 43 года. Имеет до двух объектов в собственности. Баланс на счёте равен ~75.000. Использует 1-2 банковских продукта, один и которых - это кредитка. Не активна. \n",
    "\n",
    "3) __Проверили гипотезу о:__\n",
    "\n",
    "- разнице в среднем доходе лояльных и отточных клиентов. Выяснили, что статистически значимой разницы нет;\n",
    "\n",
    "- разнице в среднем количестве используемых банковских продуктах лояльными и отточными пользователями. Выяснили, что статистически значимая разница есть.\n",
    "\n",
    "4) __Провели сегментацию клиентов:__ \n",
    "\n",
    "- на основании стратегических черт - пол, количество собвственности, количество используемых продуктов, возраст, наличие кредитной карты, активность - мы выявили оттчоные сегменты. \n",
    "\n",
    "__Отточные сегменты__\n",
    "\n",
    "1) Мужчины, у которых 3 и более банковских продукта и 3 значимых объекта в собственности. Достаточно большой сегмент в 6%, из которого каждый второй клиент отточный. \n",
    "\n",
    "2) Мужчины возраста 51-60 лет. Чуть менее 7% от общего количества клиентов. Уходит каждый третий. \n",
    "\n",
    "3) Активные клиенты, имеющие 4 и больше значимых объекта имущества, составляют 21% от выборки и уходят с вероятностью 40%.\n",
    "\n",
    "4) Клиенты, у которых нет кредитной карты, но от трёх банковских продуктов - это 8,5% от общего числа клиентов. Здесь уровень оттока составляет 40%.\n",
    "\n",
    "5) Почти 5% клиентов - это молодёжь в возрасте 28-35 лет, активные, но не имеющие кредитной карты. В такой группе уходит почти каждый второй клиент.\n",
    "\n",
    "Кроме того, было использован алгоритм Дерева решений, а результаты визуализированы. Это позволило добавить установить ещё несколько отточных сегментов:\n",
    "\n",
    "- это группа активных клиентов с кредитным рейтингом выше 834.5 отток составляет почти 50%. Этот сегмент составляет 17% от общего числа клиентов банка;\n",
    "\n",
    "- для отточны клиентов характерны средний и высокий баланс на счёте, а также количество используемых продуктов от 4-х."
   ]
  },
  {
   "cell_type": "markdown",
   "id": "aa211fff",
   "metadata": {},
   "source": [
    "## Рекомендации."
   ]
  },
  {
   "cell_type": "markdown",
   "id": "38f60c88",
   "metadata": {},
   "source": [
    "Принимая во внимание, что отдел маркетинга в силу ресурсов, не может озватить большие группы клиентов, были составлены достаточно небольшие сегменты, уровень оттока в которых является значимым. \n",
    "\n",
    "Во-первых, наличие кредитной картой является фактором удержания клиентов. Карта на интересных условиях способна \"привязать\" клиента к банку. Хотя, нужно отметить, что значительная часть таких клиентов большой активности не проявляет. В сегментах 28-35 и 51-60 лет, где высокий отток, нужно предлагть кредитки на выгодных условиях: кэшбэк (лучше всего, коль речь про мужчин, с заправок, например), увеличенный процентный период, процент на остаток (что особенно интересно отточным клиентам, но с большим балансом на счёте).  \n",
    "\n",
    "Во-вторых, достаточно велико количество отточных клиентов в сегменте с большим количеством собственности и использованием банковских продуктов. И при этом низким уровнем владением кредитной картой. Эти клиенты пришли в банк за выгодным кредитом, получили его, а потом или выплатили, или рефинансировались в другой банк. Здесь хорошим решением может быть \"пакетное\" предложение (объединить несколько продуктов в один) с пониженной, чем у конкурентов ставкой. \n",
    "\n",
    "В-третьих, в качестве опционального решения, расширять круг зарплатных партнёров. По представленной выборке трудно понять где здесь зарплатный проект, а где нет. Но, на практике, отток может быть связан со сменой клиентом места работы.\n",
    "\n",
    "В-четвёртых, в качетсве предположения, отток среди мужчин 51-60 может быть связан с выходом на пенсию (военные, силовики, чиновники) и переходом на социальные карты (\"Мир\"). Можно предложить им перевод пенсии в банк, в духе: \"Переведи пенсию, получишь 1000 рублей на счёт\", - как это сделал один изветсный федеральный банк.\n",
    "\n",
    "В-пятых, отток среди мужчин 51-60 лет может быть свящан с невозможностью, в силу возраста, получить кредит в нашем банке и поиск кредитных учереждений, которые готовы такую услугу предоставить."
   ]
  },
  {
   "cell_type": "code",
   "execution_count": 9,
   "id": "be687c81",
   "metadata": {},
   "outputs": [],
   "source": [
    "# data.to_csv('C:/Users/Пользователь/Downloads/data_banki.csv')"
   ]
  }
 ],
 "metadata": {
  "ExecuteTimeLog": [
   {
    "duration": 74,
    "start_time": "2022-10-28T16:19:00.369Z"
   },
   {
    "duration": 47,
    "start_time": "2022-10-28T16:19:04.686Z"
   },
   {
    "duration": 2203,
    "start_time": "2022-10-28T16:19:33.742Z"
   },
   {
    "duration": 163200,
    "start_time": "2022-10-28T16:19:35.946Z"
   },
   {
    "duration": 0,
    "start_time": "2022-10-28T16:22:19.147Z"
   },
   {
    "duration": 0,
    "start_time": "2022-10-28T16:22:19.149Z"
   },
   {
    "duration": 0,
    "start_time": "2022-10-28T16:22:19.150Z"
   },
   {
    "duration": 0,
    "start_time": "2022-10-28T16:22:19.152Z"
   },
   {
    "duration": 0,
    "start_time": "2022-10-28T16:22:19.153Z"
   },
   {
    "duration": 0,
    "start_time": "2022-10-28T16:22:19.154Z"
   },
   {
    "duration": 3,
    "start_time": "2022-10-28T16:22:23.844Z"
   },
   {
    "duration": 1066,
    "start_time": "2022-10-28T16:22:23.849Z"
   },
   {
    "duration": 45,
    "start_time": "2022-10-28T16:26:51.871Z"
   },
   {
    "duration": 13,
    "start_time": "2022-10-28T16:26:54.151Z"
   },
   {
    "duration": 3,
    "start_time": "2022-10-28T16:26:56.042Z"
   },
   {
    "duration": 31,
    "start_time": "2022-10-28T16:26:56.721Z"
   },
   {
    "duration": 13,
    "start_time": "2022-10-28T16:26:57.813Z"
   },
   {
    "duration": 12,
    "start_time": "2022-10-28T16:26:59.327Z"
   },
   {
    "duration": 211,
    "start_time": "2022-10-28T16:27:12.150Z"
   },
   {
    "duration": 42,
    "start_time": "2022-10-28T16:27:58.364Z"
   },
   {
    "duration": 227,
    "start_time": "2022-10-28T16:28:40.303Z"
   },
   {
    "duration": 202,
    "start_time": "2022-10-28T16:29:30.366Z"
   },
   {
    "duration": 18,
    "start_time": "2022-10-28T16:36:57.598Z"
   },
   {
    "duration": 10,
    "start_time": "2022-10-28T16:37:31.881Z"
   },
   {
    "duration": 5,
    "start_time": "2022-10-28T16:37:43.302Z"
   },
   {
    "duration": 151,
    "start_time": "2022-10-28T17:12:42.125Z"
   },
   {
    "duration": 4,
    "start_time": "2022-10-28T17:16:29.594Z"
   },
   {
    "duration": 6,
    "start_time": "2022-10-28T17:16:36.852Z"
   },
   {
    "duration": 17,
    "start_time": "2022-10-28T17:17:00.751Z"
   },
   {
    "duration": 6,
    "start_time": "2022-10-28T17:17:17.614Z"
   },
   {
    "duration": 8,
    "start_time": "2022-10-28T17:17:22.426Z"
   },
   {
    "duration": 11,
    "start_time": "2022-10-28T17:17:35.944Z"
   },
   {
    "duration": 17,
    "start_time": "2022-10-28T17:17:43.575Z"
   },
   {
    "duration": 14,
    "start_time": "2022-10-28T17:18:29.606Z"
   },
   {
    "duration": 14,
    "start_time": "2022-10-28T17:18:38.464Z"
   },
   {
    "duration": 73,
    "start_time": "2022-10-28T17:18:52.706Z"
   },
   {
    "duration": 7,
    "start_time": "2022-10-28T17:19:01.209Z"
   },
   {
    "duration": 8,
    "start_time": "2022-10-28T17:19:22.996Z"
   },
   {
    "duration": 8,
    "start_time": "2022-10-28T17:19:29.951Z"
   },
   {
    "duration": 14,
    "start_time": "2022-10-28T17:20:29.367Z"
   },
   {
    "duration": 8,
    "start_time": "2022-10-28T17:21:00.357Z"
   },
   {
    "duration": 11,
    "start_time": "2022-10-28T17:21:27.172Z"
   },
   {
    "duration": 1657,
    "start_time": "2022-10-28T17:40:41.498Z"
   },
   {
    "duration": 1029,
    "start_time": "2022-10-28T17:40:43.157Z"
   },
   {
    "duration": 53,
    "start_time": "2022-10-28T17:40:44.188Z"
   },
   {
    "duration": 15,
    "start_time": "2022-10-28T17:40:44.243Z"
   },
   {
    "duration": 5,
    "start_time": "2022-10-28T17:40:44.260Z"
   },
   {
    "duration": 46,
    "start_time": "2022-10-28T17:40:44.267Z"
   },
   {
    "duration": 12,
    "start_time": "2022-10-28T17:40:44.314Z"
   },
   {
    "duration": 236,
    "start_time": "2022-10-28T17:40:44.328Z"
   },
   {
    "duration": 3,
    "start_time": "2022-10-28T17:40:44.566Z"
   },
   {
    "duration": 8,
    "start_time": "2022-10-28T17:40:44.571Z"
   },
   {
    "duration": 8,
    "start_time": "2022-10-28T17:40:44.580Z"
   },
   {
    "duration": 20,
    "start_time": "2022-10-28T17:40:44.589Z"
   },
   {
    "duration": 9,
    "start_time": "2022-10-28T17:40:44.610Z"
   },
   {
    "duration": 8,
    "start_time": "2022-10-28T17:40:44.621Z"
   },
   {
    "duration": 5,
    "start_time": "2022-10-28T17:40:44.631Z"
   },
   {
    "duration": 44,
    "start_time": "2022-10-28T17:40:44.637Z"
   },
   {
    "duration": 30,
    "start_time": "2022-10-28T17:40:44.683Z"
   },
   {
    "duration": 10,
    "start_time": "2022-10-28T17:40:44.714Z"
   },
   {
    "duration": 211,
    "start_time": "2022-10-28T17:40:44.725Z"
   },
   {
    "duration": 190,
    "start_time": "2022-10-28T17:40:44.938Z"
   },
   {
    "duration": 187,
    "start_time": "2022-10-28T17:40:45.130Z"
   },
   {
    "duration": 238,
    "start_time": "2022-10-28T17:40:45.319Z"
   },
   {
    "duration": 164,
    "start_time": "2022-10-28T17:40:45.559Z"
   },
   {
    "duration": 195,
    "start_time": "2022-10-28T17:40:45.724Z"
   },
   {
    "duration": 1054,
    "start_time": "2022-10-28T17:40:45.921Z"
   },
   {
    "duration": 407,
    "start_time": "2022-10-28T17:40:46.977Z"
   },
   {
    "duration": 12571,
    "start_time": "2022-10-28T17:40:47.386Z"
   },
   {
    "duration": 7,
    "start_time": "2022-10-28T17:40:59.962Z"
   },
   {
    "duration": 8,
    "start_time": "2022-10-28T17:40:59.970Z"
   },
   {
    "duration": 173,
    "start_time": "2022-10-28T17:40:59.979Z"
   },
   {
    "duration": 85,
    "start_time": "2022-10-28T17:41:00.154Z"
   },
   {
    "duration": 12,
    "start_time": "2022-10-28T17:41:00.241Z"
   },
   {
    "duration": 33,
    "start_time": "2022-10-28T17:41:00.255Z"
   },
   {
    "duration": 17,
    "start_time": "2022-10-28T17:41:00.290Z"
   },
   {
    "duration": 21,
    "start_time": "2022-10-28T17:41:00.309Z"
   },
   {
    "duration": 25,
    "start_time": "2022-10-28T17:41:00.331Z"
   },
   {
    "duration": 23,
    "start_time": "2022-10-28T17:41:00.357Z"
   },
   {
    "duration": 70,
    "start_time": "2022-10-28T17:41:00.381Z"
   },
   {
    "duration": 12,
    "start_time": "2022-10-28T17:41:00.453Z"
   },
   {
    "duration": 44,
    "start_time": "2022-10-28T17:41:00.466Z"
   },
   {
    "duration": 23,
    "start_time": "2022-10-28T17:41:00.512Z"
   },
   {
    "duration": 42,
    "start_time": "2022-10-28T17:41:00.536Z"
   },
   {
    "duration": 79,
    "start_time": "2022-10-28T17:41:00.579Z"
   },
   {
    "duration": 13,
    "start_time": "2022-10-28T17:41:00.659Z"
   },
   {
    "duration": 33,
    "start_time": "2022-10-28T17:41:00.674Z"
   },
   {
    "duration": 20,
    "start_time": "2022-10-28T17:41:00.709Z"
   },
   {
    "duration": 20,
    "start_time": "2022-10-28T17:41:00.731Z"
   },
   {
    "duration": 34,
    "start_time": "2022-10-28T17:41:00.753Z"
   },
   {
    "duration": 43,
    "start_time": "2022-10-28T17:41:00.789Z"
   },
   {
    "duration": 27,
    "start_time": "2022-10-28T17:41:00.833Z"
   },
   {
    "duration": 36,
    "start_time": "2022-10-28T17:41:00.862Z"
   },
   {
    "duration": 43,
    "start_time": "2022-10-28T17:41:00.901Z"
   },
   {
    "duration": 39,
    "start_time": "2022-10-28T17:41:00.946Z"
   },
   {
    "duration": 76,
    "start_time": "2022-10-28T17:41:00.987Z"
   },
   {
    "duration": 1018,
    "start_time": "2022-10-28T17:41:01.064Z"
   }
  ],
  "kernelspec": {
   "display_name": "Python 3 (ipykernel)",
   "language": "python",
   "name": "python3"
  },
  "language_info": {
   "codemirror_mode": {
    "name": "ipython",
    "version": 3
   },
   "file_extension": ".py",
   "mimetype": "text/x-python",
   "name": "python",
   "nbconvert_exporter": "python",
   "pygments_lexer": "ipython3",
   "version": "3.9.12"
  },
  "toc": {
   "base_numbering": 1,
   "nav_menu": {},
   "number_sections": true,
   "sideBar": true,
   "skip_h1_title": true,
   "title_cell": "Table of Contents",
   "title_sidebar": "Contents",
   "toc_cell": false,
   "toc_position": {},
   "toc_section_display": true,
   "toc_window_display": false
  }
 },
 "nbformat": 4,
 "nbformat_minor": 5
}
