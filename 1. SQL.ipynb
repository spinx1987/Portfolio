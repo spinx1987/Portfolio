{
 "cells": [
  {
   "cell_type": "markdown",
   "id": "9e1e31fe",
   "metadata": {},
   "source": [
    "# Проект по исследованию базы данных книг"
   ]
  },
  {
   "cell_type": "markdown",
   "id": "e0bc9004",
   "metadata": {},
   "source": [
    "__Описание проекта__\n",
    "\n",
    "Глобальная пандемия covid-19 внесла изменения во все сферы общественной жизни. С введением локдаунов во многих уголках мира людям пришлось отказаться от повседневных занятий, связанных, как правило, с общественными практиками - посещением публичных пространств и мероприятий. Проводя всё время дома люди, как кажется, стали обращаться к давно забытым практикам. Например, к длинному чтению. Т.е., прочтению не коротких статей в социальных сетях, заметок в Интернете или новостной аналитики на пару-тройку страниц, но книг, требующих вдумчивого и длительного чтения: романов, повестей, литературных циклов. Однако всё это происходит в мире, которыё переживает (или уже пережил), очередной переход к новому технологическому укладу. Теперь читают произведения не на бумажпных носителях, но на электронных - со страниц планшетов, смартфонов, ПК. \n",
    "\n",
    "Глобальная пандемия стала благоприятным временем для развития сферы электронных книг. Буйным цветом расцвели стартапы, которые предлагают своим клиентам подобные услуги. Мы не стали исключением и вошли в стартап по предоставлению клиентам электронных книг по подписке. Но что собой представляет этот рынок? Какие кнгиги клиентам нравяться? Какой продукт нам лучше запустить следующим? Чтобы ответить на подобные вопросы и было проведенно данное короткое исследование.\n",
    "\n",
    "__Цель исследовани__\n",
    "Сформулировать ценностное предложение для нового продукта\n",
    "\n",
    "В нашем распоряжении будет несколько датасетов - база данных по книгам, авторам, оценкам, пользователям и издательствам - которые подвергнутся нашей препарации. "
   ]
  },
  {
   "cell_type": "markdown",
   "id": "39d6ecde",
   "metadata": {},
   "source": [
    "__План работ__\n",
    "\n",
    "1) Загрузка датасета и его обработка\n",
    "\n",
    "2) Подсчёт количества книг вышедших после 1 января 2000 года\n",
    "\n",
    "3) Подсчёт количества обзоров и средней оценки для каждой книги\n",
    "\n",
    "4) Определение издательства, которое выпустило наибольшее число книг толще 50 страниц\n",
    "\n",
    "5) Определитние автора с самой высокой средней оценкой книг (с количеством оценок 50 и более)\n",
    "    \n",
    "6) Посчёт среднего количества обзоров от пользователей (среди тех, кто поставили больше 50 оценок)\n",
    "\n",
    "7) Выводы"
   ]
  },
  {
   "cell_type": "markdown",
   "id": "cf5e0523",
   "metadata": {},
   "source": [
    "## 1. Загрузка и обработка датасета"
   ]
  },
  {
   "cell_type": "markdown",
   "id": "6a811d9b",
   "metadata": {},
   "source": [
    "Загрузим необходимые библиотеки"
   ]
  },
  {
   "cell_type": "code",
   "execution_count": 1,
   "id": "2ecf9a28",
   "metadata": {},
   "outputs": [],
   "source": [
    "import pandas as pd\n",
    "from sqlalchemy import create_engine"
   ]
  },
  {
   "cell_type": "markdown",
   "id": "21844d60",
   "metadata": {},
   "source": [
    "Загрузим датасет"
   ]
  },
  {
   "cell_type": "code",
   "execution_count": 2,
   "id": "4c2463dc",
   "metadata": {},
   "outputs": [],
   "source": [
    "# устанавливаем параметры\n",
    "db_config = {'user': 'praktikum_student', # имя пользователя\n",
    "'pwd': 'Sdf4$2;d-d30pp', # пароль\n",
    "'host': 'rc1b-wcoijxj3yxfsf3fs.mdb.yandexcloud.net',\n",
    "'port': 6432, # порт подключения\n",
    "'db': 'data-analyst-final-project-db'} # название базы данных\n",
    "connection_string = 'postgresql://{}:{}@{}:{}/{}'.format(db_config['user'],\n",
    "db_config['pwd'],\n",
    "db_config['host'],\n",
    "db_config['port'],\n",
    "db_config['db'])\n",
    "# сохраняем коннектор\n",
    "engine = create_engine(connection_string, connect_args={'sslmode':'require'})"
   ]
  },
  {
   "cell_type": "code",
   "execution_count": 3,
   "id": "a5140c5a",
   "metadata": {},
   "outputs": [
    {
     "name": "stdout",
     "output_type": "stream",
     "text": [
      "<class 'pandas.core.frame.DataFrame'>\n",
      "RangeIndex: 1000 entries, 0 to 999\n",
      "Data columns (total 6 columns):\n",
      " #   Column            Non-Null Count  Dtype \n",
      "---  ------            --------------  ----- \n",
      " 0   book_id           1000 non-null   int64 \n",
      " 1   author_id         1000 non-null   int64 \n",
      " 2   title             1000 non-null   object\n",
      " 3   num_pages         1000 non-null   int64 \n",
      " 4   publication_date  1000 non-null   object\n",
      " 5   publisher_id      1000 non-null   int64 \n",
      "dtypes: int64(4), object(2)\n",
      "memory usage: 47.0+ KB\n"
     ]
    }
   ],
   "source": [
    "query = '''\n",
    "            SELECT * \n",
    "            FROM books\n",
    "        '''\n",
    "books = pd.io.sql.read_sql(query, con = engine)\n",
    "books.info()"
   ]
  },
  {
   "cell_type": "markdown",
   "id": "b1b297cf",
   "metadata": {},
   "source": [
    "Видим датасет на 1000 строк, без пропусков"
   ]
  },
  {
   "cell_type": "code",
   "execution_count": 4,
   "id": "30a7651c",
   "metadata": {},
   "outputs": [
    {
     "name": "stdout",
     "output_type": "stream",
     "text": [
      "<class 'pandas.core.frame.DataFrame'>\n",
      "RangeIndex: 636 entries, 0 to 635\n",
      "Data columns (total 2 columns):\n",
      " #   Column     Non-Null Count  Dtype \n",
      "---  ------     --------------  ----- \n",
      " 0   author_id  636 non-null    int64 \n",
      " 1   author     636 non-null    object\n",
      "dtypes: int64(1), object(1)\n",
      "memory usage: 10.1+ KB\n"
     ]
    }
   ],
   "source": [
    "query = '''\n",
    "            SELECT * \n",
    "            FROM authors\n",
    "        '''\n",
    "authors = pd.io.sql.read_sql(query, con = engine)\n",
    "authors.info()"
   ]
  },
  {
   "cell_type": "markdown",
   "id": "4ae3bf91",
   "metadata": {},
   "source": [
    "Тоже всё нормально"
   ]
  },
  {
   "cell_type": "code",
   "execution_count": 5,
   "id": "a5fb71b3",
   "metadata": {},
   "outputs": [
    {
     "name": "stdout",
     "output_type": "stream",
     "text": [
      "<class 'pandas.core.frame.DataFrame'>\n",
      "RangeIndex: 6456 entries, 0 to 6455\n",
      "Data columns (total 4 columns):\n",
      " #   Column     Non-Null Count  Dtype \n",
      "---  ------     --------------  ----- \n",
      " 0   rating_id  6456 non-null   int64 \n",
      " 1   book_id    6456 non-null   int64 \n",
      " 2   username   6456 non-null   object\n",
      " 3   rating     6456 non-null   int64 \n",
      "dtypes: int64(3), object(1)\n",
      "memory usage: 201.9+ KB\n"
     ]
    }
   ],
   "source": [
    "query = '''\n",
    "            SELECT * \n",
    "            FROM ratings\n",
    "        '''\n",
    "ratings = pd.io.sql.read_sql(query, con = engine)\n",
    "ratings.info()"
   ]
  },
  {
   "cell_type": "markdown",
   "id": "e6324a1d",
   "metadata": {},
   "source": [
    "Пропусков нет"
   ]
  },
  {
   "cell_type": "code",
   "execution_count": 6,
   "id": "66af0a48",
   "metadata": {},
   "outputs": [
    {
     "name": "stdout",
     "output_type": "stream",
     "text": [
      "<class 'pandas.core.frame.DataFrame'>\n",
      "RangeIndex: 2793 entries, 0 to 2792\n",
      "Data columns (total 4 columns):\n",
      " #   Column     Non-Null Count  Dtype \n",
      "---  ------     --------------  ----- \n",
      " 0   review_id  2793 non-null   int64 \n",
      " 1   book_id    2793 non-null   int64 \n",
      " 2   username   2793 non-null   object\n",
      " 3   text       2793 non-null   object\n",
      "dtypes: int64(2), object(2)\n",
      "memory usage: 87.4+ KB\n"
     ]
    }
   ],
   "source": [
    "query = '''\n",
    "            SELECT * \n",
    "            FROM reviews\n",
    "        '''\n",
    "reviews = pd.io.sql.read_sql(query, con = engine)\n",
    "reviews.info()"
   ]
  },
  {
   "cell_type": "markdown",
   "id": "852632ec",
   "metadata": {},
   "source": [
    "Всё спокойно"
   ]
  },
  {
   "cell_type": "code",
   "execution_count": 7,
   "id": "b4b7171c",
   "metadata": {},
   "outputs": [
    {
     "name": "stdout",
     "output_type": "stream",
     "text": [
      "<class 'pandas.core.frame.DataFrame'>\n",
      "RangeIndex: 340 entries, 0 to 339\n",
      "Data columns (total 2 columns):\n",
      " #   Column        Non-Null Count  Dtype \n",
      "---  ------        --------------  ----- \n",
      " 0   publisher_id  340 non-null    int64 \n",
      " 1   publisher     340 non-null    object\n",
      "dtypes: int64(1), object(1)\n",
      "memory usage: 5.4+ KB\n"
     ]
    }
   ],
   "source": [
    "query = '''\n",
    "            SELECT * \n",
    "            FROM publishers\n",
    "        '''\n",
    "publishers = pd.io.sql.read_sql(query, con = engine)\n",
    "publishers.info()"
   ]
  },
  {
   "cell_type": "markdown",
   "id": "272c5ccb",
   "metadata": {},
   "source": [
    "Можем двигаться дальше"
   ]
  },
  {
   "cell_type": "markdown",
   "id": "c22a365c",
   "metadata": {},
   "source": [
    "## 2. Количество книг, изданных после 1 января 2020 год"
   ]
  },
  {
   "cell_type": "code",
   "execution_count": 8,
   "id": "ee58a090",
   "metadata": {},
   "outputs": [
    {
     "data": {
      "text/html": [
       "<div>\n",
       "<style scoped>\n",
       "    .dataframe tbody tr th:only-of-type {\n",
       "        vertical-align: middle;\n",
       "    }\n",
       "\n",
       "    .dataframe tbody tr th {\n",
       "        vertical-align: top;\n",
       "    }\n",
       "\n",
       "    .dataframe thead th {\n",
       "        text-align: right;\n",
       "    }\n",
       "</style>\n",
       "<table border=\"1\" class=\"dataframe\">\n",
       "  <thead>\n",
       "    <tr style=\"text-align: right;\">\n",
       "      <th></th>\n",
       "      <th>books_count</th>\n",
       "    </tr>\n",
       "  </thead>\n",
       "  <tbody>\n",
       "    <tr>\n",
       "      <th>0</th>\n",
       "      <td>821</td>\n",
       "    </tr>\n",
       "  </tbody>\n",
       "</table>\n",
       "</div>"
      ],
      "text/plain": [
       "   books_count\n",
       "0          821"
      ]
     },
     "execution_count": 8,
     "metadata": {},
     "output_type": "execute_result"
    }
   ],
   "source": [
    "query = '''\n",
    "            SELECT COUNT(book_id) books_count\n",
    "            FROM books \n",
    "            WHERE publication_date >= '01-01-2000'\n",
    "        '''\n",
    "pd.io.sql.read_sql(query, con = engine)"
   ]
  },
  {
   "cell_type": "markdown",
   "id": "74d548eb",
   "metadata": {},
   "source": [
    "С начала 2020 года свет увидела 821 книга"
   ]
  },
  {
   "cell_type": "markdown",
   "id": "1937314c",
   "metadata": {},
   "source": [
    "## 3. Количество обзоров и средняя оценка для каждой книги"
   ]
  },
  {
   "cell_type": "code",
   "execution_count": 9,
   "id": "68d4c17f",
   "metadata": {},
   "outputs": [
    {
     "data": {
      "text/html": [
       "<div>\n",
       "<style scoped>\n",
       "    .dataframe tbody tr th:only-of-type {\n",
       "        vertical-align: middle;\n",
       "    }\n",
       "\n",
       "    .dataframe tbody tr th {\n",
       "        vertical-align: top;\n",
       "    }\n",
       "\n",
       "    .dataframe thead th {\n",
       "        text-align: right;\n",
       "    }\n",
       "</style>\n",
       "<table border=\"1\" class=\"dataframe\">\n",
       "  <thead>\n",
       "    <tr style=\"text-align: right;\">\n",
       "      <th></th>\n",
       "      <th>book_id</th>\n",
       "      <th>title</th>\n",
       "      <th>rating_avg</th>\n",
       "      <th>review_count</th>\n",
       "    </tr>\n",
       "  </thead>\n",
       "  <tbody>\n",
       "    <tr>\n",
       "      <th>0</th>\n",
       "      <td>913</td>\n",
       "      <td>The Woman in Black</td>\n",
       "      <td>5.0</td>\n",
       "      <td>2</td>\n",
       "    </tr>\n",
       "    <tr>\n",
       "      <th>1</th>\n",
       "      <td>459</td>\n",
       "      <td>My Name Is Asher Lev</td>\n",
       "      <td>5.0</td>\n",
       "      <td>2</td>\n",
       "    </tr>\n",
       "    <tr>\n",
       "      <th>2</th>\n",
       "      <td>938</td>\n",
       "      <td>Triptych (Will Trent  #1)</td>\n",
       "      <td>5.0</td>\n",
       "      <td>2</td>\n",
       "    </tr>\n",
       "    <tr>\n",
       "      <th>3</th>\n",
       "      <td>518</td>\n",
       "      <td>Pop Goes the Weasel (Alex Cross  #5)</td>\n",
       "      <td>5.0</td>\n",
       "      <td>2</td>\n",
       "    </tr>\n",
       "    <tr>\n",
       "      <th>4</th>\n",
       "      <td>297</td>\n",
       "      <td>Hard Times</td>\n",
       "      <td>5.0</td>\n",
       "      <td>2</td>\n",
       "    </tr>\n",
       "    <tr>\n",
       "      <th>5</th>\n",
       "      <td>642</td>\n",
       "      <td>The Big Bad Wolf  (Alex Cross  #9)</td>\n",
       "      <td>5.0</td>\n",
       "      <td>2</td>\n",
       "    </tr>\n",
       "    <tr>\n",
       "      <th>6</th>\n",
       "      <td>444</td>\n",
       "      <td>Moneyball: The Art of Winning an Unfair Game</td>\n",
       "      <td>5.0</td>\n",
       "      <td>3</td>\n",
       "    </tr>\n",
       "    <tr>\n",
       "      <th>7</th>\n",
       "      <td>469</td>\n",
       "      <td>Neil Gaiman's Neverwhere</td>\n",
       "      <td>5.0</td>\n",
       "      <td>2</td>\n",
       "    </tr>\n",
       "    <tr>\n",
       "      <th>8</th>\n",
       "      <td>902</td>\n",
       "      <td>The War of Art: Break Through the Blocks &amp; Win...</td>\n",
       "      <td>5.0</td>\n",
       "      <td>2</td>\n",
       "    </tr>\n",
       "    <tr>\n",
       "      <th>9</th>\n",
       "      <td>57</td>\n",
       "      <td>Act of Treason (Mitch Rapp  #9)</td>\n",
       "      <td>5.0</td>\n",
       "      <td>2</td>\n",
       "    </tr>\n",
       "    <tr>\n",
       "      <th>10</th>\n",
       "      <td>732</td>\n",
       "      <td>The Ghost Map: The Story of London's Most Terr...</td>\n",
       "      <td>5.0</td>\n",
       "      <td>2</td>\n",
       "    </tr>\n",
       "    <tr>\n",
       "      <th>11</th>\n",
       "      <td>224</td>\n",
       "      <td>Evening Class</td>\n",
       "      <td>5.0</td>\n",
       "      <td>2</td>\n",
       "    </tr>\n",
       "    <tr>\n",
       "      <th>12</th>\n",
       "      <td>699</td>\n",
       "      <td>The Demon-Haunted World: Science as a Candle i...</td>\n",
       "      <td>5.0</td>\n",
       "      <td>2</td>\n",
       "    </tr>\n",
       "    <tr>\n",
       "      <th>13</th>\n",
       "      <td>967</td>\n",
       "      <td>Welcome to Temptation (Dempseys  #1)</td>\n",
       "      <td>5.0</td>\n",
       "      <td>2</td>\n",
       "    </tr>\n",
       "    <tr>\n",
       "      <th>14</th>\n",
       "      <td>182</td>\n",
       "      <td>Dead Souls</td>\n",
       "      <td>5.0</td>\n",
       "      <td>2</td>\n",
       "    </tr>\n",
       "    <tr>\n",
       "      <th>15</th>\n",
       "      <td>972</td>\n",
       "      <td>Wherever You Go  There You Are: Mindfulness Me...</td>\n",
       "      <td>5.0</td>\n",
       "      <td>2</td>\n",
       "    </tr>\n",
       "    <tr>\n",
       "      <th>16</th>\n",
       "      <td>418</td>\n",
       "      <td>March</td>\n",
       "      <td>5.0</td>\n",
       "      <td>2</td>\n",
       "    </tr>\n",
       "    <tr>\n",
       "      <th>17</th>\n",
       "      <td>390</td>\n",
       "      <td>Light in August</td>\n",
       "      <td>5.0</td>\n",
       "      <td>2</td>\n",
       "    </tr>\n",
       "    <tr>\n",
       "      <th>18</th>\n",
       "      <td>441</td>\n",
       "      <td>Misty of Chincoteague (Misty  #1)</td>\n",
       "      <td>5.0</td>\n",
       "      <td>2</td>\n",
       "    </tr>\n",
       "    <tr>\n",
       "      <th>19</th>\n",
       "      <td>599</td>\n",
       "      <td>Stone of Farewell (Memory  Sorrow  and Thorn  #2)</td>\n",
       "      <td>5.0</td>\n",
       "      <td>1</td>\n",
       "    </tr>\n",
       "  </tbody>\n",
       "</table>\n",
       "</div>"
      ],
      "text/plain": [
       "    book_id                                              title  rating_avg  \\\n",
       "0       913                                 The Woman in Black         5.0   \n",
       "1       459                               My Name Is Asher Lev         5.0   \n",
       "2       938                          Triptych (Will Trent  #1)         5.0   \n",
       "3       518               Pop Goes the Weasel (Alex Cross  #5)         5.0   \n",
       "4       297                                         Hard Times         5.0   \n",
       "5       642                 The Big Bad Wolf  (Alex Cross  #9)         5.0   \n",
       "6       444       Moneyball: The Art of Winning an Unfair Game         5.0   \n",
       "7       469                           Neil Gaiman's Neverwhere         5.0   \n",
       "8       902  The War of Art: Break Through the Blocks & Win...         5.0   \n",
       "9        57                    Act of Treason (Mitch Rapp  #9)         5.0   \n",
       "10      732  The Ghost Map: The Story of London's Most Terr...         5.0   \n",
       "11      224                                      Evening Class         5.0   \n",
       "12      699  The Demon-Haunted World: Science as a Candle i...         5.0   \n",
       "13      967               Welcome to Temptation (Dempseys  #1)         5.0   \n",
       "14      182                                         Dead Souls         5.0   \n",
       "15      972  Wherever You Go  There You Are: Mindfulness Me...         5.0   \n",
       "16      418                                              March         5.0   \n",
       "17      390                                    Light in August         5.0   \n",
       "18      441                  Misty of Chincoteague (Misty  #1)         5.0   \n",
       "19      599  Stone of Farewell (Memory  Sorrow  and Thorn  #2)         5.0   \n",
       "\n",
       "    review_count  \n",
       "0              2  \n",
       "1              2  \n",
       "2              2  \n",
       "3              2  \n",
       "4              2  \n",
       "5              2  \n",
       "6              3  \n",
       "7              2  \n",
       "8              2  \n",
       "9              2  \n",
       "10             2  \n",
       "11             2  \n",
       "12             2  \n",
       "13             2  \n",
       "14             2  \n",
       "15             2  \n",
       "16             2  \n",
       "17             2  \n",
       "18             2  \n",
       "19             1  "
      ]
     },
     "execution_count": 9,
     "metadata": {},
     "output_type": "execute_result"
    }
   ],
   "source": [
    "query = '''\n",
    "            SELECT b.book_id, b.title, rat.rating_avg, rev.review_count\n",
    "            FROM books b\n",
    "            LEFT JOIN (SELECT book_id, AVG(rating) rating_avg FROM ratings GROUP BY book_id) rat ON b.book_id=rat.book_id\n",
    "            LEFT JOIN (SELECT book_id, COUNT(*) review_count FROM reviews GROUP BY book_id) rev ON b.book_id=rev.book_id\n",
    "            ORDER BY (rating_avg) DESC\n",
    "            LIMIT 20\n",
    "        '''\n",
    "pd.io.sql.read_sql(query, con = engine)"
   ]
  },
  {
   "cell_type": "code",
   "execution_count": 10,
   "id": "1e2b8bb8",
   "metadata": {},
   "outputs": [
    {
     "data": {
      "text/html": [
       "<div>\n",
       "<style scoped>\n",
       "    .dataframe tbody tr th:only-of-type {\n",
       "        vertical-align: middle;\n",
       "    }\n",
       "\n",
       "    .dataframe tbody tr th {\n",
       "        vertical-align: top;\n",
       "    }\n",
       "\n",
       "    .dataframe thead th {\n",
       "        text-align: right;\n",
       "    }\n",
       "</style>\n",
       "<table border=\"1\" class=\"dataframe\">\n",
       "  <thead>\n",
       "    <tr style=\"text-align: right;\">\n",
       "      <th></th>\n",
       "      <th>book_id</th>\n",
       "      <th>title</th>\n",
       "      <th>rating_avg</th>\n",
       "      <th>review_count</th>\n",
       "    </tr>\n",
       "  </thead>\n",
       "  <tbody>\n",
       "    <tr>\n",
       "      <th>0</th>\n",
       "      <td>948</td>\n",
       "      <td>Twilight (Twilight  #1)</td>\n",
       "      <td>3.662500</td>\n",
       "      <td>7</td>\n",
       "    </tr>\n",
       "    <tr>\n",
       "      <th>1</th>\n",
       "      <td>963</td>\n",
       "      <td>Water for Elephants</td>\n",
       "      <td>3.977273</td>\n",
       "      <td>6</td>\n",
       "    </tr>\n",
       "    <tr>\n",
       "      <th>2</th>\n",
       "      <td>750</td>\n",
       "      <td>The Hobbit  or There and Back Again</td>\n",
       "      <td>4.125000</td>\n",
       "      <td>6</td>\n",
       "    </tr>\n",
       "    <tr>\n",
       "      <th>3</th>\n",
       "      <td>696</td>\n",
       "      <td>The Da Vinci Code (Robert Langdon  #2)</td>\n",
       "      <td>3.830508</td>\n",
       "      <td>6</td>\n",
       "    </tr>\n",
       "    <tr>\n",
       "      <th>4</th>\n",
       "      <td>734</td>\n",
       "      <td>The Glass Castle</td>\n",
       "      <td>4.206897</td>\n",
       "      <td>6</td>\n",
       "    </tr>\n",
       "    <tr>\n",
       "      <th>5</th>\n",
       "      <td>497</td>\n",
       "      <td>Outlander (Outlander  #1)</td>\n",
       "      <td>4.125000</td>\n",
       "      <td>6</td>\n",
       "    </tr>\n",
       "    <tr>\n",
       "      <th>6</th>\n",
       "      <td>854</td>\n",
       "      <td>The Road</td>\n",
       "      <td>3.772727</td>\n",
       "      <td>6</td>\n",
       "    </tr>\n",
       "    <tr>\n",
       "      <th>7</th>\n",
       "      <td>627</td>\n",
       "      <td>The Alchemist</td>\n",
       "      <td>3.789474</td>\n",
       "      <td>6</td>\n",
       "    </tr>\n",
       "    <tr>\n",
       "      <th>8</th>\n",
       "      <td>207</td>\n",
       "      <td>Eat  Pray  Love</td>\n",
       "      <td>3.395833</td>\n",
       "      <td>6</td>\n",
       "    </tr>\n",
       "    <tr>\n",
       "      <th>9</th>\n",
       "      <td>733</td>\n",
       "      <td>The Giver (The Giver  #1)</td>\n",
       "      <td>3.750000</td>\n",
       "      <td>6</td>\n",
       "    </tr>\n",
       "    <tr>\n",
       "      <th>10</th>\n",
       "      <td>779</td>\n",
       "      <td>The Lightning Thief (Percy Jackson and the Oly...</td>\n",
       "      <td>4.080645</td>\n",
       "      <td>6</td>\n",
       "    </tr>\n",
       "    <tr>\n",
       "      <th>11</th>\n",
       "      <td>302</td>\n",
       "      <td>Harry Potter and the Prisoner of Azkaban (Harr...</td>\n",
       "      <td>4.414634</td>\n",
       "      <td>6</td>\n",
       "    </tr>\n",
       "    <tr>\n",
       "      <th>12</th>\n",
       "      <td>673</td>\n",
       "      <td>The Catcher in the Rye</td>\n",
       "      <td>3.825581</td>\n",
       "      <td>6</td>\n",
       "    </tr>\n",
       "    <tr>\n",
       "      <th>13</th>\n",
       "      <td>299</td>\n",
       "      <td>Harry Potter and the Chamber of Secrets (Harry...</td>\n",
       "      <td>4.287500</td>\n",
       "      <td>6</td>\n",
       "    </tr>\n",
       "    <tr>\n",
       "      <th>14</th>\n",
       "      <td>695</td>\n",
       "      <td>The Curious Incident of the Dog in the Night-Time</td>\n",
       "      <td>4.081081</td>\n",
       "      <td>6</td>\n",
       "    </tr>\n",
       "    <tr>\n",
       "      <th>15</th>\n",
       "      <td>656</td>\n",
       "      <td>The Book Thief</td>\n",
       "      <td>4.264151</td>\n",
       "      <td>6</td>\n",
       "    </tr>\n",
       "  </tbody>\n",
       "</table>\n",
       "</div>"
      ],
      "text/plain": [
       "    book_id                                              title  rating_avg  \\\n",
       "0       948                            Twilight (Twilight  #1)    3.662500   \n",
       "1       963                                Water for Elephants    3.977273   \n",
       "2       750                The Hobbit  or There and Back Again    4.125000   \n",
       "3       696             The Da Vinci Code (Robert Langdon  #2)    3.830508   \n",
       "4       734                                   The Glass Castle    4.206897   \n",
       "5       497                          Outlander (Outlander  #1)    4.125000   \n",
       "6       854                                           The Road    3.772727   \n",
       "7       627                                      The Alchemist    3.789474   \n",
       "8       207                                    Eat  Pray  Love    3.395833   \n",
       "9       733                          The Giver (The Giver  #1)    3.750000   \n",
       "10      779  The Lightning Thief (Percy Jackson and the Oly...    4.080645   \n",
       "11      302  Harry Potter and the Prisoner of Azkaban (Harr...    4.414634   \n",
       "12      673                             The Catcher in the Rye    3.825581   \n",
       "13      299  Harry Potter and the Chamber of Secrets (Harry...    4.287500   \n",
       "14      695  The Curious Incident of the Dog in the Night-Time    4.081081   \n",
       "15      656                                     The Book Thief    4.264151   \n",
       "\n",
       "    review_count  \n",
       "0              7  \n",
       "1              6  \n",
       "2              6  \n",
       "3              6  \n",
       "4              6  \n",
       "5              6  \n",
       "6              6  \n",
       "7              6  \n",
       "8              6  \n",
       "9              6  \n",
       "10             6  \n",
       "11             6  \n",
       "12             6  \n",
       "13             6  \n",
       "14             6  \n",
       "15             6  "
      ]
     },
     "execution_count": 10,
     "metadata": {},
     "output_type": "execute_result"
    }
   ],
   "source": [
    "query = '''\n",
    "            SELECT b.book_id, b.title, rat.rating_avg, rev.review_count\n",
    "            FROM books b\n",
    "            LEFT JOIN (SELECT book_id, AVG(rating) rating_avg FROM ratings GROUP BY book_id) rat ON b.book_id=rat.book_id\n",
    "            LEFT JOIN (SELECT book_id, COUNT(*) review_count FROM reviews GROUP BY book_id) rev ON b.book_id=rev.book_id\n",
    "            WHERE review_count > 5\n",
    "            ORDER BY (review_count) DESC\n",
    "            LIMIT 20\n",
    "        '''\n",
    "pd.io.sql.read_sql(query, con = engine)"
   ]
  },
  {
   "cell_type": "markdown",
   "id": "3d3bc4e2",
   "metadata": {},
   "source": [
    "К своему стыду, не узнаю не одной книги из ТОП-20 по рейтингу. \n",
    "\n",
    "Из рейтинга книг, у котрых более 5 обзоров, к своему стыду, узнаю \"Сумерки\", \"Кот Да Винчи\" (именно так), \"Над пропастью во ржи\" (её жк запретили в американских школах, разве нет?). Узнаю книги о мальчике-волшебнике со шрамом. И очень рад за Толкиена)))"
   ]
  },
  {
   "cell_type": "markdown",
   "id": "5a097abd",
   "metadata": {},
   "source": [
    "## 4. Издательство, которое выпустило больше всего книг."
   ]
  },
  {
   "cell_type": "markdown",
   "id": "6203c32a",
   "metadata": {},
   "source": [
    "Не могу здесь не повредничать. По условиям задачи, книгой здесь считается нечто от 50 страниц, хотя в Российском ( не знаю как в иностранном) издательском деле принято считать брошюрой печатную продукцию не более 48 страниц..."
   ]
  },
  {
   "cell_type": "code",
   "execution_count": 11,
   "id": "3ae11b2a",
   "metadata": {},
   "outputs": [
    {
     "data": {
      "text/html": [
       "<div>\n",
       "<style scoped>\n",
       "    .dataframe tbody tr th:only-of-type {\n",
       "        vertical-align: middle;\n",
       "    }\n",
       "\n",
       "    .dataframe tbody tr th {\n",
       "        vertical-align: top;\n",
       "    }\n",
       "\n",
       "    .dataframe thead th {\n",
       "        text-align: right;\n",
       "    }\n",
       "</style>\n",
       "<table border=\"1\" class=\"dataframe\">\n",
       "  <thead>\n",
       "    <tr style=\"text-align: right;\">\n",
       "      <th></th>\n",
       "      <th>publisher</th>\n",
       "      <th>books_count</th>\n",
       "    </tr>\n",
       "  </thead>\n",
       "  <tbody>\n",
       "    <tr>\n",
       "      <th>0</th>\n",
       "      <td>Penguin Books</td>\n",
       "      <td>42</td>\n",
       "    </tr>\n",
       "    <tr>\n",
       "      <th>1</th>\n",
       "      <td>Vintage</td>\n",
       "      <td>31</td>\n",
       "    </tr>\n",
       "    <tr>\n",
       "      <th>2</th>\n",
       "      <td>Grand Central Publishing</td>\n",
       "      <td>25</td>\n",
       "    </tr>\n",
       "    <tr>\n",
       "      <th>3</th>\n",
       "      <td>Penguin Classics</td>\n",
       "      <td>24</td>\n",
       "    </tr>\n",
       "    <tr>\n",
       "      <th>4</th>\n",
       "      <td>Bantam</td>\n",
       "      <td>19</td>\n",
       "    </tr>\n",
       "  </tbody>\n",
       "</table>\n",
       "</div>"
      ],
      "text/plain": [
       "                  publisher  books_count\n",
       "0             Penguin Books           42\n",
       "1                   Vintage           31\n",
       "2  Grand Central Publishing           25\n",
       "3          Penguin Classics           24\n",
       "4                    Bantam           19"
      ]
     },
     "execution_count": 11,
     "metadata": {},
     "output_type": "execute_result"
    }
   ],
   "source": [
    "query = '''\n",
    "            SELECT p.publisher, COUNT(*) books_count\n",
    "            FROM books b\n",
    "            LEFT JOIN publishers p ON b.publisher_id = p.publisher_id\n",
    "            WHERE num_pages > 50\n",
    "            GROUP BY b.publisher_id, p.publisher\n",
    "            ORDER BY COUNT(*) DESC\n",
    "            LIMIT 5\n",
    "        '''\n",
    "pd.io.sql.read_sql(query, con = engine)"
   ]
  },
  {
   "cell_type": "markdown",
   "id": "6720ce8e",
   "metadata": {},
   "source": [
    "Больше всего книг было выпущено под эгидой издателсьтва Penguin - 42 наименования."
   ]
  },
  {
   "cell_type": "markdown",
   "id": "b29a9728",
   "metadata": {},
   "source": [
    "## 5. Автор с самой высокой средней оценкой книг (с количеством оценок 50 и более)"
   ]
  },
  {
   "cell_type": "code",
   "execution_count": 12,
   "id": "85bb05ab",
   "metadata": {},
   "outputs": [
    {
     "data": {
      "text/html": [
       "<div>\n",
       "<style scoped>\n",
       "    .dataframe tbody tr th:only-of-type {\n",
       "        vertical-align: middle;\n",
       "    }\n",
       "\n",
       "    .dataframe tbody tr th {\n",
       "        vertical-align: top;\n",
       "    }\n",
       "\n",
       "    .dataframe thead th {\n",
       "        text-align: right;\n",
       "    }\n",
       "</style>\n",
       "<table border=\"1\" class=\"dataframe\">\n",
       "  <thead>\n",
       "    <tr style=\"text-align: right;\">\n",
       "      <th></th>\n",
       "      <th>author</th>\n",
       "      <th>rating_avg</th>\n",
       "    </tr>\n",
       "  </thead>\n",
       "  <tbody>\n",
       "    <tr>\n",
       "      <th>0</th>\n",
       "      <td>J.K. Rowling/Mary GrandPré</td>\n",
       "      <td>4.283844</td>\n",
       "    </tr>\n",
       "    <tr>\n",
       "      <th>1</th>\n",
       "      <td>Markus Zusak/Cao Xuân Việt Khương</td>\n",
       "      <td>4.264151</td>\n",
       "    </tr>\n",
       "    <tr>\n",
       "      <th>2</th>\n",
       "      <td>J.R.R. Tolkien</td>\n",
       "      <td>4.258446</td>\n",
       "    </tr>\n",
       "    <tr>\n",
       "      <th>3</th>\n",
       "      <td>Louisa May Alcott</td>\n",
       "      <td>4.192308</td>\n",
       "    </tr>\n",
       "    <tr>\n",
       "      <th>4</th>\n",
       "      <td>Rick Riordan</td>\n",
       "      <td>4.080645</td>\n",
       "    </tr>\n",
       "    <tr>\n",
       "      <th>5</th>\n",
       "      <td>William Golding</td>\n",
       "      <td>3.901408</td>\n",
       "    </tr>\n",
       "    <tr>\n",
       "      <th>6</th>\n",
       "      <td>J.D. Salinger</td>\n",
       "      <td>3.825581</td>\n",
       "    </tr>\n",
       "    <tr>\n",
       "      <th>7</th>\n",
       "      <td>Paulo Coelho/Alan R. Clarke/Özdemir İnce</td>\n",
       "      <td>3.789474</td>\n",
       "    </tr>\n",
       "    <tr>\n",
       "      <th>8</th>\n",
       "      <td>William Shakespeare/Paul Werstine/Barbara A. M...</td>\n",
       "      <td>3.787879</td>\n",
       "    </tr>\n",
       "    <tr>\n",
       "      <th>9</th>\n",
       "      <td>Dan Brown</td>\n",
       "      <td>3.754540</td>\n",
       "    </tr>\n",
       "    <tr>\n",
       "      <th>10</th>\n",
       "      <td>Lois Lowry</td>\n",
       "      <td>3.750000</td>\n",
       "    </tr>\n",
       "    <tr>\n",
       "      <th>11</th>\n",
       "      <td>George Orwell/Boris Grabnar/Peter Škerl</td>\n",
       "      <td>3.729730</td>\n",
       "    </tr>\n",
       "    <tr>\n",
       "      <th>12</th>\n",
       "      <td>Stephenie Meyer</td>\n",
       "      <td>3.662500</td>\n",
       "    </tr>\n",
       "    <tr>\n",
       "      <th>13</th>\n",
       "      <td>John Steinbeck</td>\n",
       "      <td>3.622951</td>\n",
       "    </tr>\n",
       "  </tbody>\n",
       "</table>\n",
       "</div>"
      ],
      "text/plain": [
       "                                               author  rating_avg\n",
       "0                          J.K. Rowling/Mary GrandPré    4.283844\n",
       "1                   Markus Zusak/Cao Xuân Việt Khương    4.264151\n",
       "2                                      J.R.R. Tolkien    4.258446\n",
       "3                                   Louisa May Alcott    4.192308\n",
       "4                                        Rick Riordan    4.080645\n",
       "5                                     William Golding    3.901408\n",
       "6                                       J.D. Salinger    3.825581\n",
       "7            Paulo Coelho/Alan R. Clarke/Özdemir İnce    3.789474\n",
       "8   William Shakespeare/Paul Werstine/Barbara A. M...    3.787879\n",
       "9                                           Dan Brown    3.754540\n",
       "10                                         Lois Lowry    3.750000\n",
       "11            George Orwell/Boris Grabnar/Peter Škerl    3.729730\n",
       "12                                    Stephenie Meyer    3.662500\n",
       "13                                     John Steinbeck    3.622951"
      ]
     },
     "execution_count": 12,
     "metadata": {},
     "output_type": "execute_result"
    }
   ],
   "source": [
    "query = '''\n",
    "            WITH\n",
    "            rating AS (SELECT book_id, AVG(rating) ratings\n",
    "            FROM ratings\n",
    "            GROUP BY book_id\n",
    "            HAVING COUNT(*) > 50\n",
    "            ) \n",
    "            SELECT a.author, AVG(ratings) rating_avg\n",
    "            FROM rating JOIN (SELECT book_id, author_id FROM books) b ON rating.book_id=b.book_id\n",
    "            JOIN (SELECT author_id, author FROM authors) a ON b.author_id=a.author_id\n",
    "            GROUP BY a.author\n",
    "            ORDER BY avg(ratings) DESC\n",
    "        '''\n",
    "pd.io.sql.read_sql(query, con = engine)"
   ]
  },
  {
   "cell_type": "markdown",
   "id": "d0c412ff",
   "metadata": {},
   "source": [
    "Самый популярный автор - Джоан Роулинг - что, в принципе ожидаемо. Отметим, что достаточно много лёгкой, фэтезийной литературы, с помощью которой люди пытаются сбежать от тягот и невзгод реального мира..."
   ]
  },
  {
   "cell_type": "markdown",
   "id": "6503a360",
   "metadata": {},
   "source": [
    "## 6. Cреднее количество обзоров от пользователей (среди тех, кто поставили больше 50 оценок)"
   ]
  },
  {
   "cell_type": "code",
   "execution_count": 16,
   "id": "a49903c9",
   "metadata": {},
   "outputs": [
    {
     "data": {
      "text/html": [
       "<div>\n",
       "<style scoped>\n",
       "    .dataframe tbody tr th:only-of-type {\n",
       "        vertical-align: middle;\n",
       "    }\n",
       "\n",
       "    .dataframe tbody tr th {\n",
       "        vertical-align: top;\n",
       "    }\n",
       "\n",
       "    .dataframe thead th {\n",
       "        text-align: right;\n",
       "    }\n",
       "</style>\n",
       "<table border=\"1\" class=\"dataframe\">\n",
       "  <thead>\n",
       "    <tr style=\"text-align: right;\">\n",
       "      <th></th>\n",
       "      <th>avg_n_review</th>\n",
       "    </tr>\n",
       "  </thead>\n",
       "  <tbody>\n",
       "    <tr>\n",
       "      <th>0</th>\n",
       "      <td>24.333333</td>\n",
       "    </tr>\n",
       "  </tbody>\n",
       "</table>\n",
       "</div>"
      ],
      "text/plain": [
       "   avg_n_review\n",
       "0     24.333333"
      ]
     },
     "execution_count": 16,
     "metadata": {},
     "output_type": "execute_result"
    }
   ],
   "source": [
    "query = ''' \n",
    "            WITH \n",
    "            usr AS (SELECT username, COUNT(rating_id)\n",
    "            FROM ratings\n",
    "            GROUP BY username\n",
    "            HAVING COUNT(rating_id) > 50)\n",
    "            \n",
    "            SELECT AVG(count_reviews) avg_n_review\n",
    "            FROM (\n",
    "            SELECT username, COUNT(review_id) count_reviews\n",
    "            FROM reviews\n",
    "            WHERE username IN (SELECT username from usr )\n",
    "            GROUP BY username\n",
    "            ) review\n",
    "\n",
    "        '''\n",
    "pd.io.sql.read_sql(query, con = engine)"
   ]
  },
  {
   "cell_type": "markdown",
   "id": "5d64148a",
   "metadata": {},
   "source": [
    "Те, кто много читают, много и пишут. Графомания заразна."
   ]
  },
  {
   "cell_type": "markdown",
   "id": "94ac34ed",
   "metadata": {},
   "source": [
    "## Выводы"
   ]
  },
  {
   "cell_type": "markdown",
   "id": "1fa377d2",
   "metadata": {},
   "source": [
    "1) С 1-го января 2020 года была издана 821 рукопись.\n",
    "\n",
    "2) Самое \"массовое\" издание Penguin, под лейблом которого (Penguin Books и Penguin Classic) вышло 6,5% от всех книг в датасете. \n",
    "\n",
    "3) Потребители предпочитают литературу о вымышленном мире. Зачастую ориентированную изначально на детей/подростков.\n",
    "\n",
    "4) Активные в чтении пользователи, также активны и оценки прочитанного. "
   ]
  }
 ],
 "metadata": {
  "kernelspec": {
   "display_name": "Python 3 (ipykernel)",
   "language": "python",
   "name": "python3"
  },
  "language_info": {
   "codemirror_mode": {
    "name": "ipython",
    "version": 3
   },
   "file_extension": ".py",
   "mimetype": "text/x-python",
   "name": "python",
   "nbconvert_exporter": "python",
   "pygments_lexer": "ipython3",
   "version": "3.9.12"
  }
 },
 "nbformat": 4,
 "nbformat_minor": 5
}
