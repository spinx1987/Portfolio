{
 "cells": [
  {
   "cell_type": "markdown",
   "id": "6a8bd240",
   "metadata": {},
   "source": [
    "# Исследование объявлений о продаже квартир"
   ]
  },
  {
   "cell_type": "markdown",
   "id": "ddb47513",
   "metadata": {},
   "source": [
    "В вашем распоряжении данные сервиса Яндекc Недвижимость — архив объявлений о продаже квартир в Санкт-Петербурге и соседних населённых пунктах за несколько лет. Нужно научиться определять рыночную стоимость объектов недвижимости. Ваша задача — установить параметры. Это позволит построить автоматизированную систему: она отследит аномалии и мошенническую деятельность.\n",
    "\n",
    "По каждой квартире на продажу доступны два вида данных. Первые вписаны пользователем, вторые получены автоматически на основе картографических данных. Например, расстояние до центра, аэропорта, ближайшего парка и водоёма.\n"
   ]
  },
  {
   "cell_type": "markdown",
   "id": "505e4620",
   "metadata": {},
   "source": [
    "## Изучение данных"
   ]
  },
  {
   "cell_type": "code",
   "execution_count": 1,
   "id": "fdace179",
   "metadata": {},
   "outputs": [],
   "source": [
    "import pandas as pd\n",
    "import matplotlib.pyplot as plt"
   ]
  },
  {
   "cell_type": "markdown",
   "id": "b8185e79",
   "metadata": {},
   "source": [
    "Загрузим датасет, необходимый для исследования. Введём разделитель \\t"
   ]
  },
  {
   "cell_type": "code",
   "execution_count": 3,
   "id": "f0f77585",
   "metadata": {},
   "outputs": [],
   "source": [
    "try:\n",
    "    data = pd.read_csv('/datasets/real_estate_data.csv', sep='\\t')\n",
    "except:\n",
    "    data = pd.read_csv('C:/Users/Пользователь/Downloads/real_estate_data.csv', sep='\\t')"
   ]
  },
  {
   "cell_type": "code",
   "execution_count": 4,
   "id": "d661cf34",
   "metadata": {},
   "outputs": [
    {
     "name": "stdout",
     "output_type": "stream",
     "text": [
      "<class 'pandas.core.frame.DataFrame'>\n",
      "RangeIndex: 23699 entries, 0 to 23698\n",
      "Data columns (total 22 columns):\n",
      " #   Column                Non-Null Count  Dtype  \n",
      "---  ------                --------------  -----  \n",
      " 0   total_images          23699 non-null  int64  \n",
      " 1   last_price            23699 non-null  float64\n",
      " 2   total_area            23699 non-null  float64\n",
      " 3   first_day_exposition  23699 non-null  object \n",
      " 4   rooms                 23699 non-null  int64  \n",
      " 5   ceiling_height        14504 non-null  float64\n",
      " 6   floors_total          23613 non-null  float64\n",
      " 7   living_area           21796 non-null  float64\n",
      " 8   floor                 23699 non-null  int64  \n",
      " 9   is_apartment          2775 non-null   object \n",
      " 10  studio                23699 non-null  bool   \n",
      " 11  open_plan             23699 non-null  bool   \n",
      " 12  kitchen_area          21421 non-null  float64\n",
      " 13  balcony               12180 non-null  float64\n",
      " 14  locality_name         23650 non-null  object \n",
      " 15  airports_nearest      18157 non-null  float64\n",
      " 16  cityCenters_nearest   18180 non-null  float64\n",
      " 17  parks_around3000      18181 non-null  float64\n",
      " 18  parks_nearest         8079 non-null   float64\n",
      " 19  ponds_around3000      18181 non-null  float64\n",
      " 20  ponds_nearest         9110 non-null   float64\n",
      " 21  days_exposition       20518 non-null  float64\n",
      "dtypes: bool(2), float64(14), int64(3), object(3)\n",
      "memory usage: 3.7+ MB\n"
     ]
    },
    {
     "data": {
      "text/html": [
       "<div>\n",
       "<style scoped>\n",
       "    .dataframe tbody tr th:only-of-type {\n",
       "        vertical-align: middle;\n",
       "    }\n",
       "\n",
       "    .dataframe tbody tr th {\n",
       "        vertical-align: top;\n",
       "    }\n",
       "\n",
       "    .dataframe thead th {\n",
       "        text-align: right;\n",
       "    }\n",
       "</style>\n",
       "<table border=\"1\" class=\"dataframe\">\n",
       "  <thead>\n",
       "    <tr style=\"text-align: right;\">\n",
       "      <th></th>\n",
       "      <th>total_images</th>\n",
       "      <th>last_price</th>\n",
       "      <th>total_area</th>\n",
       "      <th>first_day_exposition</th>\n",
       "      <th>rooms</th>\n",
       "      <th>ceiling_height</th>\n",
       "      <th>floors_total</th>\n",
       "      <th>living_area</th>\n",
       "      <th>floor</th>\n",
       "      <th>is_apartment</th>\n",
       "      <th>...</th>\n",
       "      <th>kitchen_area</th>\n",
       "      <th>balcony</th>\n",
       "      <th>locality_name</th>\n",
       "      <th>airports_nearest</th>\n",
       "      <th>cityCenters_nearest</th>\n",
       "      <th>parks_around3000</th>\n",
       "      <th>parks_nearest</th>\n",
       "      <th>ponds_around3000</th>\n",
       "      <th>ponds_nearest</th>\n",
       "      <th>days_exposition</th>\n",
       "    </tr>\n",
       "  </thead>\n",
       "  <tbody>\n",
       "    <tr>\n",
       "      <th>0</th>\n",
       "      <td>20</td>\n",
       "      <td>13000000.0</td>\n",
       "      <td>108.0</td>\n",
       "      <td>2019-03-07T00:00:00</td>\n",
       "      <td>3</td>\n",
       "      <td>2.70</td>\n",
       "      <td>16.0</td>\n",
       "      <td>51.0</td>\n",
       "      <td>8</td>\n",
       "      <td>NaN</td>\n",
       "      <td>...</td>\n",
       "      <td>25.0</td>\n",
       "      <td>NaN</td>\n",
       "      <td>Санкт-Петербург</td>\n",
       "      <td>18863.0</td>\n",
       "      <td>16028.0</td>\n",
       "      <td>1.0</td>\n",
       "      <td>482.0</td>\n",
       "      <td>2.0</td>\n",
       "      <td>755.0</td>\n",
       "      <td>NaN</td>\n",
       "    </tr>\n",
       "    <tr>\n",
       "      <th>1</th>\n",
       "      <td>7</td>\n",
       "      <td>3350000.0</td>\n",
       "      <td>40.4</td>\n",
       "      <td>2018-12-04T00:00:00</td>\n",
       "      <td>1</td>\n",
       "      <td>NaN</td>\n",
       "      <td>11.0</td>\n",
       "      <td>18.6</td>\n",
       "      <td>1</td>\n",
       "      <td>NaN</td>\n",
       "      <td>...</td>\n",
       "      <td>11.0</td>\n",
       "      <td>2.0</td>\n",
       "      <td>посёлок Шушары</td>\n",
       "      <td>12817.0</td>\n",
       "      <td>18603.0</td>\n",
       "      <td>0.0</td>\n",
       "      <td>NaN</td>\n",
       "      <td>0.0</td>\n",
       "      <td>NaN</td>\n",
       "      <td>81.0</td>\n",
       "    </tr>\n",
       "    <tr>\n",
       "      <th>2</th>\n",
       "      <td>10</td>\n",
       "      <td>5196000.0</td>\n",
       "      <td>56.0</td>\n",
       "      <td>2015-08-20T00:00:00</td>\n",
       "      <td>2</td>\n",
       "      <td>NaN</td>\n",
       "      <td>5.0</td>\n",
       "      <td>34.3</td>\n",
       "      <td>4</td>\n",
       "      <td>NaN</td>\n",
       "      <td>...</td>\n",
       "      <td>8.3</td>\n",
       "      <td>0.0</td>\n",
       "      <td>Санкт-Петербург</td>\n",
       "      <td>21741.0</td>\n",
       "      <td>13933.0</td>\n",
       "      <td>1.0</td>\n",
       "      <td>90.0</td>\n",
       "      <td>2.0</td>\n",
       "      <td>574.0</td>\n",
       "      <td>558.0</td>\n",
       "    </tr>\n",
       "    <tr>\n",
       "      <th>3</th>\n",
       "      <td>0</td>\n",
       "      <td>64900000.0</td>\n",
       "      <td>159.0</td>\n",
       "      <td>2015-07-24T00:00:00</td>\n",
       "      <td>3</td>\n",
       "      <td>NaN</td>\n",
       "      <td>14.0</td>\n",
       "      <td>NaN</td>\n",
       "      <td>9</td>\n",
       "      <td>NaN</td>\n",
       "      <td>...</td>\n",
       "      <td>NaN</td>\n",
       "      <td>0.0</td>\n",
       "      <td>Санкт-Петербург</td>\n",
       "      <td>28098.0</td>\n",
       "      <td>6800.0</td>\n",
       "      <td>2.0</td>\n",
       "      <td>84.0</td>\n",
       "      <td>3.0</td>\n",
       "      <td>234.0</td>\n",
       "      <td>424.0</td>\n",
       "    </tr>\n",
       "    <tr>\n",
       "      <th>4</th>\n",
       "      <td>2</td>\n",
       "      <td>10000000.0</td>\n",
       "      <td>100.0</td>\n",
       "      <td>2018-06-19T00:00:00</td>\n",
       "      <td>2</td>\n",
       "      <td>3.03</td>\n",
       "      <td>14.0</td>\n",
       "      <td>32.0</td>\n",
       "      <td>13</td>\n",
       "      <td>NaN</td>\n",
       "      <td>...</td>\n",
       "      <td>41.0</td>\n",
       "      <td>NaN</td>\n",
       "      <td>Санкт-Петербург</td>\n",
       "      <td>31856.0</td>\n",
       "      <td>8098.0</td>\n",
       "      <td>2.0</td>\n",
       "      <td>112.0</td>\n",
       "      <td>1.0</td>\n",
       "      <td>48.0</td>\n",
       "      <td>121.0</td>\n",
       "    </tr>\n",
       "  </tbody>\n",
       "</table>\n",
       "<p>5 rows × 22 columns</p>\n",
       "</div>"
      ],
      "text/plain": [
       "   total_images  last_price  total_area first_day_exposition  rooms  \\\n",
       "0            20  13000000.0       108.0  2019-03-07T00:00:00      3   \n",
       "1             7   3350000.0        40.4  2018-12-04T00:00:00      1   \n",
       "2            10   5196000.0        56.0  2015-08-20T00:00:00      2   \n",
       "3             0  64900000.0       159.0  2015-07-24T00:00:00      3   \n",
       "4             2  10000000.0       100.0  2018-06-19T00:00:00      2   \n",
       "\n",
       "   ceiling_height  floors_total  living_area  floor is_apartment  ...  \\\n",
       "0            2.70          16.0         51.0      8          NaN  ...   \n",
       "1             NaN          11.0         18.6      1          NaN  ...   \n",
       "2             NaN           5.0         34.3      4          NaN  ...   \n",
       "3             NaN          14.0          NaN      9          NaN  ...   \n",
       "4            3.03          14.0         32.0     13          NaN  ...   \n",
       "\n",
       "   kitchen_area  balcony    locality_name  airports_nearest  \\\n",
       "0          25.0      NaN  Санкт-Петербург           18863.0   \n",
       "1          11.0      2.0   посёлок Шушары           12817.0   \n",
       "2           8.3      0.0  Санкт-Петербург           21741.0   \n",
       "3           NaN      0.0  Санкт-Петербург           28098.0   \n",
       "4          41.0      NaN  Санкт-Петербург           31856.0   \n",
       "\n",
       "  cityCenters_nearest  parks_around3000  parks_nearest  ponds_around3000  \\\n",
       "0             16028.0               1.0          482.0               2.0   \n",
       "1             18603.0               0.0            NaN               0.0   \n",
       "2             13933.0               1.0           90.0               2.0   \n",
       "3              6800.0               2.0           84.0               3.0   \n",
       "4              8098.0               2.0          112.0               1.0   \n",
       "\n",
       "   ponds_nearest  days_exposition  \n",
       "0          755.0              NaN  \n",
       "1            NaN             81.0  \n",
       "2          574.0            558.0  \n",
       "3          234.0            424.0  \n",
       "4           48.0            121.0  \n",
       "\n",
       "[5 rows x 22 columns]"
      ]
     },
     "execution_count": 4,
     "metadata": {},
     "output_type": "execute_result"
    }
   ],
   "source": [
    "data.info()\n",
    "data.head()"
   ]
  },
  {
   "cell_type": "markdown",
   "id": "53715a35",
   "metadata": {},
   "source": [
    "Дата сет сожержит 23 699 записи. В ряде столбцов присутсвуют пропущенные значения. Для столбца 'first_day_exposition' лучше изменить тип данных. "
   ]
  },
  {
   "cell_type": "markdown",
   "id": "15b6e6f9",
   "metadata": {},
   "source": [
    "## Предобработка данных"
   ]
  },
  {
   "cell_type": "markdown",
   "id": "d65836a1",
   "metadata": {},
   "source": [
    "Во-первых, поменяем тип данных в столбце 'first_day_exposition', чтобы было проще работать с датой и временем. "
   ]
  },
  {
   "cell_type": "code",
   "execution_count": 5,
   "id": "3fca2ed7",
   "metadata": {},
   "outputs": [],
   "source": [
    "data['first_day_exposition'] = pd.to_datetime(data['first_day_exposition'])"
   ]
  },
  {
   "cell_type": "markdown",
   "id": "f737ea02",
   "metadata": {},
   "source": [
    "Во-вторых, достаточно много пропущенных значений в столбце 'ceiling_height' (высота потолка). Есть данные только по 61% квартир. Кроме того, есть неправдоподобно маленькие и большие значения.\n",
    "Предположим, что нормальным является величина потолка от 2.2 до 3.5 метров. Посмотри, сколько квартир неудовлетворяют этому условию."
   ]
  },
  {
   "cell_type": "code",
   "execution_count": 6,
   "id": "2fdc3b0f",
   "metadata": {},
   "outputs": [
    {
     "data": {
      "text/plain": [
       "total_images            318\n",
       "last_price              318\n",
       "total_area              318\n",
       "first_day_exposition    318\n",
       "rooms                   318\n",
       "ceiling_height          318\n",
       "floors_total            318\n",
       "living_area             299\n",
       "floor                   318\n",
       "is_apartment             56\n",
       "studio                  318\n",
       "open_plan               318\n",
       "kitchen_area            292\n",
       "balcony                 133\n",
       "locality_name           316\n",
       "airports_nearest        284\n",
       "cityCenters_nearest     287\n",
       "parks_around3000        287\n",
       "parks_nearest           210\n",
       "ponds_around3000        287\n",
       "ponds_nearest           208\n",
       "days_exposition         248\n",
       "dtype: int64"
      ]
     },
     "execution_count": 6,
     "metadata": {},
     "output_type": "execute_result"
    }
   ],
   "source": [
    "data.query('ceiling_height < 2.2 or ceiling_height > 3.5').count()"
   ]
  },
  {
   "cell_type": "markdown",
   "id": "3edf3f96",
   "metadata": {},
   "source": [
    "Для выборки в 23 699 значенй 318 объектов - это менее 2%. Можем пропустить эти значения, они не сильно исказят наше исследования и попадают в диапозон статистической погрешности. Прокущенные значения в этом столбце заменим на средние. "
   ]
  },
  {
   "cell_type": "code",
   "execution_count": 7,
   "id": "40df1905",
   "metadata": {},
   "outputs": [],
   "source": [
    "ceiling_height_avg = data['ceiling_height'].mean()\n",
    "data['ceiling_height'] = data['ceiling_height'].fillna(value = ceiling_height_avg)"
   ]
  },
  {
   "cell_type": "markdown",
   "id": "e5d7f86b",
   "metadata": {},
   "source": [
    "В-третьих, пропущенные значения в столбце 'is_apartment' приведём к булевым."
   ]
  },
  {
   "cell_type": "code",
   "execution_count": 8,
   "id": "f1664c5c",
   "metadata": {},
   "outputs": [
    {
     "name": "stdout",
     "output_type": "stream",
     "text": [
      "<class 'pandas.core.frame.DataFrame'>\n",
      "RangeIndex: 23699 entries, 0 to 23698\n",
      "Data columns (total 22 columns):\n",
      " #   Column                Non-Null Count  Dtype         \n",
      "---  ------                --------------  -----         \n",
      " 0   total_images          23699 non-null  int64         \n",
      " 1   last_price            23699 non-null  float64       \n",
      " 2   total_area            23699 non-null  float64       \n",
      " 3   first_day_exposition  23699 non-null  datetime64[ns]\n",
      " 4   rooms                 23699 non-null  int64         \n",
      " 5   ceiling_height        23699 non-null  float64       \n",
      " 6   floors_total          23613 non-null  float64       \n",
      " 7   living_area           21796 non-null  float64       \n",
      " 8   floor                 23699 non-null  int64         \n",
      " 9   is_apartment          23699 non-null  bool          \n",
      " 10  studio                23699 non-null  bool          \n",
      " 11  open_plan             23699 non-null  bool          \n",
      " 12  kitchen_area          21421 non-null  float64       \n",
      " 13  balcony               12180 non-null  float64       \n",
      " 14  locality_name         23650 non-null  object        \n",
      " 15  airports_nearest      18157 non-null  float64       \n",
      " 16  cityCenters_nearest   18180 non-null  float64       \n",
      " 17  parks_around3000      18181 non-null  float64       \n",
      " 18  parks_nearest         8079 non-null   float64       \n",
      " 19  ponds_around3000      18181 non-null  float64       \n",
      " 20  ponds_nearest         9110 non-null   float64       \n",
      " 21  days_exposition       20518 non-null  float64       \n",
      "dtypes: bool(3), datetime64[ns](1), float64(14), int64(3), object(1)\n",
      "memory usage: 3.5+ MB\n"
     ]
    }
   ],
   "source": [
    "data['is_apartment'] = data['is_apartment'].fillna(value = False)   \n",
    "data.info()"
   ]
  },
  {
   "cell_type": "markdown",
   "id": "8dea820b",
   "metadata": {},
   "source": [
    "В-четвёртых, заменим пропущенные значения в столбце 'balcony' на целочисленные. Если стоит пропуск, логично предположить, что балкона нет."
   ]
  },
  {
   "cell_type": "code",
   "execution_count": 9,
   "id": "3d549d07",
   "metadata": {},
   "outputs": [],
   "source": [
    "data['balcony'] = data['balcony'].fillna(0)  "
   ]
  },
  {
   "cell_type": "markdown",
   "id": "d778397c",
   "metadata": {},
   "source": [
    "В-пятых, поменяем тип данных в столбце 'last_price'.\n"
   ]
  },
  {
   "cell_type": "code",
   "execution_count": 10,
   "id": "59b49990",
   "metadata": {},
   "outputs": [],
   "source": [
    "data['last_price'] = data['last_price'].astype('int')"
   ]
  },
  {
   "cell_type": "markdown",
   "id": "067c177e",
   "metadata": {},
   "source": [
    "В-шестых, поменяем значения в столбце 'days_exposition' на целочисленный и заполним пропуски. \n"
   ]
  },
  {
   "cell_type": "code",
   "execution_count": 11,
   "id": "9d36e5d4",
   "metadata": {},
   "outputs": [],
   "source": [
    "data['days_exposition'] = data['days_exposition'].fillna(0).astype('int')"
   ]
  },
  {
   "cell_type": "markdown",
   "id": "268c47eb",
   "metadata": {},
   "source": [
    "Пропущенные значения в столбце 'floors_total' заполнять не будем. Можно предположить, что они были не указаны, потому что значение в столбце 'floor'  является последним. \n",
    "Пропущенные значения в столбце 'living_area' также зполнять не будем. Это может сказаться на наших дальнейших вычеслениях ,необходимых для проведения исследования в разделах №№ 3 и 4. Тоже самое справедливо и для отсуствующих значений в столбце 'kitchen_area'.\n",
    "Мы также не будем заполнять пропуски для столбцов, характеризующих расстояние до различных объектов. Заполнять эти пропуски методом mean() было бы не правильно, т.к. это может сильно исказить полученные данные."
   ]
  },
  {
   "cell_type": "markdown",
   "id": "87b77a7c",
   "metadata": {},
   "source": [
    "__Вывод__\n",
    "\n",
    "- Пропущенные и искаженные значения могли появится в следствии человеческого фактора.\n",
    "\n",
    "- Некоторые данные, напрмер \"расстояние до аэропорта\" и \"количество балконов\" могли быть не заполнены в виду их неактуальности.\n",
    "\n",
    "- Пропуски в других столбцах могли стать следствием потери информации в результате технического сбоя, например, при выгрузке данных. "
   ]
  },
  {
   "cell_type": "markdown",
   "id": "91c4f559",
   "metadata": {},
   "source": [
    "## Расчёты и добавление результатов в таблицу"
   ]
  },
  {
   "cell_type": "markdown",
   "id": "70fdd291",
   "metadata": {},
   "source": [
    "Добавим в таблицу столбец с расчётом по стоимости квадратного метра недвижимости. Для это в новый столбец запишим отношение в данных в столбце 'last_price' к 'total_area' "
   ]
  },
  {
   "cell_type": "code",
   "execution_count": 12,
   "id": "3195f488",
   "metadata": {},
   "outputs": [],
   "source": [
    "data['square_metre_price'] = data['last_price'] / data['total_area']"
   ]
  },
  {
   "cell_type": "markdown",
   "id": "d0da2b04",
   "metadata": {},
   "source": [
    "Добавим в таблицу столбцы с днём, месяцем и годом публикации."
   ]
  },
  {
   "cell_type": "code",
   "execution_count": 13,
   "id": "2790ea9c",
   "metadata": {},
   "outputs": [],
   "source": [
    "data['day'] = data['first_day_exposition'].dt.weekday\n",
    "data['month'] = data['first_day_exposition'].dt.month\n",
    "data['year'] = data['first_day_exposition'].dt.year"
   ]
  },
  {
   "cell_type": "markdown",
   "id": "ae641ec8",
   "metadata": {},
   "source": [
    "Добавим в датафрейм индикатор этажей. Для этого напишим функцию, которая будет присваивать значения: 'Первый','Последний', 'Другой'. "
   ]
  },
  {
   "cell_type": "code",
   "execution_count": 14,
   "id": "6e55b956",
   "metadata": {},
   "outputs": [],
   "source": [
    "def total_floor_category(data):\n",
    "    floor = data['floor']\n",
    "    if floor == 1:\n",
    "        return 'Первый'\n",
    "    if floor == data['floors_total']:\n",
    "        return 'Последний'\n",
    "    else:\n",
    "        return 'Другой'\n",
    "\n",
    "data['floor_category'] = data.apply(total_floor_category, axis=1)"
   ]
  },
  {
   "cell_type": "markdown",
   "id": "860531b9",
   "metadata": {},
   "source": [
    "Посчитаем отношение жилой площади к общей и кухни к общей. Добавим эти результаты в датафрейм."
   ]
  },
  {
   "cell_type": "code",
   "execution_count": 15,
   "id": "faf9ba87",
   "metadata": {},
   "outputs": [],
   "source": [
    "data['living_space_ratio'] = data['living_area'] / data['total_area']\n",
    "data['kithcen_space_ratio'] = data['kitchen_area'] / data['total_area']"
   ]
  },
  {
   "cell_type": "markdown",
   "id": "b70a9114",
   "metadata": {},
   "source": [
    "__Вывод__\n",
    "\n",
    "В датафрейм добавлены значения, которые понадобятся нам в дальнейщем исследовании."
   ]
  },
  {
   "cell_type": "markdown",
   "id": "db1630d0",
   "metadata": {},
   "source": [
    "## Исследовательский анализ данных"
   ]
  },
  {
   "cell_type": "markdown",
   "id": "e996d46e",
   "metadata": {},
   "source": [
    "1. Изучим следующие параметры из датафрейма: площадь, цена, число комнат, высота потолков. Для наглядности составим гистограмму для каждого параметра."
   ]
  },
  {
   "cell_type": "code",
   "execution_count": 16,
   "id": "b802e348",
   "metadata": {},
   "outputs": [
    {
     "data": {
      "text/plain": [
       "count    23699.000000\n",
       "mean        60.348651\n",
       "std         35.654083\n",
       "min         12.000000\n",
       "25%         40.000000\n",
       "50%         52.000000\n",
       "75%         69.900000\n",
       "max        900.000000\n",
       "Name: total_area, dtype: float64"
      ]
     },
     "execution_count": 16,
     "metadata": {},
     "output_type": "execute_result"
    },
    {
     "data": {
      "image/png": "[encoded data removed]",
      "text/plain": [
       "<Figure size 360x216 with 1 Axes>"
      ]
     },
     "metadata": {
      "needs_background": "light"
     },
     "output_type": "display_data"
    }
   ],
   "source": [
    "data.plot(y = 'total_area', kind='hist', bins=100, grid=True, figsize=(5,3), range=(0,1000))\n",
    "data['total_area'].describe()"
   ]
  },
  {
   "cell_type": "markdown",
   "id": "e31595bf",
   "metadata": {},
   "source": [
    "__Площадь / total_area__\n",
    "\n",
    "Среднее значение и второй квартиль имеют близкие значения. Показатель стандартного отклонения достаточно высокий. Это может быть объянено наличием аномальных - очень больших или очень маленьких, по отношению к средней величине - значений. Если учеть, что речь идёт о рынке недвижимости, где могут продаваться и комнаты в коммунальных квартирах и отдельные дома, то, возможно,  такие отклонения имеют место быть. Дальнейшие исследования покажут... "
   ]
  },
  {
   "cell_type": "code",
   "execution_count": 17,
   "id": "1e6c911a",
   "metadata": {},
   "outputs": [
    {
     "data": {
      "text/plain": [
       "count    2.369900e+04\n",
       "mean     6.541549e+06\n",
       "std      1.088701e+07\n",
       "min      1.219000e+04\n",
       "25%      3.400000e+06\n",
       "50%      4.650000e+06\n",
       "75%      6.800000e+06\n",
       "max      7.630000e+08\n",
       "Name: last_price, dtype: float64"
      ]
     },
     "execution_count": 17,
     "metadata": {},
     "output_type": "execute_result"
    },
    {
     "data": {
      "image/png": "[encoded data removed]",
      "text/plain": [
       "<Figure size 360x216 with 1 Axes>"
      ]
     },
     "metadata": {
      "needs_background": "light"
     },
     "output_type": "display_data"
    }
   ],
   "source": [
    "data.plot(y = 'last_price', kind='hist', bins=30, grid=True, figsize=(5,3), range=(0,8000000))\n",
    "data['last_price'].describe()"
   ]
  },
  {
   "cell_type": "markdown",
   "id": "bb78f879",
   "metadata": {},
   "source": [
    "__Цена продажи / last_price__\n",
    "\n",
    "На графике видими пиковое значение на отметке около 4 миллионов. Это приблизительно совпадает со значениями второго квартиля. Видим достаточно высокое значение стандартного отклонения, что является свидетельством очень большого разброса значений. "
   ]
  },
  {
   "cell_type": "code",
   "execution_count": 18,
   "id": "abbe881e",
   "metadata": {},
   "outputs": [
    {
     "data": {
      "text/plain": [
       "count    23699.000000\n",
       "mean         2.070636\n",
       "std          1.078405\n",
       "min          0.000000\n",
       "25%          1.000000\n",
       "50%          2.000000\n",
       "75%          3.000000\n",
       "max         19.000000\n",
       "Name: rooms, dtype: float64"
      ]
     },
     "execution_count": 18,
     "metadata": {},
     "output_type": "execute_result"
    },
    {
     "data": {
      "image/png": "[encoded data removed]",
      "text/plain": [
       "<Figure size 720x360 with 1 Axes>"
      ]
     },
     "metadata": {
      "needs_background": "light"
     },
     "output_type": "display_data"
    }
   ],
   "source": [
    "data.plot(y = 'rooms', kind='hist', bins=30, grid=True, figsize=(10,5))\n",
    "data['rooms'].describe()"
   ]
  },
  {
   "cell_type": "markdown",
   "id": "1db1132c",
   "metadata": {},
   "source": [
    "__Число комнат / rooms__\n",
    "\n",
    "резульатыт выглядят достаточно правдоподобными: большинстов объектов недвижимости в выборке - это 1-о,2-х и 3-х комнатные квартиры. \n"
   ]
  },
  {
   "cell_type": "code",
   "execution_count": 19,
   "id": "74813ae3",
   "metadata": {},
   "outputs": [
    {
     "data": {
      "text/plain": [
       "count    23699.000000\n",
       "mean         2.771499\n",
       "std          0.986523\n",
       "min          1.000000\n",
       "25%          2.600000\n",
       "50%          2.771499\n",
       "75%          2.771499\n",
       "max        100.000000\n",
       "Name: ceiling_height, dtype: float64"
      ]
     },
     "execution_count": 19,
     "metadata": {},
     "output_type": "execute_result"
    },
    {
     "data": {
      "image/png": "[encoded data removed]",
      "text/plain": [
       "<Figure size 360x216 with 1 Axes>"
      ]
     },
     "metadata": {
      "needs_background": "light"
     },
     "output_type": "display_data"
    }
   ],
   "source": [
    "data.plot(y = 'ceiling_height', kind='hist', bins=50, grid=True, figsize=(5,3), range=(2,5))\n",
    "data['ceiling_height'].describe()"
   ]
  },
  {
   "cell_type": "markdown",
   "id": "59866dd9",
   "metadata": {},
   "source": [
    "__Высота потолка / ceiling_height__\n",
    "\n",
    "Как видим на графике, большинство квартир имеет высоту потолка 2,77 метра - это результат изменения нами пропущенных значений на стадии предоброботки данных. Однако эти значения, в целом, не кажутся аномальными, хотя в данных есть явно завышенные и заниженные значения."
   ]
  },
  {
   "cell_type": "markdown",
   "id": "af0c8d3c",
   "metadata": {},
   "source": [
    "__Вывод по гистограммам__\n",
    "\n",
    "Типичный объект недвижимости, согласно нашей выборке, это - двухкомнатная квартира площадью 60,3 квадратных метра, с пвысотой потолка в 2.77 метра и стоимсотью в 6,54 млн.\n"
   ]
  },
  {
   "cell_type": "markdown",
   "id": "9d7fffc3",
   "metadata": {},
   "source": [
    "2. Далее расчитаем среднее время продажи квартиры и составим гистограмму."
   ]
  },
  {
   "cell_type": "code",
   "execution_count": 20,
   "id": "e521400a",
   "metadata": {},
   "outputs": [
    {
     "data": {
      "text/plain": [
       "count    23699.000000\n",
       "mean       156.608844\n",
       "std        213.546873\n",
       "min          0.000000\n",
       "25%         22.000000\n",
       "50%         74.000000\n",
       "75%        199.000000\n",
       "max       1580.000000\n",
       "Name: days_exposition, dtype: float64"
      ]
     },
     "execution_count": 20,
     "metadata": {},
     "output_type": "execute_result"
    },
    {
     "data": {
      "image/png": "[encoded data removed]",
      "text/plain": [
       "<Figure size 720x216 with 1 Axes>"
      ]
     },
     "metadata": {
      "needs_background": "light"
     },
     "output_type": "display_data"
    }
   ],
   "source": [
    "data.plot(y = 'days_exposition', kind='hist', bins=100, grid=True, figsize=(10,3), range=(0,200))\n",
    "data['days_exposition'].describe()"
   ]
  },
  {
   "cell_type": "markdown",
   "id": "690a1498",
   "metadata": {},
   "source": [
    "Наблюдаем аномально высокие значения на 45, 60 и 90 день. Сомнительно, что квартиры продаются в такой пропорции на 45, 60 или 90 день с момента публикации объявлений. Возможно, это связано с како-либо спецификой процесса продаж. Например, с со снятием объявления или с публикацией нового обявления со сниженной ценой. Кроме того, уберём значения, которым мы присвоили значение \"0\". \n",
    "В идеале, нужно было бы уточнить эту специфику у владельца датафрейма (заказчика)."
   ]
  },
  {
   "cell_type": "code",
   "execution_count": 21,
   "id": "929c25e1",
   "metadata": {},
   "outputs": [
    {
     "data": {
      "text/plain": [
       "total_images            880\n",
       "last_price              880\n",
       "total_area              880\n",
       "first_day_exposition    880\n",
       "rooms                   880\n",
       "ceiling_height          880\n",
       "floors_total            880\n",
       "living_area             546\n",
       "floor                   880\n",
       "is_apartment            880\n",
       "studio                  880\n",
       "open_plan               880\n",
       "kitchen_area            540\n",
       "balcony                 880\n",
       "locality_name           879\n",
       "airports_nearest        428\n",
       "cityCenters_nearest     428\n",
       "parks_around3000        428\n",
       "parks_nearest           151\n",
       "ponds_around3000        428\n",
       "ponds_nearest           201\n",
       "days_exposition         880\n",
       "square_metre_price      880\n",
       "day                     880\n",
       "month                   880\n",
       "year                    880\n",
       "floor_category          880\n",
       "living_space_ratio      546\n",
       "kithcen_space_ratio     540\n",
       "dtype: int64"
      ]
     },
     "execution_count": 21,
     "metadata": {},
     "output_type": "execute_result"
    }
   ],
   "source": [
    "data[data['days_exposition'] == 45].count()"
   ]
  },
  {
   "cell_type": "code",
   "execution_count": 22,
   "id": "2d818c38",
   "metadata": {},
   "outputs": [
    {
     "data": {
      "text/plain": [
       "total_images            538\n",
       "last_price              538\n",
       "total_area              538\n",
       "first_day_exposition    538\n",
       "rooms                   538\n",
       "ceiling_height          538\n",
       "floors_total            538\n",
       "living_area             350\n",
       "floor                   538\n",
       "is_apartment            538\n",
       "studio                  538\n",
       "open_plan               538\n",
       "kitchen_area            359\n",
       "balcony                 538\n",
       "locality_name           538\n",
       "airports_nearest        464\n",
       "cityCenters_nearest     465\n",
       "parks_around3000        465\n",
       "parks_nearest           184\n",
       "ponds_around3000        465\n",
       "ponds_nearest           231\n",
       "days_exposition         538\n",
       "square_metre_price      538\n",
       "day                     538\n",
       "month                   538\n",
       "year                    538\n",
       "floor_category          538\n",
       "living_space_ratio      350\n",
       "kithcen_space_ratio     359\n",
       "dtype: int64"
      ]
     },
     "execution_count": 22,
     "metadata": {},
     "output_type": "execute_result"
    }
   ],
   "source": [
    "data[data['days_exposition'] == 60].count()"
   ]
  },
  {
   "cell_type": "code",
   "execution_count": 23,
   "id": "d63092bc",
   "metadata": {},
   "outputs": [
    {
     "data": {
      "text/plain": [
       "total_images            204\n",
       "last_price              204\n",
       "total_area              204\n",
       "first_day_exposition    204\n",
       "rooms                   204\n",
       "ceiling_height          204\n",
       "floors_total            201\n",
       "living_area             140\n",
       "floor                   204\n",
       "is_apartment            204\n",
       "studio                  204\n",
       "open_plan               204\n",
       "kitchen_area            147\n",
       "balcony                 204\n",
       "locality_name           203\n",
       "airports_nearest        188\n",
       "cityCenters_nearest     189\n",
       "parks_around3000        189\n",
       "parks_nearest           114\n",
       "ponds_around3000        189\n",
       "ponds_nearest           117\n",
       "days_exposition         204\n",
       "square_metre_price      204\n",
       "day                     204\n",
       "month                   204\n",
       "year                    204\n",
       "floor_category          204\n",
       "living_space_ratio      140\n",
       "kithcen_space_ratio     147\n",
       "dtype: int64"
      ]
     },
     "execution_count": 23,
     "metadata": {},
     "output_type": "execute_result"
    }
   ],
   "source": [
    "data[data['days_exposition'] == 90].count()"
   ]
  },
  {
   "cell_type": "markdown",
   "id": "e3afda2c",
   "metadata": {},
   "source": [
    "Выбросы в сумме составляют 6.8% от вех результатов."
   ]
  },
  {
   "cell_type": "markdown",
   "id": "6c91a8fe",
   "metadata": {},
   "source": [
    "3. Уберём аномальные значения и посомтрим, как изменится распределение. "
   ]
  },
  {
   "cell_type": "code",
   "execution_count": 24,
   "id": "19d2de8e",
   "metadata": {},
   "outputs": [],
   "source": [
    "good_data = data.query('days_exposition != 60 and days_exposition != 0 and days_exposition != 45 and days_exposition != 90')\n"
   ]
  },
  {
   "cell_type": "code",
   "execution_count": 25,
   "id": "3f4b3b81",
   "metadata": {},
   "outputs": [
    {
     "data": {
      "text/plain": [
       "count    18896.000000\n",
       "mean       191.640188\n",
       "std        225.707795\n",
       "min          1.000000\n",
       "25%         41.000000\n",
       "50%        110.000000\n",
       "75%        252.000000\n",
       "max       1580.000000\n",
       "Name: days_exposition, dtype: float64"
      ]
     },
     "execution_count": 25,
     "metadata": {},
     "output_type": "execute_result"
    },
    {
     "data": {
      "image/png": "[encoded data removed]",
      "text/plain": [
       "<Figure size 720x216 with 1 Axes>"
      ]
     },
     "metadata": {
      "needs_background": "light"
     },
     "output_type": "display_data"
    }
   ],
   "source": [
    "good_data.plot(y='days_exposition', kind='hist', bins=100, grid=True, figsize=(10,3), range=(0,200))\n",
    "good_data['days_exposition'].describe()"
   ]
  },
  {
   "cell_type": "markdown",
   "id": "9784ab9b",
   "metadata": {},
   "source": [
    "__Время продажи__\n",
    "\n",
    "Распределение соотвествует кривой Пуассона. В среднем квартиры продаются 109 дней. Если сделка была совершенна не позднее 33 дней с момента публикации объявления, то её можно считать очень быстрой. Если позже 165 дня - то аномально долгой. "
   ]
  },
  {
   "cell_type": "markdown",
   "id": "eb171c8a",
   "metadata": {},
   "source": [
    "4. Определим, какие факторы больше всего влияют на стоимость неввижимости. \n",
    "\n",
    "Для этого найдём коэффициент корреляции, запшем в отдельную переменную и выведем на экран по столбцу 'square_metre_price' в порядке убывания."
   ]
  },
  {
   "cell_type": "code",
   "execution_count": 26,
   "id": "4ace2f4c",
   "metadata": {},
   "outputs": [
    {
     "data": {
      "text/plain": [
       "square_metre_price     1.000000\n",
       "last_price             0.739906\n",
       "kitchen_area           0.392821\n",
       "total_area             0.309880\n",
       "living_area            0.229201\n",
       "ponds_around3000       0.179627\n",
       "parks_around3000       0.171087\n",
       "kithcen_space_ratio    0.159407\n",
       "floors_total           0.143467\n",
       "floor                  0.128338\n",
       "total_images           0.119113\n",
       "ceiling_height         0.106335\n",
       "rooms                  0.054711\n",
       "is_apartment           0.044029\n",
       "days_exposition        0.042078\n",
       "balcony                0.026492\n",
       "studio                 0.018617\n",
       "parks_nearest          0.012024\n",
       "open_plan              0.005734\n",
       "month                  0.001112\n",
       "day                   -0.003966\n",
       "year                  -0.004969\n",
       "airports_nearest      -0.041207\n",
       "ponds_nearest         -0.091908\n",
       "living_space_ratio    -0.145962\n",
       "cityCenters_nearest   -0.318574\n",
       "Name: square_metre_price, dtype: float64"
      ]
     },
     "execution_count": 26,
     "metadata": {},
     "output_type": "execute_result"
    }
   ],
   "source": [
    "corr_data = good_data.corr()\n",
    "corr_data['square_metre_price'].sort_values(ascending=False)"
   ]
  },
  {
   "cell_type": "markdown",
   "id": "7b26155d",
   "metadata": {},
   "source": [
    "__Интерпретация значений корреляции__\n",
    "\n",
    "- Видим высокую прямую корреляцию между стоимостью квадратного метра и стоимостью объекта. В дорогих объектах дорогой квадрат. Логично...\n",
    "\n",
    "- Умеренная прямая корреляция наблюдается между площадью кухни и общей площадью, с одной стороны, и стоимостью квадрата с другой. Чем больше площадь(общая или кухни), тем выше цена.\n",
    "\n",
    "- Умеренная обратная корреляция существует между стоимостью квадрата и близостью центра города. Чем меньше расстояние о центра, тем выше стоимость квадратного метра. \n",
    "\n",
    "- Слабая прямая коррелция также наблюдается с такими характеристиками, как: жилая площадь, наличие в радиусе 3 км парков и прудов, отношением площади кухни к площади всего объекта, этажностью дома, этажом объекта, количеством изображений, высотой потолков.\n",
    "\n",
    "- Слабая обратная корреляция наблюдается между стоимостью квадратного метра и отношением жилой площади к площади всей квартиры."
   ]
  },
  {
   "cell_type": "markdown",
   "id": "68983ec6",
   "metadata": {},
   "source": [
    "Построим графики для ключевых параметров. \n",
    "Для отношения площади объекта к стоимости квадратного метра."
   ]
  },
  {
   "cell_type": "code",
   "execution_count": 27,
   "id": "1e458331",
   "metadata": {},
   "outputs": [
    {
     "data": {
      "image/png": "[encoded data removed]",
      "text/plain": [
       "<Figure size 432x288 with 1 Axes>"
      ]
     },
     "metadata": {
      "needs_background": "light"
     },
     "output_type": "display_data"
    }
   ],
   "source": [
    "pivot_total_area = data.pivot_table(index='total_area', values='square_metre_price', aggfunc=['count', 'mean', 'median'])\n",
    "pivot_total_area.columns = ['count', 'mean', 'median']\n",
    "pivot_total_area.plot(y='median', style= 'o', alpha = 0.09);"
   ]
  },
  {
   "cell_type": "markdown",
   "id": "df4b5018",
   "metadata": {},
   "source": [
    "График подтверждает, что зависимость, скорее, слабая."
   ]
  },
  {
   "cell_type": "markdown",
   "id": "1e38e041",
   "metadata": {},
   "source": [
    "Составим график для иллюстрации взаимосвязи стоимости квадртаного метра и количества комнат. Поскольку объектов мнго, количество комнат у них разное, учтём только те варианты, которые будут встречаться в сводной таблице свыше 50 раз."
   ]
  },
  {
   "cell_type": "code",
   "execution_count": 28,
   "id": "f9460450",
   "metadata": {},
   "outputs": [
    {
     "data": {
      "image/png": "[encoded data removed]",
      "text/plain": [
       "<Figure size 432x288 with 1 Axes>"
      ]
     },
     "metadata": {
      "needs_background": "light"
     },
     "output_type": "display_data"
    }
   ],
   "source": [
    "pivot_rooms = data.pivot_table(index='rooms', values='square_metre_price', aggfunc=['count', 'mean', 'median'])\n",
    "pivot_rooms.columns = ['count', 'mean', 'median']\n",
    "pivot_rooms.query('count > 50').plot(y='median');"
   ]
  },
  {
   "cell_type": "markdown",
   "id": "4efa2847",
   "metadata": {},
   "source": [
    "Наблюдаем на графике интересную картину. Стоимость квадрата в однушках одна из самых высоких, почти как в \"элитных\" квартирах.\n",
    "\n",
    "В \"трёшках\" самый дешёвый квадрат.\n",
    "\n",
    "Стоимость квадрата в объектах с 4-мя и более комнатами начинает расти. "
   ]
  },
  {
   "cell_type": "markdown",
   "id": "88568951",
   "metadata": {},
   "source": [
    "Посмотрим на графике как меняется стоимость квадрата в зависимости удалённости от центра."
   ]
  },
  {
   "cell_type": "code",
   "execution_count": 29,
   "id": "b15b9fd1",
   "metadata": {},
   "outputs": [
    {
     "data": {
      "image/png": "[encoded data removed]",
      "text/plain": [
       "<Figure size 432x288 with 1 Axes>"
      ]
     },
     "metadata": {
      "needs_background": "light"
     },
     "output_type": "display_data"
    }
   ],
   "source": [
    "data.plot(x='cityCenters_nearest', y='square_metre_price', kind='scatter', alpha=0.09);"
   ]
  },
  {
   "cell_type": "markdown",
   "id": "4c6921f0",
   "metadata": {},
   "source": [
    "На графике видим обратную слабую зависимость стоимости квадрата по мере продвижения к центру. "
   ]
  },
  {
   "cell_type": "markdown",
   "id": "6f7c5f2c",
   "metadata": {},
   "source": [
    "Отдельно определим, как на стоимость недвижимости влияет этажность. "
   ]
  },
  {
   "cell_type": "code",
   "execution_count": 30,
   "id": "10dbfab0",
   "metadata": {},
   "outputs": [
    {
     "data": {
      "text/html": [
       "<div>\n",
       "<style scoped>\n",
       "    .dataframe tbody tr th:only-of-type {\n",
       "        vertical-align: middle;\n",
       "    }\n",
       "\n",
       "    .dataframe tbody tr th {\n",
       "        vertical-align: top;\n",
       "    }\n",
       "\n",
       "    .dataframe thead tr th {\n",
       "        text-align: left;\n",
       "    }\n",
       "\n",
       "    .dataframe thead tr:last-of-type th {\n",
       "        text-align: right;\n",
       "    }\n",
       "</style>\n",
       "<table border=\"1\" class=\"dataframe\">\n",
       "  <thead>\n",
       "    <tr>\n",
       "      <th></th>\n",
       "      <th>count</th>\n",
       "      <th>median</th>\n",
       "    </tr>\n",
       "    <tr>\n",
       "      <th></th>\n",
       "      <th>square_metre_price</th>\n",
       "      <th>square_metre_price</th>\n",
       "    </tr>\n",
       "    <tr>\n",
       "      <th>floor_category</th>\n",
       "      <th></th>\n",
       "      <th></th>\n",
       "    </tr>\n",
       "  </thead>\n",
       "  <tbody>\n",
       "    <tr>\n",
       "      <th>Другой</th>\n",
       "      <td>14043</td>\n",
       "      <td>97222.222222</td>\n",
       "    </tr>\n",
       "    <tr>\n",
       "      <th>Первый</th>\n",
       "      <td>2256</td>\n",
       "      <td>80998.442368</td>\n",
       "    </tr>\n",
       "    <tr>\n",
       "      <th>Последний</th>\n",
       "      <td>2597</td>\n",
       "      <td>88630.806846</td>\n",
       "    </tr>\n",
       "  </tbody>\n",
       "</table>\n",
       "</div>"
      ],
      "text/plain": [
       "                            count             median\n",
       "               square_metre_price square_metre_price\n",
       "floor_category                                      \n",
       "Другой                      14043       97222.222222\n",
       "Первый                       2256       80998.442368\n",
       "Последний                    2597       88630.806846"
      ]
     },
     "execution_count": 30,
     "metadata": {},
     "output_type": "execute_result"
    },
    {
     "data": {
      "image/png": "[encoded data removed]",
      "text/plain": [
       "<Figure size 432x288 with 1 Axes>"
      ]
     },
     "metadata": {
      "needs_background": "light"
     },
     "output_type": "display_data"
    }
   ],
   "source": [
    "pivot_floor_category = good_data.pivot_table(index = 'floor_category', values = 'square_metre_price', aggfunc = ['count','median'])\n",
    "pivot_floor_category.plot(y='median')\n",
    "pivot_floor_category"
   ]
  },
  {
   "cell_type": "markdown",
   "id": "b7897c88",
   "metadata": {},
   "source": [
    "Теперь посчитаем взаимосвязь стоимости квадратного метра и времени подачи заявления: для дня недели, месяца и года."
   ]
  },
  {
   "cell_type": "code",
   "execution_count": 31,
   "id": "6c8666aa",
   "metadata": {},
   "outputs": [
    {
     "data": {
      "text/html": [
       "<div>\n",
       "<style scoped>\n",
       "    .dataframe tbody tr th:only-of-type {\n",
       "        vertical-align: middle;\n",
       "    }\n",
       "\n",
       "    .dataframe tbody tr th {\n",
       "        vertical-align: top;\n",
       "    }\n",
       "\n",
       "    .dataframe thead tr th {\n",
       "        text-align: left;\n",
       "    }\n",
       "\n",
       "    .dataframe thead tr:last-of-type th {\n",
       "        text-align: right;\n",
       "    }\n",
       "</style>\n",
       "<table border=\"1\" class=\"dataframe\">\n",
       "  <thead>\n",
       "    <tr>\n",
       "      <th></th>\n",
       "      <th>count</th>\n",
       "      <th>median</th>\n",
       "    </tr>\n",
       "    <tr>\n",
       "      <th></th>\n",
       "      <th>square_metre_price</th>\n",
       "      <th>square_metre_price</th>\n",
       "    </tr>\n",
       "    <tr>\n",
       "      <th>day</th>\n",
       "      <th></th>\n",
       "      <th></th>\n",
       "    </tr>\n",
       "  </thead>\n",
       "  <tbody>\n",
       "    <tr>\n",
       "      <th>0</th>\n",
       "      <td>2820</td>\n",
       "      <td>94282.687651</td>\n",
       "    </tr>\n",
       "    <tr>\n",
       "      <th>1</th>\n",
       "      <td>3356</td>\n",
       "      <td>94875.448557</td>\n",
       "    </tr>\n",
       "    <tr>\n",
       "      <th>2</th>\n",
       "      <td>3136</td>\n",
       "      <td>94852.579920</td>\n",
       "    </tr>\n",
       "    <tr>\n",
       "      <th>3</th>\n",
       "      <td>3508</td>\n",
       "      <td>94805.194805</td>\n",
       "    </tr>\n",
       "    <tr>\n",
       "      <th>4</th>\n",
       "      <td>3265</td>\n",
       "      <td>94102.564103</td>\n",
       "    </tr>\n",
       "    <tr>\n",
       "      <th>5</th>\n",
       "      <td>1498</td>\n",
       "      <td>93310.897215</td>\n",
       "    </tr>\n",
       "    <tr>\n",
       "      <th>6</th>\n",
       "      <td>1313</td>\n",
       "      <td>93333.333333</td>\n",
       "    </tr>\n",
       "  </tbody>\n",
       "</table>\n",
       "</div>"
      ],
      "text/plain": [
       "                 count             median\n",
       "    square_metre_price square_metre_price\n",
       "day                                      \n",
       "0                 2820       94282.687651\n",
       "1                 3356       94875.448557\n",
       "2                 3136       94852.579920\n",
       "3                 3508       94805.194805\n",
       "4                 3265       94102.564103\n",
       "5                 1498       93310.897215\n",
       "6                 1313       93333.333333"
      ]
     },
     "execution_count": 31,
     "metadata": {},
     "output_type": "execute_result"
    },
    {
     "data": {
      "image/png": "[encoded data removed]",
      "text/plain": [
       "<Figure size 432x288 with 1 Axes>"
      ]
     },
     "metadata": {
      "needs_background": "light"
     },
     "output_type": "display_data"
    }
   ],
   "source": [
    "pivot_day = good_data.pivot_table(index = 'day', values = 'square_metre_price', aggfunc = ['count','median'])\n",
    "pivot_day.plot(y='median')\n",
    "pivot_day"
   ]
  },
  {
   "cell_type": "code",
   "execution_count": 32,
   "id": "3f0effe1",
   "metadata": {},
   "outputs": [
    {
     "data": {
      "text/html": [
       "<div>\n",
       "<style scoped>\n",
       "    .dataframe tbody tr th:only-of-type {\n",
       "        vertical-align: middle;\n",
       "    }\n",
       "\n",
       "    .dataframe tbody tr th {\n",
       "        vertical-align: top;\n",
       "    }\n",
       "\n",
       "    .dataframe thead tr th {\n",
       "        text-align: left;\n",
       "    }\n",
       "\n",
       "    .dataframe thead tr:last-of-type th {\n",
       "        text-align: right;\n",
       "    }\n",
       "</style>\n",
       "<table border=\"1\" class=\"dataframe\">\n",
       "  <thead>\n",
       "    <tr>\n",
       "      <th></th>\n",
       "      <th>count</th>\n",
       "      <th>median</th>\n",
       "    </tr>\n",
       "    <tr>\n",
       "      <th></th>\n",
       "      <th>square_metre_price</th>\n",
       "      <th>square_metre_price</th>\n",
       "    </tr>\n",
       "    <tr>\n",
       "      <th>month</th>\n",
       "      <th></th>\n",
       "      <th></th>\n",
       "    </tr>\n",
       "  </thead>\n",
       "  <tbody>\n",
       "    <tr>\n",
       "      <th>1</th>\n",
       "      <td>1141</td>\n",
       "      <td>95454.545455</td>\n",
       "    </tr>\n",
       "    <tr>\n",
       "      <th>2</th>\n",
       "      <td>2055</td>\n",
       "      <td>94680.851064</td>\n",
       "    </tr>\n",
       "    <tr>\n",
       "      <th>3</th>\n",
       "      <td>1837</td>\n",
       "      <td>93600.000000</td>\n",
       "    </tr>\n",
       "    <tr>\n",
       "      <th>4</th>\n",
       "      <td>1442</td>\n",
       "      <td>93198.096001</td>\n",
       "    </tr>\n",
       "    <tr>\n",
       "      <th>5</th>\n",
       "      <td>1066</td>\n",
       "      <td>93317.757009</td>\n",
       "    </tr>\n",
       "    <tr>\n",
       "      <th>6</th>\n",
       "      <td>1544</td>\n",
       "      <td>93033.367037</td>\n",
       "    </tr>\n",
       "    <tr>\n",
       "      <th>7</th>\n",
       "      <td>1427</td>\n",
       "      <td>94117.647059</td>\n",
       "    </tr>\n",
       "    <tr>\n",
       "      <th>8</th>\n",
       "      <td>1500</td>\n",
       "      <td>95801.093067</td>\n",
       "    </tr>\n",
       "    <tr>\n",
       "      <th>9</th>\n",
       "      <td>1732</td>\n",
       "      <td>95573.847879</td>\n",
       "    </tr>\n",
       "    <tr>\n",
       "      <th>10</th>\n",
       "      <td>1841</td>\n",
       "      <td>94189.189189</td>\n",
       "    </tr>\n",
       "    <tr>\n",
       "      <th>11</th>\n",
       "      <td>2021</td>\n",
       "      <td>95000.000000</td>\n",
       "    </tr>\n",
       "    <tr>\n",
       "      <th>12</th>\n",
       "      <td>1290</td>\n",
       "      <td>93619.129685</td>\n",
       "    </tr>\n",
       "  </tbody>\n",
       "</table>\n",
       "</div>"
      ],
      "text/plain": [
       "                   count             median\n",
       "      square_metre_price square_metre_price\n",
       "month                                      \n",
       "1                   1141       95454.545455\n",
       "2                   2055       94680.851064\n",
       "3                   1837       93600.000000\n",
       "4                   1442       93198.096001\n",
       "5                   1066       93317.757009\n",
       "6                   1544       93033.367037\n",
       "7                   1427       94117.647059\n",
       "8                   1500       95801.093067\n",
       "9                   1732       95573.847879\n",
       "10                  1841       94189.189189\n",
       "11                  2021       95000.000000\n",
       "12                  1290       93619.129685"
      ]
     },
     "execution_count": 32,
     "metadata": {},
     "output_type": "execute_result"
    },
    {
     "data": {
      "image/png": "[encoded data removed]",
      "text/plain": [
       "<Figure size 432x288 with 1 Axes>"
      ]
     },
     "metadata": {
      "needs_background": "light"
     },
     "output_type": "display_data"
    }
   ],
   "source": [
    "pivot_month = good_data.pivot_table(index = 'month', values = 'square_metre_price', aggfunc = ['count','median'])\n",
    "pivot_month.plot(y='median')\n",
    "pivot_month"
   ]
  },
  {
   "cell_type": "code",
   "execution_count": 33,
   "id": "ab67c676",
   "metadata": {},
   "outputs": [
    {
     "data": {
      "text/html": [
       "<div>\n",
       "<style scoped>\n",
       "    .dataframe tbody tr th:only-of-type {\n",
       "        vertical-align: middle;\n",
       "    }\n",
       "\n",
       "    .dataframe tbody tr th {\n",
       "        vertical-align: top;\n",
       "    }\n",
       "\n",
       "    .dataframe thead tr th {\n",
       "        text-align: left;\n",
       "    }\n",
       "\n",
       "    .dataframe thead tr:last-of-type th {\n",
       "        text-align: right;\n",
       "    }\n",
       "</style>\n",
       "<table border=\"1\" class=\"dataframe\">\n",
       "  <thead>\n",
       "    <tr>\n",
       "      <th></th>\n",
       "      <th>count</th>\n",
       "      <th>median</th>\n",
       "    </tr>\n",
       "    <tr>\n",
       "      <th></th>\n",
       "      <th>square_metre_price</th>\n",
       "      <th>square_metre_price</th>\n",
       "    </tr>\n",
       "    <tr>\n",
       "      <th>year</th>\n",
       "      <th></th>\n",
       "      <th></th>\n",
       "    </tr>\n",
       "  </thead>\n",
       "  <tbody>\n",
       "    <tr>\n",
       "      <th>2014</th>\n",
       "      <td>119</td>\n",
       "      <td>105157.894737</td>\n",
       "    </tr>\n",
       "    <tr>\n",
       "      <th>2015</th>\n",
       "      <td>1121</td>\n",
       "      <td>92785.714286</td>\n",
       "    </tr>\n",
       "    <tr>\n",
       "      <th>2016</th>\n",
       "      <td>2598</td>\n",
       "      <td>91666.666667</td>\n",
       "    </tr>\n",
       "    <tr>\n",
       "      <th>2017</th>\n",
       "      <td>7354</td>\n",
       "      <td>92624.237706</td>\n",
       "    </tr>\n",
       "    <tr>\n",
       "      <th>2018</th>\n",
       "      <td>6703</td>\n",
       "      <td>95764.272560</td>\n",
       "    </tr>\n",
       "    <tr>\n",
       "      <th>2019</th>\n",
       "      <td>1001</td>\n",
       "      <td>104444.444444</td>\n",
       "    </tr>\n",
       "  </tbody>\n",
       "</table>\n",
       "</div>"
      ],
      "text/plain": [
       "                  count             median\n",
       "     square_metre_price square_metre_price\n",
       "year                                      \n",
       "2014                119      105157.894737\n",
       "2015               1121       92785.714286\n",
       "2016               2598       91666.666667\n",
       "2017               7354       92624.237706\n",
       "2018               6703       95764.272560\n",
       "2019               1001      104444.444444"
      ]
     },
     "execution_count": 33,
     "metadata": {},
     "output_type": "execute_result"
    },
    {
     "data": {
      "image/png": "[encoded data removed]",
      "text/plain": [
       "<Figure size 432x288 with 1 Axes>"
      ]
     },
     "metadata": {
      "needs_background": "light"
     },
     "output_type": "display_data"
    }
   ],
   "source": [
    "pivot_year = good_data.pivot_table(index = 'year', values = 'square_metre_price', aggfunc = ['count','median'])\n",
    "pivot_year.plot(y='median')\n",
    "pivot_year"
   ]
  },
  {
   "cell_type": "markdown",
   "id": "f6d5760b",
   "metadata": {},
   "source": [
    "__Выводы по корреляции стоимости квадратного метра и других характеристик недвижимости__\n",
    "\n",
    "1) Самая сильная корреляция между ценой и стоимостью квадратного метра. Можно считать эти результаты дублирующими.\n",
    "\n",
    "2) Есть прямая зависимость между стоимостью квадратного метра и площадью объекта. Чем выше площадь объекта, тем выше цена. \n",
    "\n",
    "3) Есть прямая зависимость между стоимостью квадратного метра и близостью к центру.Чем меньше расстояние до центра города, тем выше цена квадратного метра.\n",
    "\n",
    "4) Остальные коррляции можно считать либо очень слабыми, либо отсутсвующими.\n",
    "\n",
    "5) Самым дешевым является первый этаж. За ним следует последний. Квартиры на других этажах имеют большую стоимость при прочих равных.\n",
    "\n",
    "6) Самые \"дорогие\" объявления обычно размещаюся в начале недели.К выходным цена падает.\n",
    "\n",
    "7) На протяжении года стоимость квадратного метра колеблется. Она имеет тенденцию на снижению весной, достигает пиковых значений летом и снижается осенью, слегка \"подпрыгивая\" к концу года.\n",
    "\n",
    "8) На протяжение всего наблюдаемого периода стоимость квадратного метра неуклонно растёт. Ускорее темпов роста наблюдается с 2019, когда цена год к году прибавила порядка 10%. "
   ]
  },
  {
   "cell_type": "markdown",
   "id": "0140fd82",
   "metadata": {},
   "source": [
    "5. Определим самые часто всречающиеся локации в нашей выборке и определим, где самый дорогой квадратный метр, а где самый дешевый."
   ]
  },
  {
   "cell_type": "code",
   "execution_count": 34,
   "id": "72ab17f9",
   "metadata": {},
   "outputs": [
    {
     "data": {
      "text/html": [
       "<div>\n",
       "<style scoped>\n",
       "    .dataframe tbody tr th:only-of-type {\n",
       "        vertical-align: middle;\n",
       "    }\n",
       "\n",
       "    .dataframe tbody tr th {\n",
       "        vertical-align: top;\n",
       "    }\n",
       "\n",
       "    .dataframe thead th {\n",
       "        text-align: right;\n",
       "    }\n",
       "</style>\n",
       "<table border=\"1\" class=\"dataframe\">\n",
       "  <thead>\n",
       "    <tr style=\"text-align: right;\">\n",
       "      <th></th>\n",
       "      <th>count</th>\n",
       "      <th>median</th>\n",
       "    </tr>\n",
       "    <tr>\n",
       "      <th>locality_name</th>\n",
       "      <th></th>\n",
       "      <th></th>\n",
       "    </tr>\n",
       "  </thead>\n",
       "  <tbody>\n",
       "    <tr>\n",
       "      <th>Санкт-Петербург</th>\n",
       "      <td>12744</td>\n",
       "      <td>103000.000000</td>\n",
       "    </tr>\n",
       "    <tr>\n",
       "      <th>посёлок Мурино</th>\n",
       "      <td>482</td>\n",
       "      <td>85697.390514</td>\n",
       "    </tr>\n",
       "    <tr>\n",
       "      <th>посёлок Шушары</th>\n",
       "      <td>372</td>\n",
       "      <td>76343.750000</td>\n",
       "    </tr>\n",
       "    <tr>\n",
       "      <th>Всеволожск</th>\n",
       "      <td>309</td>\n",
       "      <td>65454.545455</td>\n",
       "    </tr>\n",
       "    <tr>\n",
       "      <th>Пушкин</th>\n",
       "      <td>291</td>\n",
       "      <td>97938.144330</td>\n",
       "    </tr>\n",
       "    <tr>\n",
       "      <th>Колпино</th>\n",
       "      <td>276</td>\n",
       "      <td>74421.542553</td>\n",
       "    </tr>\n",
       "    <tr>\n",
       "      <th>деревня Кудрово</th>\n",
       "      <td>267</td>\n",
       "      <td>91666.666667</td>\n",
       "    </tr>\n",
       "    <tr>\n",
       "      <th>посёлок Парголово</th>\n",
       "      <td>266</td>\n",
       "      <td>92097.069597</td>\n",
       "    </tr>\n",
       "    <tr>\n",
       "      <th>Гатчина</th>\n",
       "      <td>245</td>\n",
       "      <td>66666.666667</td>\n",
       "    </tr>\n",
       "    <tr>\n",
       "      <th>Выборг</th>\n",
       "      <td>180</td>\n",
       "      <td>56897.463002</td>\n",
       "    </tr>\n",
       "  </tbody>\n",
       "</table>\n",
       "</div>"
      ],
      "text/plain": [
       "                   count         median\n",
       "locality_name                          \n",
       "Санкт-Петербург    12744  103000.000000\n",
       "посёлок Мурино       482   85697.390514\n",
       "посёлок Шушары       372   76343.750000\n",
       "Всеволожск           309   65454.545455\n",
       "Пушкин               291   97938.144330\n",
       "Колпино              276   74421.542553\n",
       "деревня Кудрово      267   91666.666667\n",
       "посёлок Парголово    266   92097.069597\n",
       "Гатчина              245   66666.666667\n",
       "Выборг               180   56897.463002"
      ]
     },
     "execution_count": 34,
     "metadata": {},
     "output_type": "execute_result"
    },
    {
     "data": {
      "image/png": "[encoded data removed]",
      "text/plain": [
       "<Figure size 432x288 with 1 Axes>"
      ]
     },
     "metadata": {
      "needs_background": "light"
     },
     "output_type": "display_data"
    }
   ],
   "source": [
    "locality_pivot = good_data.pivot_table(index = 'locality_name', values = 'square_metre_price', aggfunc= ['count', 'median'])\n",
    "locality_pivot.columns = ['count', 'median']\n",
    "locality_pivot = locality_pivot.sort_values('count', ascending=False).head(10)\n",
    "locality_pivot.plot(y='median', kind='bar')\n",
    "locality_pivot"
   ]
  },
  {
   "cell_type": "code",
   "execution_count": 36,
   "id": "9c278c66",
   "metadata": {},
   "outputs": [
    {
     "data": {
      "image/png": "[encoded data removed]",
      "text/plain": [
       "<Figure size 1440x720 with 1 Axes>"
      ]
     },
     "metadata": {
      "needs_background": "light"
     },
     "output_type": "display_data"
    }
   ],
   "source": [
    "ax = (good_data\n",
    "    .query('locality_name in @locality_pivot.index')\n",
    "    .boxplot('square_metre_price', by='locality_name', figsize=(20, 10))\n",
    ")\n",
    "ax.set_ylim(0, 200000);"
   ]
  },
  {
   "cell_type": "markdown",
   "id": "bc3339c7",
   "metadata": {},
   "source": [
    "__Локации и стоимость квадратного метра__\n",
    "\n",
    "Самая высокая стоимость квадратного метра в Санкт-Петербурге и Пушкине. Им несколько уступают Кудрово, Парголово и Мурино."
   ]
  },
  {
   "cell_type": "markdown",
   "id": "69fffb32",
   "metadata": {},
   "source": [
    "6. Определим стоимость квадратного метра в зависимсоти от близости к центру в Санкт-Петербурге."
   ]
  },
  {
   "cell_type": "code",
   "execution_count": 37,
   "id": "608b06f8",
   "metadata": {},
   "outputs": [
    {
     "data": {
      "text/html": [
       "<div>\n",
       "<style scoped>\n",
       "    .dataframe tbody tr th:only-of-type {\n",
       "        vertical-align: middle;\n",
       "    }\n",
       "\n",
       "    .dataframe tbody tr th {\n",
       "        vertical-align: top;\n",
       "    }\n",
       "\n",
       "    .dataframe thead th {\n",
       "        text-align: right;\n",
       "    }\n",
       "</style>\n",
       "<table border=\"1\" class=\"dataframe\">\n",
       "  <thead>\n",
       "    <tr style=\"text-align: right;\">\n",
       "      <th></th>\n",
       "      <th>square_metre_price</th>\n",
       "    </tr>\n",
       "    <tr>\n",
       "      <th>cityCenters_nearest_km</th>\n",
       "      <th></th>\n",
       "    </tr>\n",
       "  </thead>\n",
       "  <tbody>\n",
       "    <tr>\n",
       "      <th>0</th>\n",
       "      <td>187324.130319</td>\n",
       "    </tr>\n",
       "    <tr>\n",
       "      <th>1</th>\n",
       "      <td>166603.755531</td>\n",
       "    </tr>\n",
       "    <tr>\n",
       "      <th>2</th>\n",
       "      <td>146662.860056</td>\n",
       "    </tr>\n",
       "    <tr>\n",
       "      <th>3</th>\n",
       "      <td>129416.344615</td>\n",
       "    </tr>\n",
       "    <tr>\n",
       "      <th>4</th>\n",
       "      <td>137475.497055</td>\n",
       "    </tr>\n",
       "    <tr>\n",
       "      <th>5</th>\n",
       "      <td>146979.232519</td>\n",
       "    </tr>\n",
       "    <tr>\n",
       "      <th>6</th>\n",
       "      <td>152277.893519</td>\n",
       "    </tr>\n",
       "    <tr>\n",
       "      <th>7</th>\n",
       "      <td>141399.731456</td>\n",
       "    </tr>\n",
       "    <tr>\n",
       "      <th>8</th>\n",
       "      <td>120581.349830</td>\n",
       "    </tr>\n",
       "    <tr>\n",
       "      <th>9</th>\n",
       "      <td>110012.549686</td>\n",
       "    </tr>\n",
       "    <tr>\n",
       "      <th>10</th>\n",
       "      <td>111641.287182</td>\n",
       "    </tr>\n",
       "    <tr>\n",
       "      <th>11</th>\n",
       "      <td>106790.883882</td>\n",
       "    </tr>\n",
       "    <tr>\n",
       "      <th>12</th>\n",
       "      <td>108295.769255</td>\n",
       "    </tr>\n",
       "    <tr>\n",
       "      <th>13</th>\n",
       "      <td>107209.143992</td>\n",
       "    </tr>\n",
       "    <tr>\n",
       "      <th>14</th>\n",
       "      <td>104986.483351</td>\n",
       "    </tr>\n",
       "    <tr>\n",
       "      <th>15</th>\n",
       "      <td>101883.116013</td>\n",
       "    </tr>\n",
       "    <tr>\n",
       "      <th>16</th>\n",
       "      <td>100085.601721</td>\n",
       "    </tr>\n",
       "    <tr>\n",
       "      <th>17</th>\n",
       "      <td>94095.872357</td>\n",
       "    </tr>\n",
       "    <tr>\n",
       "      <th>18</th>\n",
       "      <td>94831.953162</td>\n",
       "    </tr>\n",
       "    <tr>\n",
       "      <th>19</th>\n",
       "      <td>95434.377295</td>\n",
       "    </tr>\n",
       "    <tr>\n",
       "      <th>20</th>\n",
       "      <td>107046.166047</td>\n",
       "    </tr>\n",
       "    <tr>\n",
       "      <th>21</th>\n",
       "      <td>91492.688149</td>\n",
       "    </tr>\n",
       "    <tr>\n",
       "      <th>22</th>\n",
       "      <td>88714.696974</td>\n",
       "    </tr>\n",
       "    <tr>\n",
       "      <th>23</th>\n",
       "      <td>92720.641577</td>\n",
       "    </tr>\n",
       "    <tr>\n",
       "      <th>24</th>\n",
       "      <td>82440.343912</td>\n",
       "    </tr>\n",
       "    <tr>\n",
       "      <th>25</th>\n",
       "      <td>91136.018511</td>\n",
       "    </tr>\n",
       "    <tr>\n",
       "      <th>26</th>\n",
       "      <td>75171.911041</td>\n",
       "    </tr>\n",
       "    <tr>\n",
       "      <th>27</th>\n",
       "      <td>132115.709459</td>\n",
       "    </tr>\n",
       "    <tr>\n",
       "      <th>28</th>\n",
       "      <td>81840.638722</td>\n",
       "    </tr>\n",
       "    <tr>\n",
       "      <th>29</th>\n",
       "      <td>62482.404228</td>\n",
       "    </tr>\n",
       "  </tbody>\n",
       "</table>\n",
       "</div>"
      ],
      "text/plain": [
       "                        square_metre_price\n",
       "cityCenters_nearest_km                    \n",
       "0                            187324.130319\n",
       "1                            166603.755531\n",
       "2                            146662.860056\n",
       "3                            129416.344615\n",
       "4                            137475.497055\n",
       "5                            146979.232519\n",
       "6                            152277.893519\n",
       "7                            141399.731456\n",
       "8                            120581.349830\n",
       "9                            110012.549686\n",
       "10                           111641.287182\n",
       "11                           106790.883882\n",
       "12                           108295.769255\n",
       "13                           107209.143992\n",
       "14                           104986.483351\n",
       "15                           101883.116013\n",
       "16                           100085.601721\n",
       "17                            94095.872357\n",
       "18                            94831.953162\n",
       "19                            95434.377295\n",
       "20                           107046.166047\n",
       "21                            91492.688149\n",
       "22                            88714.696974\n",
       "23                            92720.641577\n",
       "24                            82440.343912\n",
       "25                            91136.018511\n",
       "26                            75171.911041\n",
       "27                           132115.709459\n",
       "28                            81840.638722\n",
       "29                            62482.404228"
      ]
     },
     "execution_count": 37,
     "metadata": {},
     "output_type": "execute_result"
    },
    {
     "data": {
      "image/png": "[encoded data removed]",
      "text/plain": [
       "<Figure size 432x288 with 1 Axes>"
      ]
     },
     "metadata": {
      "needs_background": "light"
     },
     "output_type": "display_data"
    }
   ],
   "source": [
    "data['cityCenters_nearest_km'] = data['cityCenters_nearest'] / 1000 \n",
    "data['cityCenters_nearest_km'] = data['cityCenters_nearest_km'].fillna(9999)\n",
    "data['cityCenters_nearest_km'] = data['cityCenters_nearest_km'].astype('int')\n",
    "pivot_km = data.query('locality_name == \"Санкт-Петербург\" and cityCenters_nearest_km != 9999').pivot_table(index ='cityCenters_nearest_km', values='square_metre_price', aggfunc='mean')\n",
    "pivot_km.plot()\n",
    "pivot_km"
   ]
  },
  {
   "cell_type": "markdown",
   "id": "2f29c0df",
   "metadata": {},
   "source": [
    "__Изменение стоимости квадратного метра в зависимости от удалённости от центра Санкт-Петербурга__\n",
    "\n",
    "После 7-го киломметра стоимость квадрата резко падает. Можно предположить, что именно эта зона является центром города."
   ]
  },
  {
   "cell_type": "markdown",
   "id": "e39f33a6",
   "metadata": {},
   "source": [
    "7. Теперь проанализируем квартиры в центре Петербурга и определим, отличаются ли факторы, влияющие на ценообразование для этого региона по сравнению со всей выборкой.\n",
    "\n",
    "За центр, как следует из предыдущего пункта, мы будем принимать район от 0 до 7 км включительно.\n",
    "\n",
    "Мы проанализируем специфику объектов недвижимости в центре по следующим параметрам: стоимость продажи, общая площадь, количество комнат и высота потолков. Теже самые процедуры мы применили ко всей выборке в пункте 4.1. "
   ]
  },
  {
   "cell_type": "code",
   "execution_count": 38,
   "id": "fe4ea15e",
   "metadata": {},
   "outputs": [
    {
     "data": {
      "text/plain": [
       "count    3712.000000\n",
       "mean       92.328303\n",
       "std        60.531664\n",
       "min        12.000000\n",
       "25%        56.000000\n",
       "50%        77.760000\n",
       "75%       108.725000\n",
       "max       900.000000\n",
       "Name: total_area, dtype: float64"
      ]
     },
     "execution_count": 38,
     "metadata": {},
     "output_type": "execute_result"
    },
    {
     "data": {
      "image/png": "[encoded data removed]",
      "text/plain": [
       "<Figure size 360x216 with 1 Axes>"
      ]
     },
     "metadata": {
      "needs_background": "light"
     },
     "output_type": "display_data"
    }
   ],
   "source": [
    "spb_centre_data = data.query('locality_name == \"Санкт-Петербург\" and cityCenters_nearest_km <= 7')\n",
    "spb_centre_data.plot(y = 'total_area', kind='hist', bins=100, grid=True, figsize=(5,3), range=(0,1000))\n",
    "spb_centre_data['total_area'].describe()"
   ]
  },
  {
   "cell_type": "code",
   "execution_count": 39,
   "id": "e46b9e0c",
   "metadata": {},
   "outputs": [
    {
     "data": {
      "text/plain": [
       "count    3.712000e+03\n",
       "mean     1.472962e+07\n",
       "std      2.470451e+07\n",
       "min      1.600000e+06\n",
       "25%      6.590000e+06\n",
       "50%      9.000000e+06\n",
       "75%      1.413138e+07\n",
       "max      7.630000e+08\n",
       "Name: last_price, dtype: float64"
      ]
     },
     "execution_count": 39,
     "metadata": {},
     "output_type": "execute_result"
    },
    {
     "data": {
      "image/png": "[encoded data removed]",
      "text/plain": [
       "<Figure size 720x216 with 1 Axes>"
      ]
     },
     "metadata": {
      "needs_background": "light"
     },
     "output_type": "display_data"
    }
   ],
   "source": [
    "spb_centre_data.plot(y = 'last_price', kind='hist', bins=30, grid=True, figsize=(10,3), range=(0,30000000))\n",
    "spb_centre_data['last_price'].describe()"
   ]
  },
  {
   "cell_type": "code",
   "execution_count": 40,
   "id": "9355a519",
   "metadata": {},
   "outputs": [
    {
     "data": {
      "text/plain": [
       "count    3712.000000\n",
       "mean        2.813308\n",
       "std         1.456235\n",
       "min         0.000000\n",
       "25%         2.000000\n",
       "50%         3.000000\n",
       "75%         3.000000\n",
       "max        19.000000\n",
       "Name: rooms, dtype: float64"
      ]
     },
     "execution_count": 40,
     "metadata": {},
     "output_type": "execute_result"
    },
    {
     "data": {
      "image/png": "[encoded data removed]",
      "text/plain": [
       "<Figure size 720x360 with 1 Axes>"
      ]
     },
     "metadata": {
      "needs_background": "light"
     },
     "output_type": "display_data"
    }
   ],
   "source": [
    "spb_centre_data.plot(y = 'rooms', kind='hist', bins=30, grid=True, figsize=(10,5))\n",
    "spb_centre_data['rooms'].describe()"
   ]
  },
  {
   "cell_type": "code",
   "execution_count": 41,
   "id": "3e538fe5",
   "metadata": {},
   "outputs": [
    {
     "data": {
      "text/plain": [
       "count    3712.000000\n",
       "mean        2.986251\n",
       "std         0.706277\n",
       "min         2.000000\n",
       "25%         2.771499\n",
       "50%         2.800000\n",
       "75%         3.102500\n",
       "max        32.000000\n",
       "Name: ceiling_height, dtype: float64"
      ]
     },
     "execution_count": 41,
     "metadata": {},
     "output_type": "execute_result"
    },
    {
     "data": {
      "image/png": "[encoded data removed]",
      "text/plain": [
       "<Figure size 360x216 with 1 Axes>"
      ]
     },
     "metadata": {
      "needs_background": "light"
     },
     "output_type": "display_data"
    }
   ],
   "source": [
    "spb_centre_data.plot(y = 'ceiling_height', kind='hist', bins=50, grid=True, figsize=(5,3), range=(2,5))\n",
    "spb_centre_data['ceiling_height'].describe()"
   ]
  },
  {
   "cell_type": "markdown",
   "id": "f5c6263d",
   "metadata": {},
   "source": [
    "__Вывод по специфике объектов недвижимости в центре Санкт-Петербурга__\n",
    "\n",
    "1. Средняя площадь недвижимости в центре - 90 квадратных метров. Это в полтора раза больше, чем в среднем по всей выборке.\n",
    "\n",
    "2. Средняя стоимость объекта в центре составляет 14.5 млн. что в два с лишним раза превосходит среднее значение по всей выборке - 6.5 млн. \n",
    "\n",
    "3. В центре Санкт-Петербурга преобладают квартиры с 3-мя комнатами, им слегка уступают \"двушки\". В то время, как в основной выборке доминируют предложения по \"однушкам\" и \"двушкам\".\n",
    "\n",
    "4. Величина потолка в центре - почти 3 метра, что побольше, чем в среднем по выборке. \n",
    "\n",
    "Средний объект невдвижимости в центре Санкт-Петербурга - это трёхкомнатная квратира, около 90 квадратных метров, с выоским потолком, парком и водоёмом в пещей доступности. Но и цена у такого объекта порядка 14,5 млн."
   ]
  },
  {
   "cell_type": "code",
   "execution_count": 42,
   "id": "80768e00",
   "metadata": {},
   "outputs": [
    {
     "data": {
      "text/plain": [
       "square_metre_price        1.000000\n",
       "last_price                0.736499\n",
       "kitchen_area              0.397493\n",
       "total_area                0.301960\n",
       "living_area               0.226346\n",
       "ponds_around3000          0.191039\n",
       "parks_around3000          0.185163\n",
       "kithcen_space_ratio       0.158369\n",
       "floors_total              0.148098\n",
       "total_images              0.132780\n",
       "floor                     0.129068\n",
       "ceiling_height            0.096725\n",
       "rooms                     0.055420\n",
       "is_apartment              0.044725\n",
       "balcony                   0.023376\n",
       "days_exposition           0.020332\n",
       "studio                    0.015636\n",
       "year                      0.008516\n",
       "open_plan                 0.008266\n",
       "parks_nearest             0.006933\n",
       "month                    -0.001995\n",
       "day                      -0.007272\n",
       "airports_nearest         -0.038734\n",
       "ponds_nearest            -0.104974\n",
       "living_space_ratio       -0.149427\n",
       "cityCenters_nearest      -0.317951\n",
       "cityCenters_nearest_km   -0.404932\n",
       "Name: square_metre_price, dtype: float64"
      ]
     },
     "execution_count": 42,
     "metadata": {},
     "output_type": "execute_result"
    }
   ],
   "source": [
    "corr_spb_data = data.corr()\n",
    "corr_spb_data['square_metre_price'].sort_values(ascending=False)"
   ]
  },
  {
   "cell_type": "markdown",
   "id": "29f9db83",
   "metadata": {},
   "source": [
    "__Интерпретация значений корреляции__\n",
    "\n",
    "- Видим высокую прямую корреляцию между стоимостью квадратного метра и стоимостью объекта. В дорогих объектах дорогой квадрат. \n",
    "\n",
    "- Умеренная прямая корреляция наблюдается между площадью кухни и общей площадью, с одной стороны, и стоимостью квадрата с другой. Чем больше площадь(общая или кухни), тем выше цена.\n",
    "\n",
    "- Умеренная обратная корреляция существует между стоимостью квадрата и близостью центра города. Чем меньше расстояние о центра, тем выше стоимость квадратного метра. \n",
    "\n",
    "- Слабая прямая коррелция также наблюдается с такими характеристиками, как: жилая площадь, наличие в радиусе 3 км парков и прудов, отношением площади кухни к площади всего объекта, этажностью дома, этажом объекта, количеством изображений. А вот высота птолков,  отличии от общей выборки, из этого списка выпала.\n",
    "\n",
    "- Слабая обратная корреляция наблюдается между стоимостью квадратного метра и отношением жилой площади к площади всей квартиры. Также слабая зависимомть появилась между расстоянием до ближайшего водоёма и стоимостью квадрата. Однако для центра Санк-Петербурга, с его каналами и прудами и Невой, это выглядит, скорее, как совпадение.  "
   ]
  },
  {
   "cell_type": "markdown",
   "id": "d5f93b70",
   "metadata": {},
   "source": [
    "Посмотрим на взимосвязь ключевых характеристик со стоимостью квадрата на разных графиках. \n",
    "Начнём с общей площади объекта."
   ]
  },
  {
   "cell_type": "code",
   "execution_count": 43,
   "id": "2bfd23d0",
   "metadata": {},
   "outputs": [
    {
     "data": {
      "image/png": "[encoded data removed]",
      "text/plain": [
       "<Figure size 432x288 with 1 Axes>"
      ]
     },
     "metadata": {
      "needs_background": "light"
     },
     "output_type": "display_data"
    }
   ],
   "source": [
    "pivot_spb_area = spb_centre_data.pivot_table(index='total_area', values='square_metre_price', aggfunc=['count', 'mean', 'median'])\n",
    "pivot_spb_area.columns = ['count', 'mean', 'median']\n",
    "pivot_spb_area.plot(y='median', style= 'o', alpha = 0.09);"
   ]
  },
  {
   "cell_type": "markdown",
   "id": "d70b6e4f",
   "metadata": {},
   "source": [
    "График подтверждает данные таблицы с корреляциями."
   ]
  },
  {
   "cell_type": "markdown",
   "id": "3dddf174",
   "metadata": {},
   "source": [
    "Построим график для количества комнат и стоимости квадрата."
   ]
  },
  {
   "cell_type": "code",
   "execution_count": 44,
   "id": "0ffa7a9e",
   "metadata": {},
   "outputs": [
    {
     "data": {
      "image/png": "[encoded data removed]",
      "text/plain": [
       "<Figure size 432x288 with 1 Axes>"
      ]
     },
     "metadata": {
      "needs_background": "light"
     },
     "output_type": "display_data"
    }
   ],
   "source": [
    "pivot_spb_rooms = spb_centre_data.pivot_table(index='rooms', values='square_metre_price', aggfunc=['count', 'mean', 'median'])\n",
    "pivot_spb_rooms.columns = ['count', 'mean', 'median']\n",
    "pivot_spb_rooms.query('count > 50').plot(y='median');"
   ]
  },
  {
   "cell_type": "markdown",
   "id": "eb11ee13",
   "metadata": {},
   "source": [
    "Для центра Санкт-Петербурга гораздо отчётливей видим тренд на снижение цены, в зависимости от количества комнат. Квартиры с 6-ю комнатами покупать выгодне всего."
   ]
  },
  {
   "cell_type": "code",
   "execution_count": 45,
   "id": "1995046e",
   "metadata": {},
   "outputs": [
    {
     "data": {
      "image/png": "[encoded data removed]",
      "text/plain": [
       "<Figure size 432x288 with 1 Axes>"
      ]
     },
     "metadata": {
      "needs_background": "light"
     },
     "output_type": "display_data"
    }
   ],
   "source": [
    "spb_centre_data.plot(x='cityCenters_nearest', y='square_metre_price', kind='scatter', alpha=0.09);"
   ]
  },
  {
   "cell_type": "markdown",
   "id": "6c9de51d",
   "metadata": {},
   "source": [
    "На графике видим, что для центрального района приближение к \"нулевому километру\" не столь актально. "
   ]
  },
  {
   "cell_type": "markdown",
   "id": "7d167029",
   "metadata": {},
   "source": [
    "Отдельно посчитаем взаимосвязь стоимости квадрата в центре Санкт-Петербурга и этажности."
   ]
  },
  {
   "cell_type": "code",
   "execution_count": 46,
   "id": "bffe21e2",
   "metadata": {},
   "outputs": [
    {
     "data": {
      "text/html": [
       "<div>\n",
       "<style scoped>\n",
       "    .dataframe tbody tr th:only-of-type {\n",
       "        vertical-align: middle;\n",
       "    }\n",
       "\n",
       "    .dataframe tbody tr th {\n",
       "        vertical-align: top;\n",
       "    }\n",
       "\n",
       "    .dataframe thead tr th {\n",
       "        text-align: left;\n",
       "    }\n",
       "\n",
       "    .dataframe thead tr:last-of-type th {\n",
       "        text-align: right;\n",
       "    }\n",
       "</style>\n",
       "<table border=\"1\" class=\"dataframe\">\n",
       "  <thead>\n",
       "    <tr>\n",
       "      <th></th>\n",
       "      <th>count</th>\n",
       "      <th>median</th>\n",
       "    </tr>\n",
       "    <tr>\n",
       "      <th></th>\n",
       "      <th>square_metre_price</th>\n",
       "      <th>square_metre_price</th>\n",
       "    </tr>\n",
       "    <tr>\n",
       "      <th>floor_category</th>\n",
       "      <th></th>\n",
       "      <th></th>\n",
       "    </tr>\n",
       "  </thead>\n",
       "  <tbody>\n",
       "    <tr>\n",
       "      <th>Другой</th>\n",
       "      <td>2653</td>\n",
       "      <td>127551.020408</td>\n",
       "    </tr>\n",
       "    <tr>\n",
       "      <th>Первый</th>\n",
       "      <td>407</td>\n",
       "      <td>108653.846154</td>\n",
       "    </tr>\n",
       "    <tr>\n",
       "      <th>Последний</th>\n",
       "      <td>652</td>\n",
       "      <td>116873.156342</td>\n",
       "    </tr>\n",
       "  </tbody>\n",
       "</table>\n",
       "</div>"
      ],
      "text/plain": [
       "                            count             median\n",
       "               square_metre_price square_metre_price\n",
       "floor_category                                      \n",
       "Другой                       2653      127551.020408\n",
       "Первый                        407      108653.846154\n",
       "Последний                     652      116873.156342"
      ]
     },
     "execution_count": 46,
     "metadata": {},
     "output_type": "execute_result"
    },
    {
     "data": {
      "image/png": "[encoded data removed]",
      "text/plain": [
       "<Figure size 432x288 with 1 Axes>"
      ]
     },
     "metadata": {
      "needs_background": "light"
     },
     "output_type": "display_data"
    }
   ],
   "source": [
    "pivot_spb_floor_category = spb_centre_data.pivot_table(index = 'floor_category', values = 'square_metre_price', aggfunc = ['count','median'])\n",
    "pivot_spb_floor_category.plot(y='median')\n",
    "pivot_spb_floor_category"
   ]
  },
  {
   "cell_type": "markdown",
   "id": "f5e94cf0",
   "metadata": {},
   "source": [
    "Посчитаем взаимосвязь стоимости квадрата в центре Санкт-Петербурга от даты публикации объявления: дня, месяца и года"
   ]
  },
  {
   "cell_type": "code",
   "execution_count": 47,
   "id": "146fc6b3",
   "metadata": {},
   "outputs": [
    {
     "data": {
      "text/html": [
       "<div>\n",
       "<style scoped>\n",
       "    .dataframe tbody tr th:only-of-type {\n",
       "        vertical-align: middle;\n",
       "    }\n",
       "\n",
       "    .dataframe tbody tr th {\n",
       "        vertical-align: top;\n",
       "    }\n",
       "\n",
       "    .dataframe thead tr th {\n",
       "        text-align: left;\n",
       "    }\n",
       "\n",
       "    .dataframe thead tr:last-of-type th {\n",
       "        text-align: right;\n",
       "    }\n",
       "</style>\n",
       "<table border=\"1\" class=\"dataframe\">\n",
       "  <thead>\n",
       "    <tr>\n",
       "      <th></th>\n",
       "      <th>count</th>\n",
       "      <th>median</th>\n",
       "    </tr>\n",
       "    <tr>\n",
       "      <th></th>\n",
       "      <th>square_metre_price</th>\n",
       "      <th>square_metre_price</th>\n",
       "    </tr>\n",
       "    <tr>\n",
       "      <th>day</th>\n",
       "      <th></th>\n",
       "      <th></th>\n",
       "    </tr>\n",
       "  </thead>\n",
       "  <tbody>\n",
       "    <tr>\n",
       "      <th>0</th>\n",
       "      <td>560</td>\n",
       "      <td>125816.438787</td>\n",
       "    </tr>\n",
       "    <tr>\n",
       "      <th>1</th>\n",
       "      <td>631</td>\n",
       "      <td>120930.232558</td>\n",
       "    </tr>\n",
       "    <tr>\n",
       "      <th>2</th>\n",
       "      <td>637</td>\n",
       "      <td>124590.163934</td>\n",
       "    </tr>\n",
       "    <tr>\n",
       "      <th>3</th>\n",
       "      <td>763</td>\n",
       "      <td>121328.224777</td>\n",
       "    </tr>\n",
       "    <tr>\n",
       "      <th>4</th>\n",
       "      <td>629</td>\n",
       "      <td>124705.882353</td>\n",
       "    </tr>\n",
       "    <tr>\n",
       "      <th>5</th>\n",
       "      <td>282</td>\n",
       "      <td>128567.538126</td>\n",
       "    </tr>\n",
       "    <tr>\n",
       "      <th>6</th>\n",
       "      <td>210</td>\n",
       "      <td>129122.870605</td>\n",
       "    </tr>\n",
       "  </tbody>\n",
       "</table>\n",
       "</div>"
      ],
      "text/plain": [
       "                 count             median\n",
       "    square_metre_price square_metre_price\n",
       "day                                      \n",
       "0                  560      125816.438787\n",
       "1                  631      120930.232558\n",
       "2                  637      124590.163934\n",
       "3                  763      121328.224777\n",
       "4                  629      124705.882353\n",
       "5                  282      128567.538126\n",
       "6                  210      129122.870605"
      ]
     },
     "execution_count": 47,
     "metadata": {},
     "output_type": "execute_result"
    },
    {
     "data": {
      "image/png": "[encoded data removed]",
      "text/plain": [
       "<Figure size 432x288 with 1 Axes>"
      ]
     },
     "metadata": {
      "needs_background": "light"
     },
     "output_type": "display_data"
    }
   ],
   "source": [
    "pivot_spb_day = spb_centre_data.pivot_table(index = 'day', values = 'square_metre_price', aggfunc = ['count','median'])\n",
    "pivot_spb_day.plot(y='median')\n",
    "pivot_spb_day"
   ]
  },
  {
   "cell_type": "code",
   "execution_count": 48,
   "id": "548096fb",
   "metadata": {},
   "outputs": [
    {
     "data": {
      "text/html": [
       "<div>\n",
       "<style scoped>\n",
       "    .dataframe tbody tr th:only-of-type {\n",
       "        vertical-align: middle;\n",
       "    }\n",
       "\n",
       "    .dataframe tbody tr th {\n",
       "        vertical-align: top;\n",
       "    }\n",
       "\n",
       "    .dataframe thead tr th {\n",
       "        text-align: left;\n",
       "    }\n",
       "\n",
       "    .dataframe thead tr:last-of-type th {\n",
       "        text-align: right;\n",
       "    }\n",
       "</style>\n",
       "<table border=\"1\" class=\"dataframe\">\n",
       "  <thead>\n",
       "    <tr>\n",
       "      <th></th>\n",
       "      <th>count</th>\n",
       "      <th>median</th>\n",
       "    </tr>\n",
       "    <tr>\n",
       "      <th></th>\n",
       "      <th>square_metre_price</th>\n",
       "      <th>square_metre_price</th>\n",
       "    </tr>\n",
       "    <tr>\n",
       "      <th>month</th>\n",
       "      <th></th>\n",
       "      <th></th>\n",
       "    </tr>\n",
       "  </thead>\n",
       "  <tbody>\n",
       "    <tr>\n",
       "      <th>1</th>\n",
       "      <td>226</td>\n",
       "      <td>130366.972477</td>\n",
       "    </tr>\n",
       "    <tr>\n",
       "      <th>2</th>\n",
       "      <td>406</td>\n",
       "      <td>121355.287326</td>\n",
       "    </tr>\n",
       "    <tr>\n",
       "      <th>3</th>\n",
       "      <td>395</td>\n",
       "      <td>130890.052356</td>\n",
       "    </tr>\n",
       "    <tr>\n",
       "      <th>4</th>\n",
       "      <td>350</td>\n",
       "      <td>126337.691844</td>\n",
       "    </tr>\n",
       "    <tr>\n",
       "      <th>5</th>\n",
       "      <td>208</td>\n",
       "      <td>122336.834209</td>\n",
       "    </tr>\n",
       "    <tr>\n",
       "      <th>6</th>\n",
       "      <td>303</td>\n",
       "      <td>119736.842105</td>\n",
       "    </tr>\n",
       "    <tr>\n",
       "      <th>7</th>\n",
       "      <td>288</td>\n",
       "      <td>118922.668759</td>\n",
       "    </tr>\n",
       "    <tr>\n",
       "      <th>8</th>\n",
       "      <td>273</td>\n",
       "      <td>125714.285714</td>\n",
       "    </tr>\n",
       "    <tr>\n",
       "      <th>9</th>\n",
       "      <td>323</td>\n",
       "      <td>123966.942149</td>\n",
       "    </tr>\n",
       "    <tr>\n",
       "      <th>10</th>\n",
       "      <td>311</td>\n",
       "      <td>121153.846154</td>\n",
       "    </tr>\n",
       "    <tr>\n",
       "      <th>11</th>\n",
       "      <td>373</td>\n",
       "      <td>122989.929329</td>\n",
       "    </tr>\n",
       "    <tr>\n",
       "      <th>12</th>\n",
       "      <td>256</td>\n",
       "      <td>121241.035465</td>\n",
       "    </tr>\n",
       "  </tbody>\n",
       "</table>\n",
       "</div>"
      ],
      "text/plain": [
       "                   count             median\n",
       "      square_metre_price square_metre_price\n",
       "month                                      \n",
       "1                    226      130366.972477\n",
       "2                    406      121355.287326\n",
       "3                    395      130890.052356\n",
       "4                    350      126337.691844\n",
       "5                    208      122336.834209\n",
       "6                    303      119736.842105\n",
       "7                    288      118922.668759\n",
       "8                    273      125714.285714\n",
       "9                    323      123966.942149\n",
       "10                   311      121153.846154\n",
       "11                   373      122989.929329\n",
       "12                   256      121241.035465"
      ]
     },
     "execution_count": 48,
     "metadata": {},
     "output_type": "execute_result"
    },
    {
     "data": {
      "image/png": "[encoded data removed]",
      "text/plain": [
       "<Figure size 432x288 with 1 Axes>"
      ]
     },
     "metadata": {
      "needs_background": "light"
     },
     "output_type": "display_data"
    }
   ],
   "source": [
    "pivot_spb_month = spb_centre_data.pivot_table(index = 'month', values = 'square_metre_price', aggfunc = ['count','median'])\n",
    "pivot_spb_month.plot(y='median')\n",
    "pivot_spb_month"
   ]
  },
  {
   "cell_type": "code",
   "execution_count": 49,
   "id": "06ac493d",
   "metadata": {},
   "outputs": [
    {
     "data": {
      "text/html": [
       "<div>\n",
       "<style scoped>\n",
       "    .dataframe tbody tr th:only-of-type {\n",
       "        vertical-align: middle;\n",
       "    }\n",
       "\n",
       "    .dataframe tbody tr th {\n",
       "        vertical-align: top;\n",
       "    }\n",
       "\n",
       "    .dataframe thead tr th {\n",
       "        text-align: left;\n",
       "    }\n",
       "\n",
       "    .dataframe thead tr:last-of-type th {\n",
       "        text-align: right;\n",
       "    }\n",
       "</style>\n",
       "<table border=\"1\" class=\"dataframe\">\n",
       "  <thead>\n",
       "    <tr>\n",
       "      <th></th>\n",
       "      <th>count</th>\n",
       "      <th>median</th>\n",
       "    </tr>\n",
       "    <tr>\n",
       "      <th></th>\n",
       "      <th>square_metre_price</th>\n",
       "      <th>square_metre_price</th>\n",
       "    </tr>\n",
       "    <tr>\n",
       "      <th>year</th>\n",
       "      <th></th>\n",
       "      <th></th>\n",
       "    </tr>\n",
       "  </thead>\n",
       "  <tbody>\n",
       "    <tr>\n",
       "      <th>2014</th>\n",
       "      <td>27</td>\n",
       "      <td>143465.553236</td>\n",
       "    </tr>\n",
       "    <tr>\n",
       "      <th>2015</th>\n",
       "      <td>328</td>\n",
       "      <td>119102.173434</td>\n",
       "    </tr>\n",
       "    <tr>\n",
       "      <th>2016</th>\n",
       "      <td>522</td>\n",
       "      <td>119047.619048</td>\n",
       "    </tr>\n",
       "    <tr>\n",
       "      <th>2017</th>\n",
       "      <td>1331</td>\n",
       "      <td>121698.113208</td>\n",
       "    </tr>\n",
       "    <tr>\n",
       "      <th>2018</th>\n",
       "      <td>1103</td>\n",
       "      <td>124742.268041</td>\n",
       "    </tr>\n",
       "    <tr>\n",
       "      <th>2019</th>\n",
       "      <td>401</td>\n",
       "      <td>135614.179720</td>\n",
       "    </tr>\n",
       "  </tbody>\n",
       "</table>\n",
       "</div>"
      ],
      "text/plain": [
       "                  count             median\n",
       "     square_metre_price square_metre_price\n",
       "year                                      \n",
       "2014                 27      143465.553236\n",
       "2015                328      119102.173434\n",
       "2016                522      119047.619048\n",
       "2017               1331      121698.113208\n",
       "2018               1103      124742.268041\n",
       "2019                401      135614.179720"
      ]
     },
     "execution_count": 49,
     "metadata": {},
     "output_type": "execute_result"
    },
    {
     "data": {
      "image/png": "[encoded data removed]",
      "text/plain": [
       "<Figure size 432x288 with 1 Axes>"
      ]
     },
     "metadata": {
      "needs_background": "light"
     },
     "output_type": "display_data"
    }
   ],
   "source": [
    "pivot_spb_year = spb_centre_data.pivot_table(index = 'year', values = 'square_metre_price', aggfunc = ['count','median'])\n",
    "pivot_spb_year.plot(y='median')\n",
    "pivot_spb_year"
   ]
  },
  {
   "cell_type": "markdown",
   "id": "d1c95e9b",
   "metadata": {},
   "source": [
    "__Вывод о факторах, вдияющих на стоимость квадратного метра в центе Санк-Петербурга__\n",
    "\n",
    "1) Самая сильная прямая корреляция наблюдается между стоимостью квадрата и площадью. Чем больше площадь квартиры, тем выше стоимость.\n",
    "\n",
    "2) Для выборки по центру Санкт-Петербурга весомой является корреляция стоимости квадрата и приближением к \"нулевому киллометру\".\n",
    "\n",
    "3) Остальные характеристики можно считать не оказывающими влияние на выборку.\n",
    "\n",
    "4) В центре Санкт-Петербурга, также как и в основной выборке, самым дешевым является первый этаж. За ним идёт последний этаж. Самые дорогие - этажи со второго до предпоследнего. Но, в Санкт-Петербурге разница в стоимости между этажами чуть меньше, чем в целом по выборке.\n",
    "\n",
    "5) В Санкт-Петербурге самая высокая стоимость квадратного метра отмечается в конце недели - в субботу и воскресенье - а не в начале недели, как в основной выборке.\n",
    "\n",
    "6) В Санкт-Петербурге наблюдается и отличная от основной выборки \"сезонность\". Самая высокая стоимость квадрата приходится на первые месяцы года, за исключеникм февраля. К лету стоимость падает и слегка поднимается к осени.\n",
    "\n",
    "7) В отличие от основной выборки, в центре Санкт-Петербурга к 2015 году можно отметить падение стоимости квадратного метра. Начиная с 2016 года виден тренд на рост. Однако темпы роста цен здесь ниже, чем в целом повыборке. Можно сказать, что спальные районы и область в рассматриваемый период старались догнать по ценам центр. "
   ]
  },
  {
   "cell_type": "markdown",
   "id": "0efcf363",
   "metadata": {},
   "source": [
    "## Общий вывод"
   ]
  },
  {
   "cell_type": "markdown",
   "id": "213069ae",
   "metadata": {},
   "source": [
    "### Предоброботка данных\n",
    "\n",
    "- Выявили пропуски в данных.\n",
    "\n",
    "- Там где это было уместно, заменили. Высоту потолка - средним значением, которое составило 2.77.\n",
    "\n",
    "- Убрали выбросы на 45, 60 и 90 в 'days_exposition'. Выбросы составили 6,8%. \n",
    "\n",
    "- Природу выбросов в 'days_exposition' нужно уточнить отдельно. \n",
    "\n",
    "### Дополнитльные расчёты\n",
    "\n",
    "- Ввели столбец со стоимостью квадратного метра для каждого объекта.\n",
    "\n",
    "- Добавили столбцы с днём, месяцем и годом подачи объявления, чтобы отследить изменение цены по времени.\n",
    "\n",
    "- Расчитали и добавили в таблицу категоризацию этажности: первый, последний, другой.\n",
    "\n",
    "- Посчитали отношение жилой площади и кухни к общей. Результаты получили отраженеи в датафрейме.\n",
    "\n",
    "- Определили десять самых частовстречающихся локации в выборке.\n",
    "\n",
    "- Определили стоимость самой дорогой локации в выборке.\n",
    "\n",
    "- Определили центр Санкт-Петербурга - от 0 до 7 км. включительно.\n",
    "\n",
    "\n",
    "### Анализ данных\n",
    "\n",
    "#### По всей выборке\n",
    "\n",
    "- Средняя площадь объекта недвижимости - 60.3 кв.м.\n",
    "\n",
    "- Средняя цена объекта - 6.5 млн.\n",
    "\n",
    "- Среднее количество комнат - 2. \n",
    "\n",
    "- Средняя высота потолка - 2.77 м.\n",
    "\n",
    "- Среднее время продажи квартиры составляет 109 дней.\n",
    "\n",
    "- Если сделка была совершенна не позднее 33 дней с момента публикации объявления, то её можно считать очень быстрой. \n",
    "\n",
    "- Если позже 165 дня - то аномально долгой. \n",
    "\n",
    "- На стоимость квадратного мтера сильнее всего влияют:  площадю кухни и общяя площадь.\n",
    "\n",
    "- Умеренно влияет близость к центру города.\n",
    "\n",
    "- Слабао влияют: жилая площадь, наличие в радиусе 3 км парков и прудов, отношением площади кухни к площади всего объекта, этажность дома, этаж объекта, количеством изображений, высота потолков.\n",
    "\n",
    "- Самый дорогой кв.м в однушках и квартирах с 7-ю и более комнатами.\n",
    "\n",
    "- Стоимость кв.м на первых этажах самая низкая. Чуть больше стоимость на последнем этаже.\n",
    "\n",
    "- Самая высокая стоимость кв.м в объявлениях, орубликованных в середине недели.\n",
    "\n",
    "- Весной стоимость квартир снижается. \n",
    "\n",
    "- Летом стоимость квартир достигает пиковых значений, но снижается осенью. Небольшой всплеск в стоимости отмечается к концу года.\n",
    "\n",
    "- Есть тренд на рост стоимости квартир. Темпы роста особенно ускорились в 2019 году.\n",
    "\n",
    "- Самая высокая стоимость квадратного метра в Санкт-Петербурге и Пушкине. Им несколько уступают Кудрово, Парголово и Мурино.\n",
    "\n",
    "\n",
    "#### По центру Санк-Петербурга\n",
    "\n",
    "- Средняя площадь недвижимости в центре - 90 квадратных метров. \n",
    "\n",
    "- Средняя стоимость объекта в центре составляет 14.5 млн. \n",
    "\n",
    "- В центре Санкт-Петербурга преобладают квартиры с 3-мя комнатами, им слегка уступают \"двушки\". \n",
    "\n",
    "- Величина потолка в центре - 2.98 м.\n",
    "\n",
    "- На стоимость квадратног ометра умеренно влияют: площадь кухни и общяя площадью.\n",
    "\n",
    "- Умеренная обратная корреляция существует между стоимостью квадрата и близостью центра города. \n",
    "\n",
    "- Слабая прямая коррелция также наблюдается с такими характеристиками, как: жилая площадь, наличие в радиусе 3 км парков и прудов, отношением площади кухни к площади всего объекта, этажностью дома, этажом объекта, количеством изображений. \n",
    "\n",
    "- Слабая обратная корреляция наблюдается между стоимостью квадратного метра и отношением жилой площади к площади всей квартиры,а также расстоянием до ближайшего водоёма и стоимостью квадрата (что, скорее всего, является совпадением).\n",
    "\n",
    "- Самый дорогой кв.м. в \"однушках\".\n",
    "\n",
    "- Самый дешёвый - в 5-ти и 6-ти комнатных квартирах. \n",
    "\n",
    "- Самый дешёвый этаж - первый. За ним следует последний. \n",
    "\n",
    "- Объявления с самыми дорогими предложениями в Петербурге публикуются в конце недели - в субботу и воскресенье.\n",
    "\n",
    "- Пик стоимости кв.м. приходится на начало года. Кроме февраля. \n",
    "\n",
    "- К середине лета обычно идёт спад. За тем наступает подъём до середины осени.\n",
    "\n",
    "- В 2014 году в Санкт-Петербурге произошло падение стоимости кв.м.\n",
    "\n",
    "- С 2016 года наметился рост, но средних значений 2014 года кв.м не достиг."
   ]
  }
 ],
 "metadata": {
  "kernelspec": {
   "display_name": "Python 3 (ipykernel)",
   "language": "python",
   "name": "python3"
  },
  "language_info": {
   "codemirror_mode": {
    "name": "ipython",
    "version": 3
   },
   "file_extension": ".py",
   "mimetype": "text/x-python",
   "name": "python",
   "nbconvert_exporter": "python",
   "pygments_lexer": "ipython3",
   "version": "3.9.12"
  }
 },
 "nbformat": 4,
 "nbformat_minor": 5
}
